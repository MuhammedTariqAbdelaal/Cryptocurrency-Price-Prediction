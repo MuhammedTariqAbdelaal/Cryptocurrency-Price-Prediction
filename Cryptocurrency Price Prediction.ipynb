{
 "cells": [
  {
   "cell_type": "code",
   "execution_count": 4,
   "id": "3d574427",
   "metadata": {},
   "outputs": [
    {
     "name": "stdout",
     "output_type": "stream",
     "text": [
      "Defaulting to user installation because normal site-packages is not writeable\n",
      "Collecting autots\n",
      "  Obtaining dependency information for autots from https://files.pythonhosted.org/packages/84/b9/2a4bd27749d9ff6f91435e4e32707b862769610ff1c0be15e4814676e569/autots-0.6.7-py3-none-any.whl.metadata\n",
      "  Using cached autots-0.6.7-py3-none-any.whl.metadata (10.0 kB)\n",
      "Requirement already satisfied: numpy>=1.14.6 in e:\\programs\\anaconda 2023\\lib\\site-packages (from autots) (1.24.3)\n",
      "Requirement already satisfied: pandas>=0.25.0 in e:\\programs\\anaconda 2023\\lib\\site-packages (from autots) (2.0.3)\n",
      "Requirement already satisfied: statsmodels>=0.10.0 in e:\\programs\\anaconda 2023\\lib\\site-packages (from autots) (0.14.0)\n",
      "Requirement already satisfied: scikit-learn>=0.20.0 in e:\\programs\\anaconda 2023\\lib\\site-packages (from autots) (1.3.0)\n",
      "Requirement already satisfied: python-dateutil>=2.8.2 in e:\\programs\\anaconda 2023\\lib\\site-packages (from pandas>=0.25.0->autots) (2.8.2)\n",
      "Requirement already satisfied: pytz>=2020.1 in e:\\programs\\anaconda 2023\\lib\\site-packages (from pandas>=0.25.0->autots) (2023.3.post1)\n",
      "Requirement already satisfied: tzdata>=2022.1 in e:\\programs\\anaconda 2023\\lib\\site-packages (from pandas>=0.25.0->autots) (2023.3)\n",
      "Requirement already satisfied: scipy>=1.5.0 in e:\\programs\\anaconda 2023\\lib\\site-packages (from scikit-learn>=0.20.0->autots) (1.11.1)\n",
      "Requirement already satisfied: joblib>=1.1.1 in e:\\programs\\anaconda 2023\\lib\\site-packages (from scikit-learn>=0.20.0->autots) (1.2.0)\n",
      "Requirement already satisfied: threadpoolctl>=2.0.0 in e:\\programs\\anaconda 2023\\lib\\site-packages (from scikit-learn>=0.20.0->autots) (2.2.0)\n",
      "Requirement already satisfied: patsy>=0.5.2 in e:\\programs\\anaconda 2023\\lib\\site-packages (from statsmodels>=0.10.0->autots) (0.5.3)\n",
      "Requirement already satisfied: packaging>=21.3 in e:\\programs\\anaconda 2023\\lib\\site-packages (from statsmodels>=0.10.0->autots) (23.1)\n",
      "Requirement already satisfied: six in e:\\programs\\anaconda 2023\\lib\\site-packages (from patsy>=0.5.2->statsmodels>=0.10.0->autots) (1.16.0)\n",
      "Using cached autots-0.6.7-py3-none-any.whl (821 kB)\n",
      "Installing collected packages: autots\n",
      "Successfully installed autots-0.6.7\n"
     ]
    }
   ],
   "source": [
    "!pip install autots"
   ]
  },
  {
   "cell_type": "code",
   "execution_count": 1,
   "id": "03f0f518",
   "metadata": {},
   "outputs": [
    {
     "name": "stdout",
     "output_type": "stream",
     "text": [
      "Data frequency is: D, used frequency is: D\n",
      "Model Number: 1 with model ARIMA in generation 0 of 10\n",
      "Model Number: 2 with model AverageValueNaive in generation 0 of 10\n",
      "Model Number: 3 with model AverageValueNaive in generation 0 of 10\n",
      "Model Number: 4 with model AverageValueNaive in generation 0 of 10\n",
      "Model Number: 5 with model DatepartRegression in generation 0 of 10\n",
      "Model Number: 6 with model DatepartRegression in generation 0 of 10\n"
     ]
    },
    {
     "name": "stderr",
     "output_type": "stream",
     "text": [
      "E:\\Programs\\Anaconda 2023\\Lib\\site-packages\\sklearn\\svm\\_classes.py:32: FutureWarning:\n",
      "\n",
      "The default value of `dual` will change from `True` to `'auto'` in 1.5. Set the value of `dual` explicitly to suppress the warning.\n",
      "\n",
      "E:\\Programs\\Anaconda 2023\\Lib\\site-packages\\sklearn\\svm\\_base.py:1242: ConvergenceWarning:\n",
      "\n",
      "Liblinear failed to converge, increase the number of iterations.\n",
      "\n"
     ]
    },
    {
     "name": "stdout",
     "output_type": "stream",
     "text": [
      "Model Number: 7 with model DatepartRegression in generation 0 of 10\n"
     ]
    },
    {
     "name": "stderr",
     "output_type": "stream",
     "text": [
      "E:\\Programs\\Anaconda 2023\\Lib\\site-packages\\sklearn\\neural_network\\_multilayer_perceptron.py:546: ConvergenceWarning:\n",
      "\n",
      "lbfgs failed to converge (status=1):\n",
      "STOP: TOTAL NO. of ITERATIONS REACHED LIMIT.\n",
      "\n",
      "Increase the number of iterations (max_iter) or scale the data as shown in:\n",
      "    https://scikit-learn.org/stable/modules/preprocessing.html\n",
      "\n"
     ]
    },
    {
     "name": "stdout",
     "output_type": "stream",
     "text": [
      "Model Number: 8 with model DatepartRegression in generation 0 of 10\n",
      "Template Eval Error: ImportError('Tensorflow not available, install with pip install tensorflow.') in model 8 in generation 0: DatepartRegression\n",
      "Model Number: 9 with model ETS in generation 0 of 10\n",
      "Model Number: 10 with model ETS in generation 0 of 10\n",
      "Model Number: 11 with model GLM in generation 0 of 10\n",
      "Model Number: 12 with model GLM in generation 0 of 10\n",
      "Model Number: 13 with model GLS in generation 0 of 10\n",
      "Model Number: 14 with model GLS in generation 0 of 10\n",
      "Model Number: 15 with model GluonTS in generation 0 of 10\n",
      "Template Eval Error: ImportError('GluonTS installation is incompatible with AutoTS. The numpy version is sometimes the issue, try 1.23.1 {as of 06-2023}') in model 15 in generation 0: GluonTS\n",
      "Model Number: 16 with model GluonTS in generation 0 of 10\n",
      "Template Eval Error: ImportError('GluonTS installation is incompatible with AutoTS. The numpy version is sometimes the issue, try 1.23.1 {as of 06-2023}') in model 16 in generation 0: GluonTS\n",
      "Model Number: 17 with model GluonTS in generation 0 of 10\n",
      "Template Eval Error: ImportError('GluonTS installation is incompatible with AutoTS. The numpy version is sometimes the issue, try 1.23.1 {as of 06-2023}') in model 17 in generation 0: GluonTS\n",
      "Model Number: 18 with model GluonTS in generation 0 of 10\n",
      "Template Eval Error: ImportError('GluonTS installation is incompatible with AutoTS. The numpy version is sometimes the issue, try 1.23.1 {as of 06-2023}') in model 18 in generation 0: GluonTS\n",
      "Model Number: 19 with model GluonTS in generation 0 of 10\n",
      "Template Eval Error: ImportError('GluonTS installation is incompatible with AutoTS. The numpy version is sometimes the issue, try 1.23.1 {as of 06-2023}') in model 19 in generation 0: GluonTS\n",
      "Model Number: 20 with model LastValueNaive in generation 0 of 10\n",
      "Model Number: 21 with model LastValueNaive in generation 0 of 10\n",
      "Model Number: 22 with model LastValueNaive in generation 0 of 10\n",
      "Model Number: 23 with model LastValueNaive in generation 0 of 10\n",
      "Model Number: 24 with model SeasonalNaive in generation 0 of 10\n",
      "Model Number: 25 with model SeasonalNaive in generation 0 of 10\n",
      "Model Number: 26 with model SeasonalNaive in generation 0 of 10\n",
      "Model Number: 27 with model UnobservedComponents in generation 0 of 10\n",
      "Model Number: 28 with model UnobservedComponents in generation 0 of 10\n",
      "Model Number: 29 with model UnobservedComponents in generation 0 of 10\n",
      "Model Number: 30 with model VAR in generation 0 of 10\n",
      "Template Eval Error: ValueError('Only gave one variable to VAR') in model 30 in generation 0: VAR\n",
      "Model Number: 31 with model VAR in generation 0 of 10\n",
      "Template Eval Error: ValueError('Only gave one variable to VAR') in model 31 in generation 0: VAR\n",
      "Model Number: 32 with model VECM in generation 0 of 10\n",
      "Template Eval Error: ValueError('Only gave one variable to VECM') in model 32 in generation 0: VECM\n",
      "Model Number: 33 with model VECM in generation 0 of 10\n",
      "Template Eval Error: ValueError('Only gave one variable to VECM') in model 33 in generation 0: VECM\n",
      "Model Number: 34 with model WindowRegression in generation 0 of 10\n",
      "Model Number: 35 with model ConstantNaive in generation 0 of 10\n"
     ]
    },
    {
     "name": "stderr",
     "output_type": "stream",
     "text": [
      "E:\\Programs\\Anaconda 2023\\Lib\\site-packages\\sklearn\\neural_network\\_multilayer_perceptron.py:546: ConvergenceWarning:\n",
      "\n",
      "lbfgs failed to converge (status=1):\n",
      "STOP: TOTAL NO. of ITERATIONS REACHED LIMIT.\n",
      "\n",
      "Increase the number of iterations (max_iter) or scale the data as shown in:\n",
      "    https://scikit-learn.org/stable/modules/preprocessing.html\n",
      "\n"
     ]
    },
    {
     "name": "stdout",
     "output_type": "stream",
     "text": [
      "Model Number: 36 with model FBProphet in generation 0 of 10\n",
      "Template Eval Error: ModuleNotFoundError(\"No module named 'fbprophet'\") in model 36 in generation 0: FBProphet\n",
      "Model Number: 37 with model GluonTS in generation 0 of 10\n",
      "Template Eval Error: ImportError('GluonTS installation is incompatible with AutoTS. The numpy version is sometimes the issue, try 1.23.1 {as of 06-2023}') in model 37 in generation 0: GluonTS\n",
      "Model Number: 38 with model MultivariateRegression in generation 0 of 10\n",
      "Model Number: 39 with model MultivariateRegression in generation 0 of 10\n",
      "Template Eval Error: ValueError(\"regression_type='User' but not future_regressor supplied.\") in model 39 in generation 0: MultivariateRegression\n",
      "Model Number: 40 with model DatepartRegression in generation 0 of 10\n",
      "Template Eval Error: ValueError(\"regression_type='User' but no future_regressor passed\") in model 40 in generation 0: DatepartRegression\n",
      "Model Number: 41 with model SeasonalNaive in generation 0 of 10\n",
      "Model Number: 42 with model DatepartRegression in generation 0 of 10\n",
      "Model Number: 43 with model UnobservedComponents in generation 0 of 10\n",
      "Model Number: 44 with model UnobservedComponents in generation 0 of 10\n",
      "Model Number: 45 with model ETS in generation 0 of 10\n",
      "Model Number: 46 with model VECM in generation 0 of 10\n",
      "Template Eval Error: ValueError('Only gave one variable to VECM') in model 46 in generation 0: VECM\n",
      "Model Number: 47 with model ARDL in generation 0 of 10\n",
      "Model Number: 48 with model MultivariateMotif in generation 0 of 10\n",
      "Model Number: 49 with model MultivariateMotif in generation 0 of 10\n",
      "Model Number: 50 with model UnivariateMotif in generation 0 of 10\n",
      "Model Number: 51 with model UnivariateMotif in generation 0 of 10\n",
      "Model Number: 52 with model SectionalMotif in generation 0 of 10\n",
      "Model Number: 53 with model SectionalMotif in generation 0 of 10\n",
      "Model Number: 54 with model MultivariateRegression in generation 0 of 10\n",
      "Model Number: 55 with model FBProphet in generation 0 of 10\n",
      "Template Eval Error: ModuleNotFoundError(\"No module named 'fbprophet'\") in model 55 in generation 0: FBProphet\n",
      "Model Number: 56 with model SeasonalNaive in generation 0 of 10\n",
      "Model Number: 57 with model DatepartRegression in generation 0 of 10\n",
      "Model Number: 58 with model NVAR in generation 0 of 10\n",
      "Model Number: 59 with model Theta in generation 0 of 10\n",
      "Model Number: 60 with model UnivariateRegression in generation 0 of 10\n",
      "Model Number: 61 with model ARCH in generation 0 of 10\n",
      "Template Eval Error: ImportError('`arch` package must be installed from pip') in model 61 in generation 0: ARCH\n",
      "Model Number: 62 with model ConstantNaive in generation 0 of 10\n",
      "Model Number: 63 with model LastValueNaive in generation 0 of 10\n",
      "Model Number: 64 with model AverageValueNaive in generation 0 of 10\n",
      "Model Number: 65 with model GLS in generation 0 of 10\n",
      "Model Number: 66 with model SeasonalNaive in generation 0 of 10\n",
      "Model Number: 67 with model GLM in generation 0 of 10\n",
      "Model Number: 68 with model ETS in generation 0 of 10\n",
      "Model Number: 69 with model FBProphet in generation 0 of 10\n"
     ]
    },
    {
     "name": "stderr",
     "output_type": "stream",
     "text": [
      "E:\\Programs\\Anaconda 2023\\Lib\\site-packages\\statsmodels\\genmod\\families\\links.py:198: RuntimeWarning:\n",
      "\n",
      "overflow encountered in exp\n",
      "\n"
     ]
    },
    {
     "name": "stdout",
     "output_type": "stream",
     "text": [
      "Template Eval Error: ModuleNotFoundError(\"No module named 'fbprophet'\") in model 69 in generation 0: FBProphet\n",
      "Model Number: 70 with model GluonTS in generation 0 of 10\n",
      "Template Eval Error: ImportError('GluonTS installation is incompatible with AutoTS. The numpy version is sometimes the issue, try 1.23.1 {as of 06-2023}') in model 70 in generation 0: GluonTS\n",
      "Model Number: 71 with model UnobservedComponents in generation 0 of 10\n",
      "Model Number: 72 with model VAR in generation 0 of 10\n",
      "Template Eval Error: ValueError('Only gave one variable to VAR') in model 72 in generation 0: VAR\n",
      "Model Number: 73 with model VECM in generation 0 of 10\n",
      "Template Eval Error: LinAlgError('Singular matrix') in model 73 in generation 0: VECM\n",
      "Model Number: 74 with model ARIMA in generation 0 of 10\n",
      "Model Number: 75 with model WindowRegression in generation 0 of 10\n",
      "Model Number: 76 with model DatepartRegression in generation 0 of 10\n",
      "Template Eval Error: ValueError(\"regression_type='User' but no future_regressor passed\") in model 76 in generation 0: DatepartRegression\n",
      "Model Number: 77 with model UnivariateRegression in generation 0 of 10\n",
      "Model Number: 78 with model MultivariateRegression in generation 0 of 10\n",
      "Model Number: 79 with model UnivariateMotif in generation 0 of 10\n",
      "Model Number: 80 with model MultivariateMotif in generation 0 of 10\n",
      "Model Number: 81 with model SectionalMotif in generation 0 of 10\n",
      "Template Eval Error: Exception('Transformer AlignLastValue failed on inverse') in model 81 in generation 0: SectionalMotif\n",
      "Model Number: 82 with model NVAR in generation 0 of 10\n",
      "Model Number: 83 with model Theta in generation 0 of 10\n",
      "Model Number: 84 with model ARDL in generation 0 of 10\n",
      "Model Number: 85 with model ARCH in generation 0 of 10\n",
      "Template Eval Error: ImportError('`arch` package must be installed from pip') in model 85 in generation 0: ARCH\n",
      "Model Number: 86 with model MetricMotif in generation 0 of 10\n",
      "Model Number: 87 with model GluonTS in generation 0 of 10\n",
      "Template Eval Error: ImportError('GluonTS installation is incompatible with AutoTS. The numpy version is sometimes the issue, try 1.23.1 {as of 06-2023}') in model 87 in generation 0: GluonTS\n",
      "Model Number: 88 with model UnobservedComponents in generation 0 of 10\n",
      "Model Number: 89 with model SeasonalNaive in generation 0 of 10\n",
      "Model Number: 90 with model SeasonalNaive in generation 0 of 10\n",
      "Model Number: 91 with model AverageValueNaive in generation 0 of 10\n",
      "Model Number: 92 with model SectionalMotif in generation 0 of 10\n",
      "Template Eval Error: ValueError('Unknown Distance Metric: kulsinski') in model 92 in generation 0: SectionalMotif\n",
      "Model Number: 93 with model ARIMA in generation 0 of 10\n",
      "Template Eval Error: ValueError(\"regression_type='User' but future_regressor not supplied\") in model 93 in generation 0: ARIMA\n",
      "Model Number: 94 with model Theta in generation 0 of 10\n",
      "Model Number: 95 with model ARDL in generation 0 of 10\n",
      "Model Number: 96 with model VAR in generation 0 of 10\n",
      "Template Eval Error: ValueError(\"x contains one or more constant columns. Column(s) 1 are constant. Adding a constant with trend='c' is not allowed.\") in model 96 in generation 0: VAR\n",
      "Model Number: 97 with model UnivariateMotif in generation 0 of 10\n",
      "Template Eval Error: Exception('Transformer AlignLastValue failed on inverse') in model 97 in generation 0: UnivariateMotif\n",
      "Model Number: 98 with model MultivariateMotif in generation 0 of 10\n",
      "Model Number: 99 with model SeasonalNaive in generation 0 of 10\n",
      "Model Number: 100 with model GluonTS in generation 0 of 10\n",
      "Template Eval Error: ImportError('GluonTS installation is incompatible with AutoTS. The numpy version is sometimes the issue, try 1.23.1 {as of 06-2023}') in model 100 in generation 0: GluonTS\n",
      "Model Number: 101 with model ConstantNaive in generation 0 of 10\n",
      "Model Number: 102 with model SeasonalNaive in generation 0 of 10\n",
      "Model Number: 103 with model AverageValueNaive in generation 0 of 10\n",
      "Model Number: 104 with model VECM in generation 0 of 10\n",
      "Template Eval Error: ValueError('Only gave one variable to VECM') in model 104 in generation 0: VECM\n",
      "Model Number: 105 with model ETS in generation 0 of 10\n",
      "Model Number: 106 with model UnobservedComponents in generation 0 of 10\n",
      "Model Number: 107 with model LastValueNaive in generation 0 of 10\n"
     ]
    },
    {
     "name": "stderr",
     "output_type": "stream",
     "text": [
      "E:\\Programs\\Anaconda 2023\\Lib\\site-packages\\sklearn\\linear_model\\_coordinate_descent.py:628: ConvergenceWarning:\n",
      "\n",
      "Objective did not converge. You might want to increase the number of iterations, check the scale of the features or consider increasing regularisation. Duality gap: 5.174e+07, tolerance: 3.264e+05\n",
      "\n"
     ]
    },
    {
     "name": "stdout",
     "output_type": "stream",
     "text": [
      "Model Number: 108 with model VECM in generation 0 of 10\n",
      "Template Eval Error: ValueError('Only gave one variable to VECM') in model 108 in generation 0: VECM\n",
      "Model Number: 109 with model SectionalMotif in generation 0 of 10\n",
      "Template Eval Error: ValueError('kth(=20) out of bounds (13)') in model 109 in generation 0: SectionalMotif\n",
      "Model Number: 110 with model DatepartRegression in generation 0 of 10\n",
      "Model Number: 111 with model SectionalMotif in generation 0 of 10\n",
      "Template Eval Error: ValueError(\"regression_type=='User' but no future_regressor supplied\") in model 111 in generation 0: SectionalMotif\n",
      "Model Number: 112 with model MetricMotif in generation 0 of 10\n",
      "Model Number: 113 with model Theta in generation 0 of 10\n",
      "Template Eval Error: Exception('Transformer KalmanSmoothing failed on fit') in model 113 in generation 0: Theta\n",
      "Model Number: 114 with model SectionalMotif in generation 0 of 10\n",
      "Model Number: 115 with model NVAR in generation 0 of 10\n",
      "Template Eval Error: Exception('Transformer ScipyFilter failed on fit') in model 115 in generation 0: NVAR\n",
      "Model Number: 116 with model LastValueNaive in generation 0 of 10\n",
      "Model Number: 117 with model GLS in generation 0 of 10\n",
      "Model Number: 118 with model SeasonalNaive in generation 0 of 10\n",
      "Model Number: 119 with model GLM in generation 0 of 10\n",
      "Model Number: 120 with model GluonTS in generation 0 of 10\n",
      "Template Eval Error: ImportError('GluonTS installation is incompatible with AutoTS. The numpy version is sometimes the issue, try 1.23.1 {as of 06-2023}') in model 120 in generation 0: GluonTS\n",
      "Model Number: 121 with model ETS in generation 0 of 10\n",
      "Model Number: 122 with model NVAR in generation 0 of 10\n",
      "Model Number: 123 with model ARDL in generation 0 of 10\n",
      "Template Eval Error: Exception('Transformer ScipyFilter failed on fit') in model 123 in generation 0: ARDL\n",
      "Model Number: 124 with model GLM in generation 0 of 10\n",
      "Template Eval Error: ValueError('NaN, inf or invalid value detected in weights, estimation infeasible.') in model 124 in generation 0: GLM\n",
      "Model Number: 125 with model DatepartRegression in generation 0 of 10\n",
      "Template Eval Error: ValueError('Model DatepartRegression returned NaN for one or more series. fail_on_forecast_nan=True') in model 125 in generation 0: DatepartRegression\n",
      "Model Number: 126 with model LastValueNaive in generation 0 of 10\n",
      "Model Number: 127 with model NVAR in generation 0 of 10\n",
      "Model Number: 128 with model WindowRegression in generation 0 of 10\n",
      "Template Eval Error: Exception('Transformer ScipyFilter failed on fit') in model 128 in generation 0: WindowRegression\n",
      "Model Number: 129 with model MultivariateMotif in generation 0 of 10\n"
     ]
    },
    {
     "name": "stderr",
     "output_type": "stream",
     "text": [
      "E:\\Programs\\Anaconda 2023\\Lib\\site-packages\\statsmodels\\genmod\\families\\links.py:527: RuntimeWarning:\n",
      "\n",
      "overflow encountered in exp\n",
      "\n",
      "E:\\Programs\\Anaconda 2023\\Lib\\site-packages\\statsmodels\\genmod\\families\\family.py:143: RuntimeWarning:\n",
      "\n",
      "invalid value encountered in multiply\n",
      "\n",
      "E:\\Programs\\Anaconda 2023\\Lib\\site-packages\\statsmodels\\genmod\\generalized_linear_model.py:1243: RuntimeWarning:\n",
      "\n",
      "invalid value encountered in multiply\n",
      "\n",
      "E:\\Programs\\Anaconda 2023\\Lib\\site-packages\\sklearn\\neighbors\\_regression.py:500: UserWarning:\n",
      "\n",
      "One or more samples have no neighbors within specified radius; predicting NaN.\n",
      "\n"
     ]
    },
    {
     "name": "stdout",
     "output_type": "stream",
     "text": [
      "Model Number: 130 with model Theta in generation 0 of 10\n",
      "Template Eval Error: Exception('Transformer AlignLastValue failed on inverse') in model 130 in generation 0: Theta\n",
      "Model Number: 131 with model MetricMotif in generation 0 of 10\n",
      "Template Eval Error: Exception('Transformer HolidayTransformer failed on fit') in model 131 in generation 0: MetricMotif\n",
      "Model Number: 132 with model UnobservedComponents in generation 0 of 10\n"
     ]
    },
    {
     "name": "stderr",
     "output_type": "stream",
     "text": [
      "E:\\Programs\\Anaconda 2023\\Lib\\site-packages\\sklearn\\linear_model\\_ridge.py:211: LinAlgWarning:\n",
      "\n",
      "Ill-conditioned matrix (rcond=1.52184e-25): result may not be accurate.\n",
      "\n"
     ]
    },
    {
     "name": "stdout",
     "output_type": "stream",
     "text": [
      "Model Number: 133 with model AverageValueNaive in generation 0 of 10\n",
      "Model Number: 134 with model SectionalMotif in generation 0 of 10\n",
      "Template Eval Error: ValueError('Unknown Distance Metric: kulsinski') in model 134 in generation 0: SectionalMotif\n",
      "Model Number: 135 with model LastValueNaive in generation 0 of 10\n",
      "Model Number: 136 with model FBProphet in generation 0 of 10\n",
      "Template Eval Error: ModuleNotFoundError(\"No module named 'fbprophet'\") in model 136 in generation 0: FBProphet\n",
      "Model Number: 137 with model Theta in generation 0 of 10\n",
      "Model Number: 138 with model AverageValueNaive in generation 0 of 10\n",
      "Model Number: 139 with model UnivariateMotif in generation 0 of 10\n",
      "Model Number: 140 with model AverageValueNaive in generation 0 of 10\n",
      "Model Number: 141 with model MultivariateMotif in generation 0 of 10\n",
      "Template Eval Error: IndexError('index 310 is out of bounds for axis 0 with size 1') in model 141 in generation 0: MultivariateMotif\n",
      "Model Number: 142 with model DatepartRegression in generation 0 of 10\n",
      "Model Number: 143 with model UnivariateMotif in generation 0 of 10\n"
     ]
    },
    {
     "name": "stderr",
     "output_type": "stream",
     "text": [
      "E:\\Programs\\Anaconda 2023\\Lib\\site-packages\\sklearn\\linear_model\\_ridge.py:211: LinAlgWarning:\n",
      "\n",
      "Ill-conditioned matrix (rcond=1.52184e-25): result may not be accurate.\n",
      "\n"
     ]
    },
    {
     "name": "stdout",
     "output_type": "stream",
     "text": [
      "Model Number: 144 with model ARIMA in generation 0 of 10\n",
      "Model Number: 145 with model MetricMotif in generation 0 of 10\n",
      "Model Number: 146 with model VECM in generation 0 of 10\n",
      "Template Eval Error: ValueError('Only gave one variable to VECM') in model 146 in generation 0: VECM\n",
      "Model Number: 147 with model ETS in generation 0 of 10\n",
      "Model Number: 148 with model VECM in generation 0 of 10\n",
      "Template Eval Error: ValueError('Only gave one variable to VECM') in model 148 in generation 0: VECM\n",
      "Model Number: 149 with model ConstantNaive in generation 0 of 10\n",
      "Model Number: 150 with model VECM in generation 0 of 10\n",
      "Template Eval Error: ValueError('Only gave one variable to VECM') in model 150 in generation 0: VECM\n",
      "Model Number: 151 with model Theta in generation 0 of 10\n",
      "Model Number: 152 with model UnobservedComponents in generation 0 of 10\n",
      "Model Number: 153 with model NVAR in generation 0 of 10\n",
      "Model Number: 154 with model NVAR in generation 0 of 10\n",
      "Model Number: 155 with model GLS in generation 0 of 10\n",
      "Model Number: 156 with model GLM in generation 0 of 10\n",
      "Template Eval Error: ValueError('NaN, inf or invalid value detected in weights, estimation infeasible.') in model 156 in generation 0: GLM\n",
      "Model Number: 157 with model GLS in generation 0 of 10\n",
      "Model Number: 158 with model GLM in generation 0 of 10\n",
      "Template Eval Error: ValueError('regression_type=user and no future_regressor passed') in model 158 in generation 0: GLM\n",
      "Model Number: 159 with model ETS in generation 0 of 10\n"
     ]
    },
    {
     "name": "stderr",
     "output_type": "stream",
     "text": [
      "E:\\Programs\\Anaconda 2023\\Lib\\site-packages\\statsmodels\\genmod\\families\\family.py:1367: ValueWarning:\n",
      "\n",
      "Negative binomial dispersion parameter alpha not set. Using default value alpha=1.0.\n",
      "\n",
      "E:\\Programs\\Anaconda 2023\\Lib\\site-packages\\statsmodels\\genmod\\families\\links.py:527: RuntimeWarning:\n",
      "\n",
      "overflow encountered in exp\n",
      "\n",
      "E:\\Programs\\Anaconda 2023\\Lib\\site-packages\\statsmodels\\genmod\\families\\family.py:1402: RuntimeWarning:\n",
      "\n",
      "divide by zero encountered in divide\n",
      "\n",
      "E:\\Programs\\Anaconda 2023\\Lib\\site-packages\\statsmodels\\genmod\\families\\family.py:1406: RuntimeWarning:\n",
      "\n",
      "divide by zero encountered in log\n",
      "\n",
      "E:\\Programs\\Anaconda 2023\\Lib\\site-packages\\statsmodels\\genmod\\families\\family.py:143: RuntimeWarning:\n",
      "\n",
      "invalid value encountered in multiply\n",
      "\n",
      "E:\\Programs\\Anaconda 2023\\Lib\\site-packages\\statsmodels\\genmod\\generalized_linear_model.py:1243: RuntimeWarning:\n",
      "\n",
      "invalid value encountered in multiply\n",
      "\n"
     ]
    },
    {
     "name": "stdout",
     "output_type": "stream",
     "text": [
      "Model Number: 160 with model GLS in generation 0 of 10\n",
      "Model Number: 161 with model SectionalMotif in generation 0 of 10\n",
      "Template Eval Error: ValueError(\"regression_type=='User' but no future_regressor supplied\") in model 161 in generation 0: SectionalMotif\n",
      "Model Number: 162 with model AverageValueNaive in generation 0 of 10\n",
      "Model Number: 163 with model VAR in generation 0 of 10\n",
      "Template Eval Error: ValueError('Only gave one variable to VAR') in model 163 in generation 0: VAR\n",
      "Model Number: 164 with model DatepartRegression in generation 0 of 10\n",
      "Template Eval Error: ValueError(\"regression_type='User' but no future_regressor passed\") in model 164 in generation 0: DatepartRegression\n",
      "Model Number: 165 with model WindowRegression in generation 0 of 10\n",
      "Template Eval Error: ValueError(\"regression_type='User' but no future_regressor passed\") in model 165 in generation 0: WindowRegression\n",
      "Model Number: 166 with model GLS in generation 0 of 10\n",
      "Template Eval Error: Exception('Transformer AlignLastValue failed on inverse') in model 166 in generation 0: GLS\n",
      "Model Number: 167 with model VECM in generation 0 of 10\n",
      "Template Eval Error: Exception('Transformer KalmanSmoothing failed on fit') in model 167 in generation 0: VECM\n",
      "Model Number: 168 with model AverageValueNaive in generation 0 of 10\n",
      "Model Number: 169 with model MultivariateMotif in generation 0 of 10\n",
      "Template Eval Error: Exception('Transformer HolidayTransformer failed on fit') in model 169 in generation 0: MultivariateMotif\n",
      "Model Number: 170 with model UnivariateMotif in generation 0 of 10\n",
      "Model Number: 171 with model ARDL in generation 0 of 10\n",
      "Template Eval Error: ValueError(\"regression_type='User' but future_regressor not supplied\") in model 171 in generation 0: ARDL\n",
      "Model Number: 172 with model MultivariateMotif in generation 0 of 10\n"
     ]
    },
    {
     "name": "stderr",
     "output_type": "stream",
     "text": [
      "E:\\Programs\\Anaconda 2023\\Lib\\site-packages\\sklearn\\linear_model\\_ridge.py:211: LinAlgWarning:\n",
      "\n",
      "Ill-conditioned matrix (rcond=1.52184e-25): result may not be accurate.\n",
      "\n"
     ]
    },
    {
     "name": "stdout",
     "output_type": "stream",
     "text": [
      "Model Number: 173 with model VECM in generation 0 of 10\n",
      "Template Eval Error: ValueError(\"regression_type='User' but no future_regressor supplied\") in model 173 in generation 0: VECM\n",
      "Model Number: 174 with model ETS in generation 0 of 10\n",
      "Model Number: 175 with model Theta in generation 0 of 10\n",
      "Model Number: 176 with model NVAR in generation 0 of 10\n",
      "Model Number: 177 with model GLM in generation 0 of 10\n",
      "Model Number: 178 with model ARCH in generation 0 of 10\n",
      "Template Eval Error: ImportError('`arch` package must be installed from pip') in model 178 in generation 0: ARCH\n",
      "Model Number: 179 with model ARCH in generation 0 of 10\n",
      "Template Eval Error: ImportError('`arch` package must be installed from pip') in model 179 in generation 0: ARCH\n",
      "Model Number: 180 with model GLS in generation 0 of 10\n",
      "Model Number: 181 with model ConstantNaive in generation 0 of 10\n",
      "Model Number: 182 with model ETS in generation 0 of 10\n",
      "Model Number: 183 with model UnivariateMotif in generation 0 of 10\n",
      "Model Number: 184 with model ETS in generation 0 of 10\n",
      "Model Number: 185 with model ARCH in generation 0 of 10\n",
      "Template Eval Error: ImportError('`arch` package must be installed from pip') in model 185 in generation 0: ARCH\n",
      "Model Number: 186 with model AverageValueNaive in generation 0 of 10\n",
      "New Generation: 1 of 10\n",
      "Model Number: 187 with model Theta in generation 1 of 10\n",
      "Model Number: 188 with model WindowRegression in generation 1 of 10\n",
      "Model Number: 189 with model AverageValueNaive in generation 1 of 10\n",
      "Model Number: 190 with model UnivariateMotif in generation 1 of 10\n",
      "Model Number: 191 with model WindowRegression in generation 1 of 10\n",
      "Model Number: 192 with model MetricMotif in generation 1 of 10\n",
      "Model Number: 193 with model UnivariateRegression in generation 1 of 10\n",
      "Model Number: 194 with model DatepartRegression in generation 1 of 10\n",
      "Model Number: 195 with model ConstantNaive in generation 1 of 10\n",
      "Model Number: 196 with model ARDL in generation 1 of 10\n",
      "Template Eval Error: ValueError(\"regression_type='User' but future_regressor not supplied\") in model 196 in generation 1: ARDL\n",
      "Model Number: 197 with model MultivariateRegression in generation 1 of 10\n",
      "Template Eval Error: ValueError(\"regression_type='User' but not future_regressor supplied.\") in model 197 in generation 1: MultivariateRegression\n",
      "Model Number: 198 with model ETS in generation 1 of 10\n",
      "Model Number: 199 with model Theta in generation 1 of 10\n",
      "Model Number: 200 with model GLS in generation 1 of 10\n"
     ]
    },
    {
     "name": "stderr",
     "output_type": "stream",
     "text": [
      "E:\\Programs\\Anaconda 2023\\Lib\\site-packages\\sklearn\\linear_model\\_ridge.py:211: LinAlgWarning:\n",
      "\n",
      "Ill-conditioned matrix (rcond=1.52184e-25): result may not be accurate.\n",
      "\n"
     ]
    },
    {
     "name": "stdout",
     "output_type": "stream",
     "text": [
      "Model Number: 201 with model ETS in generation 1 of 10\n",
      "Model Number: 202 with model SectionalMotif in generation 1 of 10\n",
      "Model Number: 203 with model WindowRegression in generation 1 of 10\n"
     ]
    },
    {
     "name": "stderr",
     "output_type": "stream",
     "text": [
      "E:\\Programs\\Anaconda 2023\\Lib\\site-packages\\sklearn\\neural_network\\_multilayer_perceptron.py:546: ConvergenceWarning:\n",
      "\n",
      "lbfgs failed to converge (status=1):\n",
      "STOP: TOTAL NO. of ITERATIONS REACHED LIMIT.\n",
      "\n",
      "Increase the number of iterations (max_iter) or scale the data as shown in:\n",
      "    https://scikit-learn.org/stable/modules/preprocessing.html\n",
      "\n"
     ]
    },
    {
     "name": "stdout",
     "output_type": "stream",
     "text": [
      "Model Number: 204 with model UnobservedComponents in generation 1 of 10\n",
      "Model Number: 205 with model ARIMA in generation 1 of 10\n",
      "Template Eval Error: ValueError(\"regression_type='User' but future_regressor not supplied\") in model 205 in generation 1: ARIMA\n",
      "Model Number: 206 with model NVAR in generation 1 of 10\n",
      "Model Number: 207 with model UnobservedComponents in generation 1 of 10\n",
      "Model Number: 208 with model ConstantNaive in generation 1 of 10\n",
      "Template Eval Error: Exception('Transformer Cointegration failed on fit') in model 208 in generation 1: ConstantNaive\n",
      "Model Number: 209 with model DatepartRegression in generation 1 of 10\n",
      "Model Number: 210 with model SeasonalNaive in generation 1 of 10\n",
      "Model Number: 211 with model UnivariateMotif in generation 1 of 10\n",
      "Model Number: 212 with model UnivariateMotif in generation 1 of 10\n",
      "Model Number: 213 with model Theta in generation 1 of 10\n",
      "Model Number: 214 with model UnivariateRegression in generation 1 of 10\n",
      "Model Number: 215 with model LastValueNaive in generation 1 of 10\n"
     ]
    },
    {
     "name": "stderr",
     "output_type": "stream",
     "text": [
      "E:\\Programs\\Anaconda 2023\\Lib\\site-packages\\sklearn\\linear_model\\_ridge.py:211: LinAlgWarning:\n",
      "\n",
      "Ill-conditioned matrix (rcond=3.00637e-17): result may not be accurate.\n",
      "\n"
     ]
    },
    {
     "name": "stdout",
     "output_type": "stream",
     "text": [
      "Model Number: 216 with model NVAR in generation 1 of 10\n",
      "Model Number: 217 with model MultivariateMotif in generation 1 of 10\n",
      "Model Number: 218 with model UnivariateRegression in generation 1 of 10\n",
      "Model Number: 219 with model ETS in generation 1 of 10\n"
     ]
    },
    {
     "name": "stderr",
     "output_type": "stream",
     "text": [
      "E:\\Programs\\Anaconda 2023\\Lib\\site-packages\\sklearn\\linear_model\\_ridge.py:211: LinAlgWarning:\n",
      "\n",
      "Ill-conditioned matrix (rcond=5.71372e-21): result may not be accurate.\n",
      "\n"
     ]
    },
    {
     "name": "stdout",
     "output_type": "stream",
     "text": [
      "Model Number: 220 with model ConstantNaive in generation 1 of 10\n",
      "Template Eval Error: Exception('Transformer ReplaceConstant failed on fit') in model 220 in generation 1: ConstantNaive\n",
      "Model Number: 221 with model ETS in generation 1 of 10\n",
      "Model Number: 222 with model ETS in generation 1 of 10\n",
      "Model Number: 223 with model SeasonalNaive in generation 1 of 10\n",
      "Model Number: 224 with model AverageValueNaive in generation 1 of 10\n",
      "Model Number: 225 with model AverageValueNaive in generation 1 of 10\n",
      "Template Eval Error: Exception('Transformer FastICA failed on fit') in model 225 in generation 1: AverageValueNaive\n",
      "Model Number: 226 with model Theta in generation 1 of 10\n",
      "Model Number: 227 with model LastValueNaive in generation 1 of 10\n",
      "Model Number: 228 with model MetricMotif in generation 1 of 10\n",
      "Model Number: 229 with model LastValueNaive in generation 1 of 10\n",
      "Model Number: 230 with model Theta in generation 1 of 10\n"
     ]
    },
    {
     "name": "stderr",
     "output_type": "stream",
     "text": [
      "C:\\Users\\mizof\\AppData\\Roaming\\Python\\Python311\\site-packages\\autots\\tools\\percentile.py:47: RuntimeWarning:\n",
      "\n",
      "All-NaN slice encountered\n",
      "\n"
     ]
    },
    {
     "name": "stdout",
     "output_type": "stream",
     "text": [
      "Model Number: 231 with model SeasonalNaive in generation 1 of 10\n",
      "Model Number: 232 with model ARIMA in generation 1 of 10\n"
     ]
    },
    {
     "name": "stderr",
     "output_type": "stream",
     "text": [
      "E:\\Programs\\Anaconda 2023\\Lib\\site-packages\\sklearn\\neighbors\\_classification.py:228: DataConversionWarning:\n",
      "\n",
      "A column-vector y was passed when a 1d array was expected. Please change the shape of y to (n_samples,), for example using ravel().\n",
      "\n"
     ]
    },
    {
     "name": "stdout",
     "output_type": "stream",
     "text": [
      "Model Number: 233 with model Theta in generation 1 of 10\n",
      "Model Number: 234 with model SeasonalNaive in generation 1 of 10\n",
      "Model Number: 235 with model UnobservedComponents in generation 1 of 10\n",
      "Model Number: 236 with model Theta in generation 1 of 10\n",
      "Model Number: 237 with model UnobservedComponents in generation 1 of 10\n",
      "Model Number: 238 with model ETS in generation 1 of 10\n",
      "Model Number: 239 with model DatepartRegression in generation 1 of 10\n",
      "Model Number: 240 with model UnobservedComponents in generation 1 of 10\n",
      "Model Number: 241 with model MultivariateRegression in generation 1 of 10\n"
     ]
    },
    {
     "name": "stderr",
     "output_type": "stream",
     "text": [
      "E:\\Programs\\Anaconda 2023\\Lib\\site-packages\\sklearn\\linear_model\\_ridge.py:211: LinAlgWarning:\n",
      "\n",
      "Ill-conditioned matrix (rcond=1.52184e-25): result may not be accurate.\n",
      "\n"
     ]
    },
    {
     "name": "stdout",
     "output_type": "stream",
     "text": [
      "Template Eval Error: Exception('Transformer AlignLastValue failed on inverse') in model 241 in generation 1: MultivariateRegression\n",
      "Model Number: 242 with model ConstantNaive in generation 1 of 10\n",
      "Model Number: 243 with model Theta in generation 1 of 10\n",
      "Model Number: 244 with model SectionalMotif in generation 1 of 10\n",
      "Model Number: 245 with model MetricMotif in generation 1 of 10\n",
      "Model Number: 246 with model UnobservedComponents in generation 1 of 10\n"
     ]
    },
    {
     "name": "stderr",
     "output_type": "stream",
     "text": [
      "C:\\Users\\mizof\\AppData\\Roaming\\Python\\Python311\\site-packages\\autots\\tools\\percentile.py:47: RuntimeWarning:\n",
      "\n",
      "All-NaN slice encountered\n",
      "\n"
     ]
    },
    {
     "name": "stdout",
     "output_type": "stream",
     "text": [
      "Model Number: 247 with model GLM in generation 1 of 10\n",
      "Model Number: 248 with model UnivariateMotif in generation 1 of 10\n",
      "Model Number: 249 with model ARDL in generation 1 of 10\n",
      "Model Number: 250 with model MetricMotif in generation 1 of 10\n",
      "Model Number: 251 with model DatepartRegression in generation 1 of 10\n",
      "Template Eval Error: ValueError(\"regression_type='User' but no future_regressor passed\") in model 251 in generation 1: DatepartRegression\n",
      "Model Number: 252 with model ETS in generation 1 of 10\n",
      "Model Number: 253 with model GLS in generation 1 of 10\n",
      "Model Number: 254 with model Theta in generation 1 of 10\n"
     ]
    },
    {
     "name": "stderr",
     "output_type": "stream",
     "text": [
      "E:\\Programs\\Anaconda 2023\\Lib\\site-packages\\sklearn\\linear_model\\_ridge.py:211: LinAlgWarning:\n",
      "\n",
      "Ill-conditioned matrix (rcond=1.52184e-25): result may not be accurate.\n",
      "\n"
     ]
    },
    {
     "name": "stdout",
     "output_type": "stream",
     "text": [
      "Model Number: 255 with model UnivariateMotif in generation 1 of 10\n",
      "Template Eval Error: Exception('Transformer QuantileTransformer failed on fit') in model 255 in generation 1: UnivariateMotif\n",
      "Model Number: 256 with model ConstantNaive in generation 1 of 10\n",
      "Model Number: 257 with model GLS in generation 1 of 10\n",
      "Model Number: 258 with model GLM in generation 1 of 10\n",
      "Model Number: 259 with model NVAR in generation 1 of 10\n",
      "Template Eval Error: Exception('Transformer AlignLastValue failed on inverse') in model 259 in generation 1: NVAR\n",
      "Model Number: 260 with model MultivariateMotif in generation 1 of 10\n",
      "Template Eval Error: Exception('Transformer FastICA failed on fit') in model 260 in generation 1: MultivariateMotif\n",
      "Model Number: 261 with model ConstantNaive in generation 1 of 10\n",
      "Template Eval Error: Exception('Transformer ReplaceConstant failed on fit') in model 261 in generation 1: ConstantNaive\n",
      "Model Number: 262 with model SectionalMotif in generation 1 of 10\n",
      "Model Number: 263 with model MetricMotif in generation 1 of 10\n",
      "Model Number: 264 with model AverageValueNaive in generation 1 of 10\n",
      "Model Number: 265 with model Theta in generation 1 of 10\n",
      "Model Number: 266 with model ETS in generation 1 of 10\n",
      "Model Number: 267 with model GLM in generation 1 of 10\n",
      "Template Eval Error: Exception('Transformer AlignLastValue failed on inverse') in model 267 in generation 1: GLM\n",
      "Model Number: 268 with model GLM in generation 1 of 10\n",
      "Model Number: 269 with model LastValueNaive in generation 1 of 10\n"
     ]
    },
    {
     "name": "stderr",
     "output_type": "stream",
     "text": [
      "E:\\Programs\\Anaconda 2023\\Lib\\site-packages\\statsmodels\\genmod\\families\\links.py:198: RuntimeWarning:\n",
      "\n",
      "overflow encountered in exp\n",
      "\n"
     ]
    },
    {
     "name": "stdout",
     "output_type": "stream",
     "text": [
      "Model Number: 270 with model LastValueNaive in generation 1 of 10\n",
      "Model Number: 271 with model DatepartRegression in generation 1 of 10\n",
      "Model Number: 272 with model DatepartRegression in generation 1 of 10\n",
      "Model Number: 273 with model ETS in generation 1 of 10\n",
      "Model Number: 274 with model DatepartRegression in generation 1 of 10\n",
      "Model Number: 275 with model ETS in generation 1 of 10\n",
      "Model Number: 276 with model SeasonalNaive in generation 1 of 10\n",
      "Model Number: 277 with model Theta in generation 1 of 10\n",
      "Model Number: 278 with model MultivariateRegression in generation 1 of 10\n"
     ]
    },
    {
     "name": "stderr",
     "output_type": "stream",
     "text": [
      "E:\\Programs\\Anaconda 2023\\Lib\\site-packages\\sklearn\\neighbors\\_classification.py:228: DataConversionWarning:\n",
      "\n",
      "A column-vector y was passed when a 1d array was expected. Please change the shape of y to (n_samples,), for example using ravel().\n",
      "\n"
     ]
    },
    {
     "name": "stdout",
     "output_type": "stream",
     "text": [
      "Model Number: 279 with model LastValueNaive in generation 1 of 10\n",
      "Model Number: 280 with model ARIMA in generation 1 of 10\n",
      "Template Eval Error: ValueError(\"regression_type='User' but future_regressor not supplied\") in model 280 in generation 1: ARIMA\n",
      "Model Number: 281 with model ETS in generation 1 of 10\n",
      "Model Number: 282 with model UnobservedComponents in generation 1 of 10\n",
      "Model Number: 283 with model LastValueNaive in generation 1 of 10\n",
      "Model Number: 284 with model GLS in generation 1 of 10\n",
      "Model Number: 285 with model MultivariateMotif in generation 1 of 10\n",
      "Template Eval Error: Exception('Transformer FastICA failed on fit') in model 285 in generation 1: MultivariateMotif\n",
      "Model Number: 286 with model UnivariateMotif in generation 1 of 10\n",
      "Model Number: 287 with model WindowRegression in generation 1 of 10\n",
      "Model Number: 288 with model ARIMA in generation 1 of 10\n",
      "Model Number: 289 with model SeasonalNaive in generation 1 of 10\n",
      "Model Number: 290 with model UnobservedComponents in generation 1 of 10\n",
      "Model Number: 291 with model Theta in generation 1 of 10\n",
      "Model Number: 292 with model NVAR in generation 1 of 10\n",
      "Template Eval Error: Exception('Transformer AlignLastValue failed on inverse') in model 292 in generation 1: NVAR\n",
      "Model Number: 293 with model AverageValueNaive in generation 1 of 10\n",
      "Template Eval Error: Exception('Transformer BTCD failed on fit') in model 293 in generation 1: AverageValueNaive\n",
      "Model Number: 294 with model ETS in generation 1 of 10\n",
      "Model Number: 295 with model ConstantNaive in generation 1 of 10\n",
      "Model Number: 296 with model UnivariateMotif in generation 1 of 10\n",
      "Model Number: 297 with model SeasonalNaive in generation 1 of 10\n",
      "Model Number: 298 with model ARIMA in generation 1 of 10\n",
      "Model Number: 299 with model UnivariateMotif in generation 1 of 10\n",
      "Model Number: 300 with model UnobservedComponents in generation 1 of 10\n",
      "Template Eval Error: Exception('Transformer KalmanSmoothing failed on fit') in model 300 in generation 1: UnobservedComponents\n",
      "Model Number: 301 with model UnivariateMotif in generation 1 of 10\n",
      "Model Number: 302 with model Theta in generation 1 of 10\n",
      "Model Number: 303 with model LastValueNaive in generation 1 of 10\n",
      "Template Eval Error: Exception('Transformer RegressionFilter failed on fit') in model 303 in generation 1: LastValueNaive\n",
      "Model Number: 304 with model GLS in generation 1 of 10\n",
      "Model Number: 305 with model Theta in generation 1 of 10\n",
      "Model Number: 306 with model GLM in generation 1 of 10\n",
      "Model Number: 307 with model DatepartRegression in generation 1 of 10\n",
      "Template Eval Error: Exception('Transformer ReplaceConstant failed on inverse') in model 307 in generation 1: DatepartRegression\n",
      "Model Number: 308 with model WindowRegression in generation 1 of 10\n"
     ]
    },
    {
     "name": "stderr",
     "output_type": "stream",
     "text": [
      "E:\\Programs\\Anaconda 2023\\Lib\\site-packages\\sklearn\\neighbors\\_classification.py:228: DataConversionWarning:\n",
      "\n",
      "A column-vector y was passed when a 1d array was expected. Please change the shape of y to (n_samples,), for example using ravel().\n",
      "\n"
     ]
    },
    {
     "name": "stdout",
     "output_type": "stream",
     "text": [
      "Model Number: 309 with model ConstantNaive in generation 1 of 10\n",
      "Model Number: 310 with model SeasonalNaive in generation 1 of 10\n",
      "Model Number: 311 with model UnivariateMotif in generation 1 of 10\n",
      "New Generation: 2 of 10\n",
      "Model Number: 312 with model UnivariateMotif in generation 2 of 10\n",
      "Model Number: 313 with model UnivariateMotif in generation 2 of 10\n",
      "Model Number: 314 with model MultivariateRegression in generation 2 of 10\n"
     ]
    },
    {
     "name": "stderr",
     "output_type": "stream",
     "text": [
      "E:\\Programs\\Anaconda 2023\\Lib\\site-packages\\sklearn\\linear_model\\_ridge.py:211: LinAlgWarning:\n",
      "\n",
      "Ill-conditioned matrix (rcond=1.52184e-25): result may not be accurate.\n",
      "\n"
     ]
    },
    {
     "name": "stdout",
     "output_type": "stream",
     "text": [
      "Template Eval Error: ModuleNotFoundError(\"No module named 'xgboost'\") in model 314 in generation 2: MultivariateRegression\n",
      "Model Number: 315 with model Theta in generation 2 of 10\n",
      "Model Number: 316 with model ETS in generation 2 of 10\n",
      "Model Number: 317 with model ARIMA in generation 2 of 10\n",
      "Model Number: 318 with model Theta in generation 2 of 10\n",
      "Model Number: 319 with model UnobservedComponents in generation 2 of 10\n",
      "Model Number: 320 with model ARIMA in generation 2 of 10\n",
      "Model Number: 321 with model DatepartRegression in generation 2 of 10\n",
      "Model Number: 322 with model UnobservedComponents in generation 2 of 10\n",
      "Model Number: 323 with model MetricMotif in generation 2 of 10\n",
      "Model Number: 324 with model Theta in generation 2 of 10\n"
     ]
    },
    {
     "name": "stderr",
     "output_type": "stream",
     "text": [
      "E:\\Programs\\Anaconda 2023\\Lib\\site-packages\\sklearn\\neighbors\\_classification.py:228: DataConversionWarning:\n",
      "\n",
      "A column-vector y was passed when a 1d array was expected. Please change the shape of y to (n_samples,), for example using ravel().\n",
      "\n"
     ]
    },
    {
     "name": "stdout",
     "output_type": "stream",
     "text": [
      "Model Number: 325 with model ARIMA in generation 2 of 10\n",
      "Model Number: 326 with model GLM in generation 2 of 10\n",
      "Model Number: 327 with model SeasonalNaive in generation 2 of 10\n",
      "Model Number: 328 with model UnobservedComponents in generation 2 of 10\n",
      "Model Number: 329 with model MultivariateRegression in generation 2 of 10\n",
      "Model Number: 330 with model NVAR in generation 2 of 10\n",
      "Model Number: 331 with model MultivariateRegression in generation 2 of 10\n",
      "Model Number: 332 with model UnivariateRegression in generation 2 of 10\n",
      "Model Number: 333 with model ETS in generation 2 of 10\n",
      "Model Number: 334 with model ConstantNaive in generation 2 of 10\n",
      "Model Number: 335 with model ARDL in generation 2 of 10\n",
      "Template Eval Error: ValueError(\"regression_type='User' but future_regressor not supplied\") in model 335 in generation 2: ARDL\n",
      "Model Number: 336 with model Theta in generation 2 of 10\n",
      "Model Number: 337 with model SeasonalNaive in generation 2 of 10\n",
      "Model Number: 338 with model GLS in generation 2 of 10\n",
      "Model Number: 339 with model Theta in generation 2 of 10\n",
      "Model Number: 340 with model MetricMotif in generation 2 of 10\n",
      "Model Number: 341 with model SectionalMotif in generation 2 of 10\n",
      "Model Number: 342 with model Theta in generation 2 of 10\n",
      "Model Number: 343 with model Theta in generation 2 of 10\n",
      "Model Number: 344 with model AverageValueNaive in generation 2 of 10\n",
      "Model Number: 345 with model SeasonalNaive in generation 2 of 10\n",
      "Model Number: 346 with model ETS in generation 2 of 10\n"
     ]
    },
    {
     "name": "stderr",
     "output_type": "stream",
     "text": [
      "E:\\Programs\\Anaconda 2023\\Lib\\site-packages\\sklearn\\neighbors\\_classification.py:228: DataConversionWarning:\n",
      "\n",
      "A column-vector y was passed when a 1d array was expected. Please change the shape of y to (n_samples,), for example using ravel().\n",
      "\n"
     ]
    },
    {
     "name": "stdout",
     "output_type": "stream",
     "text": [
      "Model Number: 347 with model ETS in generation 2 of 10\n",
      "Model Number: 348 with model ARIMA in generation 2 of 10\n",
      "Model Number: 349 with model SectionalMotif in generation 2 of 10\n",
      "Model Number: 350 with model LastValueNaive in generation 2 of 10\n",
      "Model Number: 351 with model WindowRegression in generation 2 of 10\n",
      "Model Number: 352 with model AverageValueNaive in generation 2 of 10\n",
      "Template Eval Error: Exception('Transformer BTCD failed on fit') in model 352 in generation 2: AverageValueNaive\n",
      "Model Number: 353 with model AverageValueNaive in generation 2 of 10\n",
      "Model Number: 354 with model Theta in generation 2 of 10\n",
      "Model Number: 355 with model ConstantNaive in generation 2 of 10\n",
      "Model Number: 356 with model GLS in generation 2 of 10\n",
      "Model Number: 357 with model ETS in generation 2 of 10\n",
      "Model Number: 358 with model AverageValueNaive in generation 2 of 10\n",
      "Model Number: 359 with model ConstantNaive in generation 2 of 10\n",
      "Model Number: 360 with model UnobservedComponents in generation 2 of 10\n",
      "Template Eval Error: ValueError(\"regression_type='User' but no future_regressor supplied\") in model 360 in generation 2: UnobservedComponents\n",
      "Model Number: 361 with model UnobservedComponents in generation 2 of 10\n",
      "Template Eval Error: ValueError(\"regression_type='User' but no future_regressor supplied\") in model 361 in generation 2: UnobservedComponents\n",
      "Model Number: 362 with model GLS in generation 2 of 10\n",
      "Model Number: 363 with model GLM in generation 2 of 10\n"
     ]
    },
    {
     "name": "stderr",
     "output_type": "stream",
     "text": [
      "E:\\Programs\\Anaconda 2023\\Lib\\site-packages\\sklearn\\neighbors\\_classification.py:228: DataConversionWarning:\n",
      "\n",
      "A column-vector y was passed when a 1d array was expected. Please change the shape of y to (n_samples,), for example using ravel().\n",
      "\n"
     ]
    },
    {
     "name": "stdout",
     "output_type": "stream",
     "text": [
      "Model Number: 364 with model NVAR in generation 2 of 10\n",
      "Model Number: 365 with model GLS in generation 2 of 10\n",
      "Model Number: 366 with model MetricMotif in generation 2 of 10\n",
      "Model Number: 367 with model ETS in generation 2 of 10\n",
      "Template Eval Error: Exception('Transformer ScipyFilter failed on fit') in model 367 in generation 2: ETS\n",
      "Model Number: 368 with model Theta in generation 2 of 10\n",
      "Model Number: 369 with model SectionalMotif in generation 2 of 10\n",
      "Template Eval Error: Exception('Transformer ReplaceConstant failed on fit') in model 369 in generation 2: SectionalMotif\n",
      "Model Number: 370 with model SectionalMotif in generation 2 of 10\n",
      "Model Number: 371 with model ETS in generation 2 of 10\n",
      "Model Number: 372 with model GLM in generation 2 of 10\n",
      "Model Number: 373 with model ConstantNaive in generation 2 of 10\n",
      "Model Number: 374 with model SeasonalNaive in generation 2 of 10\n",
      "Model Number: 375 with model AverageValueNaive in generation 2 of 10\n",
      "Model Number: 376 with model Theta in generation 2 of 10\n",
      "Model Number: 377 with model ARIMA in generation 2 of 10\n",
      "Model Number: 378 with model MultivariateRegression in generation 2 of 10\n",
      "Template Eval Error: ValueError(\"regression_type='User' but not future_regressor supplied.\") in model 378 in generation 2: MultivariateRegression\n",
      "Model Number: 379 with model UnivariateRegression in generation 2 of 10\n",
      "Model Number: 380 with model UnivariateMotif in generation 2 of 10\n",
      "Model Number: 381 with model AverageValueNaive in generation 2 of 10\n",
      "Model Number: 382 with model GLM in generation 2 of 10\n",
      "Template Eval Error: Exception('Transformer Cointegration failed on fit') in model 382 in generation 2: GLM\n",
      "Model Number: 383 with model AverageValueNaive in generation 2 of 10\n"
     ]
    },
    {
     "name": "stderr",
     "output_type": "stream",
     "text": [
      "E:\\Programs\\Anaconda 2023\\Lib\\site-packages\\sklearn\\linear_model\\_coordinate_descent.py:2412: ConvergenceWarning:\n",
      "\n",
      "Objective did not converge. You might want to increase the number of iterations. Duality gap: 515.916263981685, tolerance: 0.1537775430883762\n",
      "\n"
     ]
    },
    {
     "name": "stdout",
     "output_type": "stream",
     "text": [
      "Model Number: 384 with model NVAR in generation 2 of 10\n",
      "Template Eval Error: Exception('Transformer Cointegration failed on fit') in model 384 in generation 2: NVAR\n",
      "Model Number: 385 with model ETS in generation 2 of 10\n",
      "Model Number: 386 with model ETS in generation 2 of 10\n",
      "Model Number: 387 with model NVAR in generation 2 of 10\n",
      "Model Number: 388 with model SeasonalNaive in generation 2 of 10\n",
      "Model Number: 389 with model AverageValueNaive in generation 2 of 10\n",
      "Model Number: 390 with model LastValueNaive in generation 2 of 10\n",
      "Model Number: 391 with model AverageValueNaive in generation 2 of 10\n",
      "Model Number: 392 with model SeasonalNaive in generation 2 of 10\n",
      "Model Number: 393 with model LastValueNaive in generation 2 of 10\n",
      "Template Eval Error: Exception('Transformer ReplaceConstant failed on fit') in model 393 in generation 2: LastValueNaive\n",
      "Model Number: 394 with model NVAR in generation 2 of 10\n",
      "Model Number: 395 with model SeasonalNaive in generation 2 of 10\n",
      "Model Number: 396 with model Theta in generation 2 of 10\n",
      "Model Number: 397 with model GLM in generation 2 of 10\n",
      "Model Number: 398 with model ARIMA in generation 2 of 10\n",
      "Model Number: 399 with model GLS in generation 2 of 10\n",
      "Model Number: 400 with model LastValueNaive in generation 2 of 10\n",
      "Model Number: 401 with model UnivariateMotif in generation 2 of 10\n",
      "Model Number: 402 with model Theta in generation 2 of 10\n",
      "Model Number: 403 with model ARIMA in generation 2 of 10\n",
      "Model Number: 404 with model Theta in generation 2 of 10\n",
      "Model Number: 405 with model ConstantNaive in generation 2 of 10\n",
      "Template Eval Error: Exception('Transformer ScipyFilter failed on fit') in model 405 in generation 2: ConstantNaive\n",
      "Model Number: 406 with model ETS in generation 2 of 10\n",
      "Model Number: 407 with model ARIMA in generation 2 of 10\n",
      "Model Number: 408 with model GLS in generation 2 of 10\n",
      "Model Number: 409 with model GLM in generation 2 of 10\n",
      "Model Number: 410 with model LastValueNaive in generation 2 of 10\n",
      "Template Eval Error: Exception('Transformer Cointegration failed on fit') in model 410 in generation 2: LastValueNaive\n",
      "Model Number: 411 with model LastValueNaive in generation 2 of 10\n",
      "Template Eval Error: Exception('Transformer BTCD failed on fit') in model 411 in generation 2: LastValueNaive\n",
      "Model Number: 412 with model MetricMotif in generation 2 of 10\n"
     ]
    },
    {
     "name": "stderr",
     "output_type": "stream",
     "text": [
      "E:\\Programs\\Anaconda 2023\\Lib\\site-packages\\statsmodels\\genmod\\families\\family.py:1367: ValueWarning:\n",
      "\n",
      "Negative binomial dispersion parameter alpha not set. Using default value alpha=1.0.\n",
      "\n",
      "E:\\Programs\\Anaconda 2023\\Lib\\site-packages\\sklearn\\experimental\\enable_hist_gradient_boosting.py:15: UserWarning:\n",
      "\n",
      "Since version 1.0, it is not needed to import enable_hist_gradient_boosting anymore. HistGradientBoostingClassifier and HistGradientBoostingRegressor are now stable and can be normally imported from sklearn.ensemble.\n",
      "\n"
     ]
    },
    {
     "name": "stdout",
     "output_type": "stream",
     "text": [
      "Model Number: 413 with model WindowRegression in generation 2 of 10\n",
      "Model Number: 414 with model LastValueNaive in generation 2 of 10\n",
      "Model Number: 415 with model GLS in generation 2 of 10\n",
      "Model Number: 416 with model ARIMA in generation 2 of 10\n",
      "Template Eval Error: Exception('Transformer ReplaceConstant failed on fit') in model 416 in generation 2: ARIMA\n",
      "Model Number: 417 with model SeasonalNaive in generation 2 of 10\n",
      "Model Number: 418 with model DatepartRegression in generation 2 of 10\n",
      "Model Number: 419 with model LastValueNaive in generation 2 of 10\n",
      "Model Number: 420 with model UnobservedComponents in generation 2 of 10\n",
      "Model Number: 421 with model MetricMotif in generation 2 of 10\n",
      "Model Number: 422 with model NVAR in generation 2 of 10\n",
      "Model Number: 423 with model LastValueNaive in generation 2 of 10\n",
      "Model Number: 424 with model DatepartRegression in generation 2 of 10\n",
      "Template Eval Error: ImportError('Tensorflow not available, install with pip install tensorflow.') in model 424 in generation 2: DatepartRegression\n",
      "Model Number: 425 with model UnobservedComponents in generation 2 of 10\n",
      "Model Number: 426 with model Theta in generation 2 of 10\n",
      "Model Number: 427 with model LastValueNaive in generation 2 of 10\n",
      "Template Eval Error: Exception('Transformer ReplaceConstant failed on fit') in model 427 in generation 2: LastValueNaive\n",
      "Model Number: 428 with model LastValueNaive in generation 2 of 10\n",
      "Model Number: 429 with model SeasonalNaive in generation 2 of 10\n",
      "Model Number: 430 with model DatepartRegression in generation 2 of 10\n",
      "Model Number: 431 with model WindowRegression in generation 2 of 10\n",
      "Model Number: 432 with model MetricMotif in generation 2 of 10\n",
      "Model Number: 433 with model WindowRegression in generation 2 of 10\n"
     ]
    },
    {
     "name": "stderr",
     "output_type": "stream",
     "text": [
      "E:\\Programs\\Anaconda 2023\\Lib\\site-packages\\sklearn\\neural_network\\_multilayer_perceptron.py:546: ConvergenceWarning:\n",
      "\n",
      "lbfgs failed to converge (status=1):\n",
      "STOP: TOTAL NO. of ITERATIONS REACHED LIMIT.\n",
      "\n",
      "Increase the number of iterations (max_iter) or scale the data as shown in:\n",
      "    https://scikit-learn.org/stable/modules/preprocessing.html\n",
      "\n"
     ]
    },
    {
     "name": "stdout",
     "output_type": "stream",
     "text": [
      "Model Number: 434 with model UnobservedComponents in generation 2 of 10\n",
      "Model Number: 435 with model UnivariateMotif in generation 2 of 10\n",
      "Model Number: 436 with model SectionalMotif in generation 2 of 10\n",
      "New Generation: 3 of 10\n",
      "Model Number: 437 with model ETS in generation 3 of 10\n",
      "Model Number: 438 with model NVAR in generation 3 of 10\n",
      "Model Number: 439 with model UnivariateMotif in generation 3 of 10\n",
      "Model Number: 440 with model DatepartRegression in generation 3 of 10\n",
      "Model Number: 441 with model ETS in generation 3 of 10\n",
      "Model Number: 442 with model ARIMA in generation 3 of 10\n",
      "Model Number: 443 with model UnivariateMotif in generation 3 of 10\n",
      "Model Number: 444 with model SectionalMotif in generation 3 of 10\n",
      "Model Number: 445 with model LastValueNaive in generation 3 of 10\n"
     ]
    },
    {
     "name": "stderr",
     "output_type": "stream",
     "text": [
      "E:\\Programs\\Anaconda 2023\\Lib\\site-packages\\sklearn\\neighbors\\_classification.py:228: DataConversionWarning:\n",
      "\n",
      "A column-vector y was passed when a 1d array was expected. Please change the shape of y to (n_samples,), for example using ravel().\n",
      "\n"
     ]
    },
    {
     "name": "stdout",
     "output_type": "stream",
     "text": [
      "Model Number: 446 with model ConstantNaive in generation 3 of 10\n",
      "Model Number: 447 with model ConstantNaive in generation 3 of 10\n",
      "Model Number: 448 with model Theta in generation 3 of 10\n",
      "Model Number: 449 with model LastValueNaive in generation 3 of 10\n",
      "Model Number: 450 with model Theta in generation 3 of 10\n",
      "Model Number: 451 with model SeasonalNaive in generation 3 of 10\n",
      "Model Number: 452 with model NVAR in generation 3 of 10\n",
      "Model Number: 453 with model Theta in generation 3 of 10\n",
      "Model Number: 454 with model AverageValueNaive in generation 3 of 10\n",
      "Model Number: 455 with model Theta in generation 3 of 10\n",
      "Model Number: 456 with model Theta in generation 3 of 10\n",
      "Model Number: 457 with model WindowRegression in generation 3 of 10\n",
      "Template Eval Error: ValueError(\"regression_type='User' but no future_regressor passed\") in model 457 in generation 3: WindowRegression\n",
      "Model Number: 458 with model UnivariateRegression in generation 3 of 10\n",
      "Model Number: 459 with model WindowRegression in generation 3 of 10\n",
      "Model Number: 460 with model NVAR in generation 3 of 10\n",
      "Model Number: 461 with model UnobservedComponents in generation 3 of 10\n",
      "Model Number: 462 with model GLS in generation 3 of 10\n",
      "Template Eval Error: Exception('Transformer ReplaceConstant failed on fit') in model 462 in generation 3: GLS\n",
      "Model Number: 463 with model MultivariateMotif in generation 3 of 10\n",
      "Model Number: 464 with model ARIMA in generation 3 of 10\n",
      "Model Number: 465 with model ARIMA in generation 3 of 10\n",
      "Model Number: 466 with model DatepartRegression in generation 3 of 10\n",
      "Model Number: 467 with model MultivariateRegression in generation 3 of 10\n",
      "Model Number: 468 with model LastValueNaive in generation 3 of 10\n",
      "Model Number: 469 with model SectionalMotif in generation 3 of 10\n",
      "Model Number: 470 with model DatepartRegression in generation 3 of 10\n",
      "Model Number: 471 with model ConstantNaive in generation 3 of 10\n",
      "Model Number: 472 with model UnivariateMotif in generation 3 of 10\n",
      "Model Number: 473 with model MultivariateRegression in generation 3 of 10\n",
      "Model Number: 474 with model UnobservedComponents in generation 3 of 10\n",
      "Model Number: 475 with model Theta in generation 3 of 10\n",
      "Model Number: 476 with model SeasonalNaive in generation 3 of 10\n",
      "Model Number: 477 with model UnivariateMotif in generation 3 of 10\n",
      "Model Number: 478 with model UnobservedComponents in generation 3 of 10\n",
      "Model Number: 479 with model LastValueNaive in generation 3 of 10\n",
      "Model Number: 480 with model NVAR in generation 3 of 10\n",
      "Model Number: 481 with model ARIMA in generation 3 of 10\n",
      "Model Number: 482 with model LastValueNaive in generation 3 of 10\n",
      "Model Number: 483 with model GLS in generation 3 of 10\n",
      "Model Number: 484 with model UnobservedComponents in generation 3 of 10\n",
      "Model Number: 485 with model ARIMA in generation 3 of 10\n",
      "Model Number: 486 with model GLM in generation 3 of 10\n",
      "Model Number: 487 with model SectionalMotif in generation 3 of 10\n",
      "Model Number: 488 with model SectionalMotif in generation 3 of 10\n",
      "Model Number: 489 with model SeasonalNaive in generation 3 of 10\n",
      "Model Number: 490 with model UnivariateMotif in generation 3 of 10\n",
      "Model Number: 491 with model ConstantNaive in generation 3 of 10\n",
      "Model Number: 492 with model AverageValueNaive in generation 3 of 10\n",
      "Template Eval Error: Exception('Transformer BTCD failed on fit') in model 492 in generation 3: AverageValueNaive\n",
      "Model Number: 493 with model MetricMotif in generation 3 of 10\n",
      "Template Eval Error: IndexError('index 686 is out of bounds for axis 0 with size 350') in model 493 in generation 3: MetricMotif\n",
      "Model Number: 494 with model Theta in generation 3 of 10\n",
      "Model Number: 495 with model AverageValueNaive in generation 3 of 10\n",
      "Model Number: 496 with model UnivariateMotif in generation 3 of 10\n",
      "Model Number: 497 with model ConstantNaive in generation 3 of 10\n",
      "Model Number: 498 with model ARIMA in generation 3 of 10\n",
      "Model Number: 499 with model SeasonalNaive in generation 3 of 10\n",
      "Model Number: 500 with model MetricMotif in generation 3 of 10\n",
      "Model Number: 501 with model WindowRegression in generation 3 of 10\n",
      "Model Number: 502 with model UnivariateMotif in generation 3 of 10\n",
      "Model Number: 503 with model SeasonalNaive in generation 3 of 10\n",
      "Model Number: 504 with model ConstantNaive in generation 3 of 10\n",
      "Model Number: 505 with model SeasonalNaive in generation 3 of 10\n",
      "Model Number: 506 with model SectionalMotif in generation 3 of 10\n"
     ]
    },
    {
     "name": "stderr",
     "output_type": "stream",
     "text": [
      "E:\\Programs\\Anaconda 2023\\Lib\\site-packages\\sklearn\\svm\\_classes.py:32: FutureWarning:\n",
      "\n",
      "The default value of `dual` will change from `True` to `'auto'` in 1.5. Set the value of `dual` explicitly to suppress the warning.\n",
      "\n",
      "E:\\Programs\\Anaconda 2023\\Lib\\site-packages\\sklearn\\svm\\_base.py:1242: ConvergenceWarning:\n",
      "\n",
      "Liblinear failed to converge, increase the number of iterations.\n",
      "\n"
     ]
    },
    {
     "name": "stdout",
     "output_type": "stream",
     "text": [
      "Model Number: 507 with model ETS in generation 3 of 10\n",
      "Model Number: 508 with model Theta in generation 3 of 10\n",
      "Model Number: 509 with model MetricMotif in generation 3 of 10\n",
      "Model Number: 510 with model NVAR in generation 3 of 10\n",
      "Model Number: 511 with model UnobservedComponents in generation 3 of 10\n",
      "Model Number: 512 with model ARIMA in generation 3 of 10\n",
      "Model Number: 513 with model AverageValueNaive in generation 3 of 10\n",
      "Model Number: 514 with model UnobservedComponents in generation 3 of 10\n",
      "Model Number: 515 with model Theta in generation 3 of 10\n",
      "Model Number: 516 with model UnivariateMotif in generation 3 of 10\n",
      "Model Number: 517 with model ETS in generation 3 of 10\n",
      "Model Number: 518 with model SeasonalNaive in generation 3 of 10\n",
      "Model Number: 519 with model SeasonalNaive in generation 3 of 10\n",
      "Model Number: 520 with model GLM in generation 3 of 10\n"
     ]
    },
    {
     "name": "stderr",
     "output_type": "stream",
     "text": [
      "E:\\Programs\\Anaconda 2023\\Lib\\site-packages\\statsmodels\\genmod\\families\\links.py:198: RuntimeWarning:\n",
      "\n",
      "overflow encountered in exp\n",
      "\n"
     ]
    },
    {
     "name": "stdout",
     "output_type": "stream",
     "text": [
      "Model Number: 521 with model WindowRegression in generation 3 of 10\n",
      "Model Number: 522 with model ETS in generation 3 of 10\n",
      "Model Number: 523 with model ETS in generation 3 of 10\n",
      "Model Number: 524 with model ETS in generation 3 of 10\n",
      "Model Number: 525 with model LastValueNaive in generation 3 of 10\n",
      "Model Number: 526 with model UnobservedComponents in generation 3 of 10\n",
      "Model Number: 527 with model MultivariateMotif in generation 3 of 10\n",
      "Model Number: 528 with model LastValueNaive in generation 3 of 10\n",
      "Model Number: 529 with model ETS in generation 3 of 10\n",
      "Model Number: 530 with model ARIMA in generation 3 of 10\n",
      "Model Number: 531 with model MultivariateMotif in generation 3 of 10\n",
      "Model Number: 532 with model ARDL in generation 3 of 10\n",
      "Model Number: 533 with model MultivariateRegression in generation 3 of 10\n",
      "Template Eval Error: ModuleNotFoundError(\"No module named 'lightgbm'\") in model 533 in generation 3: MultivariateRegression\n",
      "Model Number: 534 with model UnobservedComponents in generation 3 of 10\n",
      "Model Number: 535 with model LastValueNaive in generation 3 of 10\n",
      "Template Eval Error: Exception('Transformer ScipyFilter failed on fit') in model 535 in generation 3: LastValueNaive\n",
      "Model Number: 536 with model ARIMA in generation 3 of 10\n",
      "Model Number: 537 with model UnivariateRegression in generation 3 of 10\n",
      "Model Number: 538 with model MetricMotif in generation 3 of 10\n",
      "Model Number: 539 with model MetricMotif in generation 3 of 10\n",
      "Model Number: 540 with model LastValueNaive in generation 3 of 10\n"
     ]
    },
    {
     "name": "stderr",
     "output_type": "stream",
     "text": [
      "E:\\Programs\\Anaconda 2023\\Lib\\site-packages\\sklearn\\linear_model\\_ridge.py:211: LinAlgWarning:\n",
      "\n",
      "Ill-conditioned matrix (rcond=1.49852e-25): result may not be accurate.\n",
      "\n"
     ]
    },
    {
     "name": "stdout",
     "output_type": "stream",
     "text": [
      "Model Number: 541 with model ConstantNaive in generation 3 of 10\n",
      "Model Number: 542 with model AverageValueNaive in generation 3 of 10\n",
      "Model Number: 543 with model ConstantNaive in generation 3 of 10\n",
      "Model Number: 544 with model UnobservedComponents in generation 3 of 10\n"
     ]
    },
    {
     "name": "stderr",
     "output_type": "stream",
     "text": [
      "E:\\Programs\\Anaconda 2023\\Lib\\site-packages\\sklearn\\svm\\_classes.py:32: FutureWarning:\n",
      "\n",
      "The default value of `dual` will change from `True` to `'auto'` in 1.5. Set the value of `dual` explicitly to suppress the warning.\n",
      "\n",
      "E:\\Programs\\Anaconda 2023\\Lib\\site-packages\\sklearn\\svm\\_base.py:1242: ConvergenceWarning:\n",
      "\n",
      "Liblinear failed to converge, increase the number of iterations.\n",
      "\n"
     ]
    },
    {
     "name": "stdout",
     "output_type": "stream",
     "text": [
      "Model Number: 545 with model UnobservedComponents in generation 3 of 10\n",
      "Model Number: 546 with model ARIMA in generation 3 of 10\n",
      "Model Number: 547 with model NVAR in generation 3 of 10\n",
      "Model Number: 548 with model WindowRegression in generation 3 of 10\n",
      "Model Number: 549 with model GLS in generation 3 of 10\n",
      "Model Number: 550 with model GLM in generation 3 of 10\n",
      "Model Number: 551 with model NVAR in generation 3 of 10\n",
      "Model Number: 552 with model GLM in generation 3 of 10\n"
     ]
    },
    {
     "name": "stderr",
     "output_type": "stream",
     "text": [
      "E:\\Programs\\Anaconda 2023\\Lib\\site-packages\\statsmodels\\genmod\\families\\links.py:198: RuntimeWarning:\n",
      "\n",
      "overflow encountered in exp\n",
      "\n",
      "E:\\Programs\\Anaconda 2023\\Lib\\site-packages\\statsmodels\\genmod\\families\\family.py:1650: RuntimeWarning:\n",
      "\n",
      "invalid value encountered in log\n",
      "\n"
     ]
    },
    {
     "name": "stdout",
     "output_type": "stream",
     "text": [
      "Template Eval Error: ValueError('The first guess on the deviance function returned a nan.  This could be a boundary  problem and should be reported.') in model 552 in generation 3: GLM\n",
      "Model Number: 553 with model WindowRegression in generation 3 of 10\n",
      "Model Number: 554 with model AverageValueNaive in generation 3 of 10\n",
      "Model Number: 555 with model MultivariateMotif in generation 3 of 10\n",
      "Model Number: 556 with model ARIMA in generation 3 of 10\n",
      "Template Eval Error: ValueError(\"regression_type='User' but future_regressor not supplied\") in model 556 in generation 3: ARIMA\n",
      "Model Number: 557 with model LastValueNaive in generation 3 of 10\n",
      "Model Number: 558 with model AverageValueNaive in generation 3 of 10\n",
      "Model Number: 559 with model ARDL in generation 3 of 10\n"
     ]
    },
    {
     "name": "stderr",
     "output_type": "stream",
     "text": [
      "E:\\Programs\\Anaconda 2023\\Lib\\site-packages\\sklearn\\neighbors\\_classification.py:228: DataConversionWarning:\n",
      "\n",
      "A column-vector y was passed when a 1d array was expected. Please change the shape of y to (n_samples,), for example using ravel().\n",
      "\n",
      "E:\\Programs\\Anaconda 2023\\Lib\\site-packages\\sklearn\\neighbors\\_classification.py:228: DataConversionWarning:\n",
      "\n",
      "A column-vector y was passed when a 1d array was expected. Please change the shape of y to (n_samples,), for example using ravel().\n",
      "\n"
     ]
    },
    {
     "name": "stdout",
     "output_type": "stream",
     "text": [
      "Model Number: 560 with model ARDL in generation 3 of 10\n",
      "Model Number: 561 with model MultivariateRegression in generation 3 of 10\n",
      "New Generation: 4 of 10\n",
      "Model Number: 562 with model DatepartRegression in generation 4 of 10\n"
     ]
    },
    {
     "name": "stderr",
     "output_type": "stream",
     "text": [
      "E:\\Programs\\Anaconda 2023\\Lib\\site-packages\\sklearn\\linear_model\\_coordinate_descent.py:628: ConvergenceWarning:\n",
      "\n",
      "Objective did not converge. You might want to increase the number of iterations, check the scale of the features or consider increasing regularisation. Duality gap: 2.555e+02, tolerance: 5.336e-02\n",
      "\n"
     ]
    },
    {
     "name": "stdout",
     "output_type": "stream",
     "text": [
      "Model Number: 563 with model ETS in generation 4 of 10\n",
      "Model Number: 564 with model ETS in generation 4 of 10\n",
      "Model Number: 565 with model LastValueNaive in generation 4 of 10\n",
      "Model Number: 566 with model LastValueNaive in generation 4 of 10\n",
      "Model Number: 567 with model MultivariateRegression in generation 4 of 10\n",
      "Model Number: 568 with model MultivariateRegression in generation 4 of 10\n",
      "Template Eval Error: ModuleNotFoundError(\"No module named 'xgboost'\") in model 568 in generation 4: MultivariateRegression\n",
      "Model Number: 569 with model UnivariateRegression in generation 4 of 10\n",
      "Model Number: 570 with model Theta in generation 4 of 10\n",
      "Model Number: 571 with model LastValueNaive in generation 4 of 10\n",
      "Model Number: 572 with model ETS in generation 4 of 10\n",
      "Model Number: 573 with model UnobservedComponents in generation 4 of 10\n",
      "Model Number: 574 with model Theta in generation 4 of 10\n",
      "Model Number: 575 with model MetricMotif in generation 4 of 10\n",
      "Model Number: 576 with model ConstantNaive in generation 4 of 10\n",
      "Model Number: 577 with model GLM in generation 4 of 10\n",
      "Model Number: 578 with model LastValueNaive in generation 4 of 10\n",
      "Model Number: 579 with model AverageValueNaive in generation 4 of 10\n",
      "Model Number: 580 with model ETS in generation 4 of 10\n",
      "Template Eval Error: Exception('Transformer Cointegration failed on fit') in model 580 in generation 4: ETS\n",
      "Model Number: 581 with model WindowRegression in generation 4 of 10\n",
      "Model Number: 582 with model GLS in generation 4 of 10\n",
      "Model Number: 583 with model WindowRegression in generation 4 of 10\n",
      "Model Number: 584 with model ConstantNaive in generation 4 of 10\n",
      "Model Number: 585 with model ConstantNaive in generation 4 of 10\n",
      "Model Number: 586 with model ETS in generation 4 of 10\n",
      "Model Number: 587 with model ARIMA in generation 4 of 10\n",
      "Model Number: 588 with model NVAR in generation 4 of 10\n",
      "Model Number: 589 with model DatepartRegression in generation 4 of 10\n",
      "Model Number: 590 with model SectionalMotif in generation 4 of 10\n",
      "Model Number: 591 with model AverageValueNaive in generation 4 of 10\n",
      "Model Number: 592 with model ARIMA in generation 4 of 10\n",
      "Template Eval Error: Exception('Transformer ScipyFilter failed on fit') in model 592 in generation 4: ARIMA\n",
      "Model Number: 593 with model WindowRegression in generation 4 of 10\n",
      "Model Number: 594 with model GLS in generation 4 of 10\n",
      "Model Number: 595 with model Theta in generation 4 of 10\n",
      "Model Number: 596 with model AverageValueNaive in generation 4 of 10\n",
      "Model Number: 597 with model WindowRegression in generation 4 of 10\n"
     ]
    },
    {
     "name": "stderr",
     "output_type": "stream",
     "text": [
      "E:\\Programs\\Anaconda 2023\\Lib\\site-packages\\sklearn\\neighbors\\_classification.py:228: DataConversionWarning:\n",
      "\n",
      "A column-vector y was passed when a 1d array was expected. Please change the shape of y to (n_samples,), for example using ravel().\n",
      "\n"
     ]
    },
    {
     "name": "stdout",
     "output_type": "stream",
     "text": [
      "Model Number: 598 with model UnivariateRegression in generation 4 of 10\n",
      "Template Eval Error: ValueError(\"regression_type='User' but not future_regressor supplied.\") in model 598 in generation 4: UnivariateRegression\n",
      "Model Number: 599 with model AverageValueNaive in generation 4 of 10\n",
      "Model Number: 600 with model ARIMA in generation 4 of 10\n",
      "Model Number: 601 with model NVAR in generation 4 of 10\n",
      "Model Number: 602 with model UnobservedComponents in generation 4 of 10\n",
      "Model Number: 603 with model ARIMA in generation 4 of 10\n",
      "Model Number: 604 with model GLM in generation 4 of 10\n"
     ]
    },
    {
     "name": "stderr",
     "output_type": "stream",
     "text": [
      "E:\\Programs\\Anaconda 2023\\Lib\\site-packages\\statsmodels\\genmod\\families\\links.py:198: RuntimeWarning:\n",
      "\n",
      "overflow encountered in exp\n",
      "\n"
     ]
    },
    {
     "name": "stdout",
     "output_type": "stream",
     "text": [
      "Model Number: 605 with model AverageValueNaive in generation 4 of 10\n",
      "Model Number: 606 with model DatepartRegression in generation 4 of 10\n",
      "Template Eval Error: ValueError(\"regression_type='User' but no future_regressor passed\") in model 606 in generation 4: DatepartRegression\n",
      "Model Number: 607 with model SeasonalNaive in generation 4 of 10\n",
      "Model Number: 608 with model LastValueNaive in generation 4 of 10\n",
      "Model Number: 609 with model NVAR in generation 4 of 10\n",
      "Model Number: 610 with model ETS in generation 4 of 10\n",
      "Model Number: 611 with model GLS in generation 4 of 10\n",
      "Model Number: 612 with model ETS in generation 4 of 10\n",
      "Model Number: 613 with model MetricMotif in generation 4 of 10\n",
      "Model Number: 614 with model NVAR in generation 4 of 10\n",
      "Model Number: 615 with model LastValueNaive in generation 4 of 10\n",
      "Model Number: 616 with model NVAR in generation 4 of 10\n",
      "Model Number: 617 with model GLS in generation 4 of 10\n",
      "Model Number: 618 with model NVAR in generation 4 of 10\n",
      "Model Number: 619 with model UnobservedComponents in generation 4 of 10\n",
      "Model Number: 620 with model Theta in generation 4 of 10\n",
      "Model Number: 621 with model ConstantNaive in generation 4 of 10\n",
      "Model Number: 622 with model LastValueNaive in generation 4 of 10\n",
      "Model Number: 623 with model SectionalMotif in generation 4 of 10\n",
      "Template Eval Error: ValueError(\"regression_type=='User' but no future_regressor supplied\") in model 623 in generation 4: SectionalMotif\n",
      "Model Number: 624 with model UnivariateMotif in generation 4 of 10\n",
      "Model Number: 625 with model AverageValueNaive in generation 4 of 10\n",
      "Model Number: 626 with model SectionalMotif in generation 4 of 10\n",
      "Model Number: 627 with model DatepartRegression in generation 4 of 10\n",
      "Model Number: 628 with model UnivariateMotif in generation 4 of 10\n",
      "Template Eval Error: Exception('Transformer ScipyFilter failed on fit') in model 628 in generation 4: UnivariateMotif\n",
      "Model Number: 629 with model GLS in generation 4 of 10\n",
      "Model Number: 630 with model NVAR in generation 4 of 10\n",
      "Model Number: 631 with model ConstantNaive in generation 4 of 10\n",
      "Model Number: 632 with model AverageValueNaive in generation 4 of 10\n",
      "Model Number: 633 with model MetricMotif in generation 4 of 10\n",
      "Model Number: 634 with model LastValueNaive in generation 4 of 10\n",
      "Model Number: 635 with model UnivariateMotif in generation 4 of 10\n",
      "Template Eval Error: Exception('Transformer AlignLastValue failed on inverse') in model 635 in generation 4: UnivariateMotif\n",
      "Model Number: 636 with model ARDL in generation 4 of 10\n",
      "Model Number: 637 with model AverageValueNaive in generation 4 of 10\n",
      "Model Number: 638 with model SectionalMotif in generation 4 of 10\n",
      "Model Number: 639 with model WindowRegression in generation 4 of 10\n",
      "Model Number: 640 with model ConstantNaive in generation 4 of 10\n",
      "Model Number: 641 with model LastValueNaive in generation 4 of 10\n",
      "Model Number: 642 with model Theta in generation 4 of 10\n",
      "Model Number: 643 with model GLS in generation 4 of 10\n",
      "Model Number: 644 with model MultivariateMotif in generation 4 of 10\n",
      "Model Number: 645 with model UnivariateRegression in generation 4 of 10\n",
      "Model Number: 646 with model MultivariateMotif in generation 4 of 10\n",
      "Model Number: 647 with model AverageValueNaive in generation 4 of 10\n",
      "Model Number: 648 with model SeasonalNaive in generation 4 of 10\n",
      "Model Number: 649 with model GLM in generation 4 of 10\n",
      "Model Number: 650 with model SeasonalNaive in generation 4 of 10\n",
      "Template Eval Error: Exception('Transformer ReplaceConstant failed on fit') in model 650 in generation 4: SeasonalNaive\n",
      "Model Number: 651 with model MultivariateRegression in generation 4 of 10\n"
     ]
    },
    {
     "name": "stderr",
     "output_type": "stream",
     "text": [
      "E:\\Programs\\Anaconda 2023\\Lib\\site-packages\\sklearn\\linear_model\\_ridge.py:211: LinAlgWarning:\n",
      "\n",
      "Ill-conditioned matrix (rcond=1.52184e-25): result may not be accurate.\n",
      "\n",
      "E:\\Programs\\Anaconda 2023\\Lib\\site-packages\\sklearn\\svm\\_classes.py:32: FutureWarning:\n",
      "\n",
      "The default value of `dual` will change from `True` to `'auto'` in 1.5. Set the value of `dual` explicitly to suppress the warning.\n",
      "\n",
      "E:\\Programs\\Anaconda 2023\\Lib\\site-packages\\sklearn\\svm\\_base.py:1242: ConvergenceWarning:\n",
      "\n",
      "Liblinear failed to converge, increase the number of iterations.\n",
      "\n"
     ]
    },
    {
     "name": "stdout",
     "output_type": "stream",
     "text": [
      "Model Number: 652 with model MetricMotif in generation 4 of 10\n",
      "Model Number: 653 with model MultivariateMotif in generation 4 of 10\n",
      "Model Number: 654 with model MetricMotif in generation 4 of 10\n",
      "Model Number: 655 with model LastValueNaive in generation 4 of 10\n",
      "Model Number: 656 with model MetricMotif in generation 4 of 10\n",
      "Model Number: 657 with model GLM in generation 4 of 10\n",
      "Model Number: 658 with model SectionalMotif in generation 4 of 10\n",
      "Model Number: 659 with model WindowRegression in generation 4 of 10\n",
      "Template Eval Error: Exception('Transformer AlignLastValue failed on inverse') in model 659 in generation 4: WindowRegression\n",
      "Model Number: 660 with model ETS in generation 4 of 10\n",
      "Model Number: 661 with model UnivariateMotif in generation 4 of 10\n",
      "Model Number: 662 with model SeasonalNaive in generation 4 of 10\n",
      "Model Number: 663 with model MultivariateMotif in generation 4 of 10\n",
      "Model Number: 664 with model WindowRegression in generation 4 of 10\n",
      "Model Number: 665 with model ARIMA in generation 4 of 10\n",
      "Template Eval Error: ValueError(\"regression_type='User' but future_regressor not supplied\") in model 665 in generation 4: ARIMA\n",
      "Model Number: 666 with model ARIMA in generation 4 of 10\n",
      "Model Number: 667 with model MultivariateRegression in generation 4 of 10\n",
      "Template Eval Error: ModuleNotFoundError(\"No module named 'xgboost'\") in model 667 in generation 4: MultivariateRegression\n",
      "Model Number: 668 with model ETS in generation 4 of 10\n",
      "Model Number: 669 with model LastValueNaive in generation 4 of 10\n",
      "Model Number: 670 with model MultivariateMotif in generation 4 of 10\n",
      "Model Number: 671 with model ARIMA in generation 4 of 10\n",
      "Model Number: 672 with model NVAR in generation 4 of 10\n",
      "Model Number: 673 with model WindowRegression in generation 4 of 10\n",
      "Model Number: 674 with model Theta in generation 4 of 10\n",
      "Model Number: 675 with model NVAR in generation 4 of 10\n",
      "Model Number: 676 with model ARIMA in generation 4 of 10\n",
      "Model Number: 677 with model ConstantNaive in generation 4 of 10\n",
      "Model Number: 678 with model Theta in generation 4 of 10\n",
      "Model Number: 679 with model GLS in generation 4 of 10\n",
      "Model Number: 680 with model MetricMotif in generation 4 of 10\n",
      "Model Number: 681 with model UnobservedComponents in generation 4 of 10\n",
      "Template Eval Error: ValueError(\"regression_type='User' but no future_regressor supplied\") in model 681 in generation 4: UnobservedComponents\n",
      "Model Number: 682 with model ETS in generation 4 of 10\n",
      "Template Eval Error: Exception('Transformer Cointegration failed on fit') in model 682 in generation 4: ETS\n",
      "Model Number: 683 with model MultivariateRegression in generation 4 of 10\n",
      "Model Number: 684 with model SectionalMotif in generation 4 of 10\n",
      "Template Eval Error: Exception('Transformer ScipyFilter failed on fit') in model 684 in generation 4: SectionalMotif\n",
      "Model Number: 685 with model UnivariateRegression in generation 4 of 10\n",
      "Model Number: 686 with model ETS in generation 4 of 10\n",
      "New Generation: 5 of 10\n",
      "Model Number: 687 with model Theta in generation 5 of 10\n",
      "Template Eval Error: Exception('Transformer FastICA failed on fit') in model 687 in generation 5: Theta\n",
      "Model Number: 688 with model SectionalMotif in generation 5 of 10\n",
      "Template Eval Error: ValueError(\"regression_type=='User' but no future_regressor supplied\") in model 688 in generation 5: SectionalMotif\n",
      "Model Number: 689 with model UnivariateMotif in generation 5 of 10\n",
      "Model Number: 690 with model GLS in generation 5 of 10\n",
      "Model Number: 691 with model AverageValueNaive in generation 5 of 10\n",
      "Model Number: 692 with model UnivariateRegression in generation 5 of 10\n",
      "Template Eval Error: Exception('Transformer AlignLastValue failed on inverse') in model 692 in generation 5: UnivariateRegression\n",
      "Model Number: 693 with model LastValueNaive in generation 5 of 10\n",
      "Model Number: 694 with model UnivariateMotif in generation 5 of 10\n",
      "Model Number: 695 with model ARIMA in generation 5 of 10\n",
      "Model Number: 696 with model NVAR in generation 5 of 10\n",
      "Model Number: 697 with model DatepartRegression in generation 5 of 10\n",
      "Model Number: 698 with model MultivariateRegression in generation 5 of 10\n",
      "Template Eval Error: ModuleNotFoundError(\"No module named 'lightgbm'\") in model 698 in generation 5: MultivariateRegression\n",
      "Model Number: 699 with model SectionalMotif in generation 5 of 10\n",
      "Model Number: 700 with model GLS in generation 5 of 10\n",
      "Model Number: 701 with model AverageValueNaive in generation 5 of 10\n",
      "Model Number: 702 with model ETS in generation 5 of 10\n",
      "Model Number: 703 with model ARIMA in generation 5 of 10\n",
      "Model Number: 704 with model GLS in generation 5 of 10\n",
      "Model Number: 705 with model DatepartRegression in generation 5 of 10\n",
      "Model Number: 706 with model SeasonalNaive in generation 5 of 10\n",
      "Model Number: 707 with model ConstantNaive in generation 5 of 10\n",
      "Model Number: 708 with model UnivariateMotif in generation 5 of 10\n",
      "Model Number: 709 with model Theta in generation 5 of 10\n",
      "Model Number: 710 with model GLS in generation 5 of 10\n",
      "Model Number: 711 with model LastValueNaive in generation 5 of 10\n",
      "Model Number: 712 with model Theta in generation 5 of 10\n",
      "Model Number: 713 with model SectionalMotif in generation 5 of 10\n",
      "Model Number: 714 with model DatepartRegression in generation 5 of 10\n",
      "Model Number: 715 with model GLM in generation 5 of 10\n",
      "Template Eval Error: Exception('Transformer KalmanSmoothing failed on fit') in model 715 in generation 5: GLM\n",
      "Model Number: 716 with model DatepartRegression in generation 5 of 10\n",
      "Model Number: 717 with model Theta in generation 5 of 10\n",
      "Model Number: 718 with model AverageValueNaive in generation 5 of 10\n",
      "Model Number: 719 with model Theta in generation 5 of 10\n",
      "Model Number: 720 with model GLS in generation 5 of 10\n",
      "Template Eval Error: Exception('Transformer ScipyFilter failed on fit') in model 720 in generation 5: GLS\n",
      "Model Number: 721 with model AverageValueNaive in generation 5 of 10\n",
      "Model Number: 722 with model NVAR in generation 5 of 10\n",
      "Model Number: 723 with model UnivariateRegression in generation 5 of 10\n",
      "Model Number: 724 with model UnivariateMotif in generation 5 of 10\n",
      "Model Number: 725 with model MultivariateRegression in generation 5 of 10\n",
      "Model Number: 726 with model LastValueNaive in generation 5 of 10\n",
      "Model Number: 727 with model DatepartRegression in generation 5 of 10\n",
      "Model Number: 728 with model Theta in generation 5 of 10\n",
      "Model Number: 729 with model SectionalMotif in generation 5 of 10\n",
      "Template Eval Error: Exception('Transformer FastICA failed on fit') in model 729 in generation 5: SectionalMotif\n",
      "Model Number: 730 with model WindowRegression in generation 5 of 10\n",
      "Model Number: 731 with model Theta in generation 5 of 10\n",
      "Model Number: 732 with model ARDL in generation 5 of 10\n",
      "Model Number: 733 with model UnobservedComponents in generation 5 of 10\n",
      "Model Number: 734 with model NVAR in generation 5 of 10\n",
      "Model Number: 735 with model ARIMA in generation 5 of 10\n",
      "Model Number: 736 with model UnobservedComponents in generation 5 of 10\n",
      "Model Number: 737 with model SeasonalNaive in generation 5 of 10\n",
      "Template Eval Error: Exception('Transformer BTCD failed on fit') in model 737 in generation 5: SeasonalNaive\n",
      "Model Number: 738 with model WindowRegression in generation 5 of 10\n",
      "Model Number: 739 with model UnobservedComponents in generation 5 of 10\n",
      "Model Number: 740 with model GLM in generation 5 of 10\n",
      "Model Number: 741 with model MultivariateMotif in generation 5 of 10\n",
      "Model Number: 742 with model GLM in generation 5 of 10\n"
     ]
    },
    {
     "name": "stderr",
     "output_type": "stream",
     "text": [
      "E:\\Programs\\Anaconda 2023\\Lib\\site-packages\\statsmodels\\genmod\\generalized_linear_model.py:307: DomainWarning:\n",
      "\n",
      "The InversePower link function does not respect the domain of the Gamma family.\n",
      "\n"
     ]
    },
    {
     "name": "stdout",
     "output_type": "stream",
     "text": [
      "Model Number: 743 with model UnobservedComponents in generation 5 of 10\n",
      "Model Number: 744 with model GLS in generation 5 of 10\n",
      "Model Number: 745 with model ETS in generation 5 of 10\n",
      "Model Number: 746 with model MultivariateMotif in generation 5 of 10\n",
      "Model Number: 747 with model GLM in generation 5 of 10\n",
      "Model Number: 748 with model MultivariateMotif in generation 5 of 10\n",
      "Model Number: 749 with model Theta in generation 5 of 10\n",
      "Model Number: 750 with model UnobservedComponents in generation 5 of 10\n",
      "Model Number: 751 with model WindowRegression in generation 5 of 10\n",
      "Model Number: 752 with model Theta in generation 5 of 10\n",
      "Model Number: 753 with model LastValueNaive in generation 5 of 10\n",
      "Model Number: 754 with model MetricMotif in generation 5 of 10\n",
      "Model Number: 755 with model ETS in generation 5 of 10\n",
      "Model Number: 756 with model GLS in generation 5 of 10\n",
      "Model Number: 757 with model NVAR in generation 5 of 10\n",
      "Model Number: 758 with model MultivariateRegression in generation 5 of 10\n",
      "Model Number: 759 with model SeasonalNaive in generation 5 of 10\n",
      "Model Number: 760 with model NVAR in generation 5 of 10\n",
      "Template Eval Error: Exception('Transformer BTCD failed on fit') in model 760 in generation 5: NVAR\n",
      "Model Number: 761 with model GLM in generation 5 of 10\n",
      "Template Eval Error: Exception('Transformer KalmanSmoothing failed on fit') in model 761 in generation 5: GLM\n",
      "Model Number: 762 with model ARIMA in generation 5 of 10\n",
      "Model Number: 763 with model GLS in generation 5 of 10\n",
      "Template Eval Error: ValueError(\"Model returned NaN due to a preprocessing transformer {'fillna': 'ffill_mean_biased', 'transformations': {'0': 'PowerTransformer', '1': 'PctChangeTransformer', '2': 'CumSumTransformer', '3': 'Round', '4': 'SeasonalDifference', '5': 'HPFilter'}, 'transformation_params': {'0': {}, '1': {}, '2': {}, '3': {'decimals': 0, 'on_transform': True, 'on_inverse': True}, '4': {'lag_1': 24, 'method': 20}, '5': {'part': 'trend', 'lamb': 1600}}}. fail_on_forecast_nan=True\") in model 763 in generation 5: GLS\n",
      "Model Number: 764 with model ARIMA in generation 5 of 10\n",
      "Model Number: 765 with model SectionalMotif in generation 5 of 10\n",
      "Model Number: 766 with model ETS in generation 5 of 10\n",
      "Model Number: 767 with model GLS in generation 5 of 10\n",
      "Template Eval Error: Exception('Transformer BTCD failed on fit') in model 767 in generation 5: GLS\n",
      "Model Number: 768 with model NVAR in generation 5 of 10\n",
      "Model Number: 769 with model UnivariateMotif in generation 5 of 10\n",
      "Model Number: 770 with model AverageValueNaive in generation 5 of 10\n",
      "Model Number: 771 with model MultivariateMotif in generation 5 of 10\n",
      "Model Number: 772 with model LastValueNaive in generation 5 of 10\n",
      "Model Number: 773 with model Theta in generation 5 of 10\n",
      "Model Number: 774 with model ConstantNaive in generation 5 of 10\n",
      "Model Number: 775 with model ETS in generation 5 of 10\n",
      "Model Number: 776 with model LastValueNaive in generation 5 of 10\n",
      "Model Number: 777 with model SeasonalNaive in generation 5 of 10\n",
      "Model Number: 778 with model ETS in generation 5 of 10\n",
      "Model Number: 779 with model ARIMA in generation 5 of 10\n",
      "Template Eval Error: Exception('Transformer DatepartRegression failed on fit') in model 779 in generation 5: ARIMA\n",
      "Model Number: 780 with model MetricMotif in generation 5 of 10\n",
      "Model Number: 781 with model MultivariateMotif in generation 5 of 10\n",
      "Model Number: 782 with model NVAR in generation 5 of 10\n",
      "Model Number: 783 with model AverageValueNaive in generation 5 of 10\n",
      "Model Number: 784 with model MetricMotif in generation 5 of 10\n",
      "Model Number: 785 with model Theta in generation 5 of 10\n",
      "Model Number: 786 with model MultivariateRegression in generation 5 of 10\n",
      "New Generation: 6 of 10\n",
      "Model Number: 787 with model UnivariateMotif in generation 6 of 10\n",
      "Model Number: 788 with model LastValueNaive in generation 6 of 10\n",
      "Model Number: 789 with model UnobservedComponents in generation 6 of 10\n",
      "Model Number: 790 with model SectionalMotif in generation 6 of 10\n",
      "Template Eval Error: Exception('Transformer BTCD failed on fit') in model 790 in generation 6: SectionalMotif\n",
      "Model Number: 791 with model ARIMA in generation 6 of 10\n",
      "Model Number: 792 with model GLM in generation 6 of 10\n",
      "Model Number: 793 with model MultivariateMotif in generation 6 of 10\n",
      "Template Eval Error: Exception('Transformer Cointegration failed on fit') in model 793 in generation 6: MultivariateMotif\n",
      "Model Number: 794 with model ConstantNaive in generation 6 of 10\n",
      "Template Eval Error: Exception('Transformer AlignLastValue failed on inverse') in model 794 in generation 6: ConstantNaive\n",
      "Model Number: 795 with model GLS in generation 6 of 10\n",
      "Model Number: 796 with model MultivariateRegression in generation 6 of 10\n"
     ]
    },
    {
     "name": "stderr",
     "output_type": "stream",
     "text": [
      "E:\\Programs\\Anaconda 2023\\Lib\\site-packages\\sklearn\\svm\\_classes.py:32: FutureWarning:\n",
      "\n",
      "The default value of `dual` will change from `True` to `'auto'` in 1.5. Set the value of `dual` explicitly to suppress the warning.\n",
      "\n",
      "E:\\Programs\\Anaconda 2023\\Lib\\site-packages\\sklearn\\svm\\_base.py:1242: ConvergenceWarning:\n",
      "\n",
      "Liblinear failed to converge, increase the number of iterations.\n",
      "\n"
     ]
    },
    {
     "name": "stdout",
     "output_type": "stream",
     "text": [
      "Model Number: 797 with model UnobservedComponents in generation 6 of 10\n",
      "Model Number: 798 with model UnobservedComponents in generation 6 of 10\n",
      "Model Number: 799 with model UnivariateMotif in generation 6 of 10\n",
      "Model Number: 800 with model AverageValueNaive in generation 6 of 10\n",
      "Model Number: 801 with model MultivariateRegression in generation 6 of 10\n",
      "Model Number: 802 with model MultivariateMotif in generation 6 of 10\n",
      "Template Eval Error: Exception('Transformer Cointegration failed on fit') in model 802 in generation 6: MultivariateMotif\n",
      "Model Number: 803 with model MultivariateMotif in generation 6 of 10\n",
      "Model Number: 804 with model AverageValueNaive in generation 6 of 10\n",
      "Model Number: 805 with model AverageValueNaive in generation 6 of 10\n",
      "Model Number: 806 with model MetricMotif in generation 6 of 10\n",
      "Template Eval Error: Exception('Transformer ReplaceConstant failed on fit') in model 806 in generation 6: MetricMotif\n",
      "Model Number: 807 with model ARIMA in generation 6 of 10\n",
      "Template Eval Error: ValueError(\"regression_type='User' but future_regressor not supplied\") in model 807 in generation 6: ARIMA\n",
      "Model Number: 808 with model GLS in generation 6 of 10\n"
     ]
    },
    {
     "name": "stderr",
     "output_type": "stream",
     "text": [
      "E:\\Programs\\Anaconda 2023\\Lib\\site-packages\\sklearn\\neighbors\\_classification.py:228: DataConversionWarning:\n",
      "\n",
      "A column-vector y was passed when a 1d array was expected. Please change the shape of y to (n_samples,), for example using ravel().\n",
      "\n"
     ]
    },
    {
     "name": "stdout",
     "output_type": "stream",
     "text": [
      "Model Number: 809 with model SeasonalNaive in generation 6 of 10\n",
      "Model Number: 810 with model MultivariateMotif in generation 6 of 10\n",
      "Model Number: 811 with model ETS in generation 6 of 10\n",
      "Model Number: 812 with model LastValueNaive in generation 6 of 10\n",
      "Model Number: 813 with model Theta in generation 6 of 10\n",
      "Model Number: 814 with model Theta in generation 6 of 10\n",
      "Model Number: 815 with model UnivariateMotif in generation 6 of 10\n",
      "Model Number: 816 with model ARIMA in generation 6 of 10\n",
      "Template Eval Error: Exception('Transformer BTCD failed on fit') in model 816 in generation 6: ARIMA\n",
      "Model Number: 817 with model Theta in generation 6 of 10\n",
      "Model Number: 818 with model LastValueNaive in generation 6 of 10\n",
      "Model Number: 819 with model MultivariateRegression in generation 6 of 10\n",
      "Model Number: 820 with model ARIMA in generation 6 of 10\n",
      "Model Number: 821 with model ETS in generation 6 of 10\n",
      "Model Number: 822 with model UnivariateMotif in generation 6 of 10\n",
      "Model Number: 823 with model LastValueNaive in generation 6 of 10\n",
      "Model Number: 824 with model UnobservedComponents in generation 6 of 10\n",
      "Model Number: 825 with model NVAR in generation 6 of 10\n",
      "Model Number: 826 with model LastValueNaive in generation 6 of 10\n",
      "Model Number: 827 with model GLS in generation 6 of 10\n",
      "Model Number: 828 with model UnobservedComponents in generation 6 of 10\n",
      "Template Eval Error: ValueError('Model UnobservedComponents returned NaN for one or more series. fail_on_forecast_nan=True') in model 828 in generation 6: UnobservedComponents\n",
      "Model Number: 829 with model Theta in generation 6 of 10\n",
      "Model Number: 830 with model WindowRegression in generation 6 of 10\n",
      "Model Number: 831 with model Theta in generation 6 of 10\n",
      "Model Number: 832 with model MultivariateRegression in generation 6 of 10\n",
      "Template Eval Error: ModuleNotFoundError(\"No module named 'xgboost'\") in model 832 in generation 6: MultivariateRegression\n",
      "Model Number: 833 with model Theta in generation 6 of 10\n",
      "Model Number: 834 with model SeasonalNaive in generation 6 of 10\n",
      "Model Number: 835 with model GLS in generation 6 of 10\n",
      "Template Eval Error: Exception('Transformer ReplaceConstant failed on fit') in model 835 in generation 6: GLS\n",
      "Model Number: 836 with model LastValueNaive in generation 6 of 10\n",
      "Model Number: 837 with model MultivariateMotif in generation 6 of 10\n",
      "Model Number: 838 with model MultivariateMotif in generation 6 of 10\n",
      "Model Number: 839 with model UnobservedComponents in generation 6 of 10\n",
      "Model Number: 840 with model GLS in generation 6 of 10\n",
      "Model Number: 841 with model SectionalMotif in generation 6 of 10\n",
      "Model Number: 842 with model ARIMA in generation 6 of 10\n",
      "Model Number: 843 with model Theta in generation 6 of 10\n",
      "Model Number: 844 with model SectionalMotif in generation 6 of 10\n",
      "Model Number: 845 with model Theta in generation 6 of 10\n"
     ]
    },
    {
     "name": "stderr",
     "output_type": "stream",
     "text": [
      "E:\\Programs\\Anaconda 2023\\Lib\\site-packages\\sklearn\\neighbors\\_classification.py:228: DataConversionWarning:\n",
      "\n",
      "A column-vector y was passed when a 1d array was expected. Please change the shape of y to (n_samples,), for example using ravel().\n",
      "\n"
     ]
    },
    {
     "name": "stdout",
     "output_type": "stream",
     "text": [
      "Model Number: 846 with model ETS in generation 6 of 10\n",
      "Model Number: 847 with model UnivariateMotif in generation 6 of 10\n",
      "Model Number: 848 with model UnivariateRegression in generation 6 of 10\n",
      "Model Number: 849 with model AverageValueNaive in generation 6 of 10\n",
      "Model Number: 850 with model ARIMA in generation 6 of 10\n",
      "Model Number: 851 with model Theta in generation 6 of 10\n",
      "Model Number: 852 with model DatepartRegression in generation 6 of 10\n",
      "Model Number: 853 with model ARIMA in generation 6 of 10\n"
     ]
    },
    {
     "name": "stderr",
     "output_type": "stream",
     "text": [
      "E:\\Programs\\Anaconda 2023\\Lib\\site-packages\\sklearn\\neural_network\\_multilayer_perceptron.py:691: ConvergenceWarning:\n",
      "\n",
      "Stochastic Optimizer: Maximum iterations (250) reached and the optimization hasn't converged yet.\n",
      "\n"
     ]
    },
    {
     "name": "stdout",
     "output_type": "stream",
     "text": [
      "Model Number: 854 with model WindowRegression in generation 6 of 10\n",
      "Model Number: 855 with model UnivariateRegression in generation 6 of 10\n",
      "Model Number: 856 with model MultivariateMotif in generation 6 of 10\n",
      "Template Eval Error: Exception('Transformer ScipyFilter failed on fit') in model 856 in generation 6: MultivariateMotif\n",
      "Model Number: 857 with model SeasonalNaive in generation 6 of 10\n",
      "Template Eval Error: Exception('Transformer BTCD failed on fit') in model 857 in generation 6: SeasonalNaive\n",
      "Model Number: 858 with model NVAR in generation 6 of 10\n",
      "Model Number: 859 with model GLM in generation 6 of 10\n",
      "Model Number: 860 with model DatepartRegression in generation 6 of 10\n"
     ]
    },
    {
     "name": "stderr",
     "output_type": "stream",
     "text": [
      "E:\\Programs\\Anaconda 2023\\Lib\\site-packages\\statsmodels\\genmod\\families\\links.py:198: RuntimeWarning:\n",
      "\n",
      "overflow encountered in exp\n",
      "\n"
     ]
    },
    {
     "name": "stdout",
     "output_type": "stream",
     "text": [
      "Model Number: 861 with model AverageValueNaive in generation 6 of 10\n",
      "Model Number: 862 with model WindowRegression in generation 6 of 10\n",
      "Model Number: 863 with model ETS in generation 6 of 10\n",
      "Model Number: 864 with model UnobservedComponents in generation 6 of 10\n",
      "Model Number: 865 with model UnivariateRegression in generation 6 of 10\n",
      "Model Number: 866 with model GLS in generation 6 of 10\n"
     ]
    },
    {
     "name": "stderr",
     "output_type": "stream",
     "text": [
      "E:\\Programs\\Anaconda 2023\\Lib\\site-packages\\sklearn\\linear_model\\_ridge.py:211: LinAlgWarning:\n",
      "\n",
      "Ill-conditioned matrix (rcond=1.08309e-25): result may not be accurate.\n",
      "\n"
     ]
    },
    {
     "name": "stdout",
     "output_type": "stream",
     "text": [
      "Model Number: 867 with model SeasonalNaive in generation 6 of 10\n",
      "Model Number: 868 with model GLM in generation 6 of 10\n",
      "Model Number: 869 with model MultivariateMotif in generation 6 of 10\n",
      "Model Number: 870 with model AverageValueNaive in generation 6 of 10\n",
      "Model Number: 871 with model LastValueNaive in generation 6 of 10\n"
     ]
    },
    {
     "name": "stderr",
     "output_type": "stream",
     "text": [
      "E:\\Programs\\Anaconda 2023\\Lib\\site-packages\\statsmodels\\genmod\\families\\family.py:1367: ValueWarning:\n",
      "\n",
      "Negative binomial dispersion parameter alpha not set. Using default value alpha=1.0.\n",
      "\n"
     ]
    },
    {
     "name": "stdout",
     "output_type": "stream",
     "text": [
      "Model Number: 872 with model ETS in generation 6 of 10\n",
      "Model Number: 873 with model WindowRegression in generation 6 of 10\n",
      "Model Number: 874 with model UnobservedComponents in generation 6 of 10\n",
      "Template Eval Error: Exception('Transformer AlignLastValue failed on inverse') in model 874 in generation 6: UnobservedComponents\n",
      "Model Number: 875 with model AverageValueNaive in generation 6 of 10\n",
      "Model Number: 876 with model NVAR in generation 6 of 10\n",
      "Model Number: 877 with model Theta in generation 6 of 10\n",
      "Model Number: 878 with model LastValueNaive in generation 6 of 10\n",
      "Model Number: 879 with model MetricMotif in generation 6 of 10\n",
      "Model Number: 880 with model ConstantNaive in generation 6 of 10\n",
      "Model Number: 881 with model ETS in generation 6 of 10\n",
      "Model Number: 882 with model Theta in generation 6 of 10\n",
      "Model Number: 883 with model ETS in generation 6 of 10\n",
      "Model Number: 884 with model MetricMotif in generation 6 of 10\n",
      "Model Number: 885 with model UnobservedComponents in generation 6 of 10\n",
      "Template Eval Error: ValueError(\"regression_type='User' but no future_regressor supplied\") in model 885 in generation 6: UnobservedComponents\n",
      "Model Number: 886 with model DatepartRegression in generation 6 of 10\n",
      "New Generation: 7 of 10\n",
      "Model Number: 887 with model LastValueNaive in generation 7 of 10\n",
      "Model Number: 888 with model SeasonalNaive in generation 7 of 10\n",
      "Model Number: 889 with model MetricMotif in generation 7 of 10\n",
      "Model Number: 890 with model SeasonalNaive in generation 7 of 10\n",
      "Model Number: 891 with model NVAR in generation 7 of 10\n",
      "Model Number: 892 with model LastValueNaive in generation 7 of 10\n"
     ]
    },
    {
     "name": "stderr",
     "output_type": "stream",
     "text": [
      "E:\\Programs\\Anaconda 2023\\Lib\\site-packages\\sklearn\\neighbors\\_classification.py:228: DataConversionWarning:\n",
      "\n",
      "A column-vector y was passed when a 1d array was expected. Please change the shape of y to (n_samples,), for example using ravel().\n",
      "\n",
      "E:\\Programs\\Anaconda 2023\\Lib\\site-packages\\sklearn\\linear_model\\_ridge.py:211: LinAlgWarning:\n",
      "\n",
      "Ill-conditioned matrix (rcond=1.52184e-25): result may not be accurate.\n",
      "\n"
     ]
    },
    {
     "name": "stdout",
     "output_type": "stream",
     "text": [
      "Model Number: 893 with model UnobservedComponents in generation 7 of 10\n",
      "Model Number: 894 with model GLS in generation 7 of 10\n",
      "Model Number: 895 with model GLS in generation 7 of 10\n",
      "Model Number: 896 with model AverageValueNaive in generation 7 of 10\n",
      "Model Number: 897 with model UnobservedComponents in generation 7 of 10\n"
     ]
    },
    {
     "name": "stderr",
     "output_type": "stream",
     "text": [
      "E:\\Programs\\Anaconda 2023\\Lib\\site-packages\\sklearn\\neighbors\\_classification.py:228: DataConversionWarning:\n",
      "\n",
      "A column-vector y was passed when a 1d array was expected. Please change the shape of y to (n_samples,), for example using ravel().\n",
      "\n"
     ]
    },
    {
     "name": "stdout",
     "output_type": "stream",
     "text": [
      "Model Number: 898 with model LastValueNaive in generation 7 of 10\n"
     ]
    },
    {
     "name": "stderr",
     "output_type": "stream",
     "text": [
      "E:\\Programs\\Anaconda 2023\\Lib\\site-packages\\sklearn\\linear_model\\_ridge.py:211: LinAlgWarning:\n",
      "\n",
      "Ill-conditioned matrix (rcond=1.52184e-25): result may not be accurate.\n",
      "\n"
     ]
    },
    {
     "name": "stdout",
     "output_type": "stream",
     "text": [
      "Model Number: 899 with model UnivariateMotif in generation 7 of 10\n",
      "Model Number: 900 with model LastValueNaive in generation 7 of 10\n",
      "Model Number: 901 with model ConstantNaive in generation 7 of 10\n",
      "Model Number: 902 with model ARIMA in generation 7 of 10\n",
      "Model Number: 903 with model ETS in generation 7 of 10\n",
      "Model Number: 904 with model DatepartRegression in generation 7 of 10\n",
      "Model Number: 905 with model NVAR in generation 7 of 10\n",
      "Model Number: 906 with model LastValueNaive in generation 7 of 10\n",
      "Model Number: 907 with model Theta in generation 7 of 10\n",
      "Model Number: 908 with model LastValueNaive in generation 7 of 10\n",
      "Model Number: 909 with model GLM in generation 7 of 10\n",
      "Model Number: 910 with model DatepartRegression in generation 7 of 10\n",
      "Model Number: 911 with model ETS in generation 7 of 10\n",
      "Model Number: 912 with model MultivariateMotif in generation 7 of 10\n",
      "Model Number: 913 with model Theta in generation 7 of 10\n",
      "Model Number: 914 with model GLS in generation 7 of 10\n",
      "Model Number: 915 with model NVAR in generation 7 of 10\n",
      "Model Number: 916 with model LastValueNaive in generation 7 of 10\n",
      "Model Number: 917 with model GLS in generation 7 of 10\n",
      "Model Number: 918 with model ARIMA in generation 7 of 10\n",
      "Model Number: 919 with model LastValueNaive in generation 7 of 10\n",
      "Model Number: 920 with model ETS in generation 7 of 10\n",
      "Model Number: 921 with model UnobservedComponents in generation 7 of 10\n",
      "Model Number: 922 with model ETS in generation 7 of 10\n",
      "Model Number: 923 with model ARIMA in generation 7 of 10\n",
      "Model Number: 924 with model MultivariateMotif in generation 7 of 10\n",
      "Model Number: 925 with model ConstantNaive in generation 7 of 10\n",
      "Model Number: 926 with model LastValueNaive in generation 7 of 10\n",
      "Model Number: 927 with model UnobservedComponents in generation 7 of 10\n",
      "Model Number: 928 with model ARDL in generation 7 of 10\n",
      "Model Number: 929 with model SectionalMotif in generation 7 of 10\n",
      "Template Eval Error: ValueError(\"regression_type=='User' but no future_regressor supplied\") in model 929 in generation 7: SectionalMotif\n",
      "Model Number: 930 with model ARIMA in generation 7 of 10\n",
      "Template Eval Error: Exception('Transformer BTCD failed on fit') in model 930 in generation 7: ARIMA\n",
      "Model Number: 931 with model UnivariateMotif in generation 7 of 10\n",
      "Model Number: 932 with model UnivariateMotif in generation 7 of 10\n",
      "Model Number: 933 with model UnobservedComponents in generation 7 of 10\n"
     ]
    },
    {
     "name": "stderr",
     "output_type": "stream",
     "text": [
      "C:\\Users\\mizof\\AppData\\Roaming\\Python\\Python311\\site-packages\\autots\\tools\\percentile.py:47: RuntimeWarning:\n",
      "\n",
      "All-NaN slice encountered\n",
      "\n"
     ]
    },
    {
     "name": "stdout",
     "output_type": "stream",
     "text": [
      "Model Number: 934 with model DatepartRegression in generation 7 of 10\n",
      "Template Eval Error: Exception('Transformer AlignLastValue failed on inverse') in model 934 in generation 7: DatepartRegression\n",
      "Model Number: 935 with model Theta in generation 7 of 10\n"
     ]
    },
    {
     "name": "stderr",
     "output_type": "stream",
     "text": [
      "E:\\Programs\\Anaconda 2023\\Lib\\site-packages\\sklearn\\linear_model\\_ridge.py:211: LinAlgWarning:\n",
      "\n",
      "Ill-conditioned matrix (rcond=1.52184e-25): result may not be accurate.\n",
      "\n"
     ]
    },
    {
     "name": "stdout",
     "output_type": "stream",
     "text": [
      "Model Number: 936 with model NVAR in generation 7 of 10\n",
      "Model Number: 937 with model AverageValueNaive in generation 7 of 10\n",
      "Model Number: 938 with model NVAR in generation 7 of 10\n",
      "Model Number: 939 with model Theta in generation 7 of 10\n",
      "Model Number: 940 with model SectionalMotif in generation 7 of 10\n",
      "Template Eval Error: Exception('Transformer ReplaceConstant failed on fit') in model 940 in generation 7: SectionalMotif\n",
      "Model Number: 941 with model AverageValueNaive in generation 7 of 10\n",
      "Model Number: 942 with model Theta in generation 7 of 10\n",
      "Model Number: 943 with model ConstantNaive in generation 7 of 10\n",
      "Model Number: 944 with model ETS in generation 7 of 10\n",
      "Model Number: 945 with model SeasonalNaive in generation 7 of 10\n",
      "Model Number: 946 with model MetricMotif in generation 7 of 10\n",
      "Model Number: 947 with model NVAR in generation 7 of 10\n"
     ]
    },
    {
     "name": "stderr",
     "output_type": "stream",
     "text": [
      "E:\\Programs\\Anaconda 2023\\Lib\\site-packages\\sklearn\\neighbors\\_classification.py:228: DataConversionWarning:\n",
      "\n",
      "A column-vector y was passed when a 1d array was expected. Please change the shape of y to (n_samples,), for example using ravel().\n",
      "\n",
      "C:\\Users\\mizof\\AppData\\Roaming\\Python\\Python311\\site-packages\\autots\\tools\\thresholding.py:204: RuntimeWarning:\n",
      "\n",
      "overflow encountered in scalar power\n",
      "\n",
      "C:\\Users\\mizof\\AppData\\Roaming\\Python\\Python311\\site-packages\\autots\\tools\\percentile.py:47: RuntimeWarning:\n",
      "\n",
      "All-NaN slice encountered\n",
      "\n"
     ]
    },
    {
     "name": "stdout",
     "output_type": "stream",
     "text": [
      "Model Number: 948 with model SectionalMotif in generation 7 of 10\n",
      "Model Number: 949 with model GLS in generation 7 of 10\n",
      "Model Number: 950 with model MultivariateRegression in generation 7 of 10\n",
      "Template Eval Error: Exception('Transformer Cointegration failed on fit') in model 950 in generation 7: MultivariateRegression\n",
      "Model Number: 951 with model UnobservedComponents in generation 7 of 10\n",
      "Model Number: 952 with model ConstantNaive in generation 7 of 10\n",
      "Model Number: 953 with model Theta in generation 7 of 10\n",
      "Model Number: 954 with model Theta in generation 7 of 10\n",
      "Model Number: 955 with model UnivariateMotif in generation 7 of 10\n",
      "Model Number: 956 with model GLS in generation 7 of 10\n",
      "Model Number: 957 with model ConstantNaive in generation 7 of 10\n",
      "Model Number: 958 with model DatepartRegression in generation 7 of 10\n",
      "Model Number: 959 with model SectionalMotif in generation 7 of 10\n",
      "Model Number: 960 with model MultivariateMotif in generation 7 of 10\n",
      "Model Number: 961 with model ARDL in generation 7 of 10\n",
      "Template Eval Error: ValueError(\"regression_type='User' but future_regressor not supplied\") in model 961 in generation 7: ARDL\n",
      "Model Number: 962 with model AverageValueNaive in generation 7 of 10\n",
      "Model Number: 963 with model MultivariateRegression in generation 7 of 10\n",
      "Model Number: 964 with model LastValueNaive in generation 7 of 10\n",
      "Model Number: 965 with model LastValueNaive in generation 7 of 10\n",
      "Model Number: 966 with model GLS in generation 7 of 10\n",
      "Model Number: 967 with model GLM in generation 7 of 10\n",
      "Model Number: 968 with model UnivariateRegression in generation 7 of 10\n"
     ]
    },
    {
     "name": "stderr",
     "output_type": "stream",
     "text": [
      "E:\\Programs\\Anaconda 2023\\Lib\\site-packages\\sklearn\\linear_model\\_ridge.py:211: LinAlgWarning:\n",
      "\n",
      "Ill-conditioned matrix (rcond=2.87156e-27): result may not be accurate.\n",
      "\n"
     ]
    },
    {
     "name": "stdout",
     "output_type": "stream",
     "text": [
      "Model Number: 969 with model ETS in generation 7 of 10\n",
      "Model Number: 970 with model MetricMotif in generation 7 of 10\n",
      "Model Number: 971 with model LastValueNaive in generation 7 of 10\n",
      "Template Eval Error: Exception('Transformer ReplaceConstant failed on fit') in model 971 in generation 7: LastValueNaive\n",
      "Model Number: 972 with model GLM in generation 7 of 10\n",
      "Model Number: 973 with model WindowRegression in generation 7 of 10\n",
      "Model Number: 974 with model UnivariateMotif in generation 7 of 10\n",
      "Template Eval Error: Exception('Transformer FastICA failed on fit') in model 974 in generation 7: UnivariateMotif\n",
      "Model Number: 975 with model SeasonalNaive in generation 7 of 10\n",
      "Model Number: 976 with model LastValueNaive in generation 7 of 10\n"
     ]
    },
    {
     "name": "stderr",
     "output_type": "stream",
     "text": [
      "E:\\Programs\\Anaconda 2023\\Lib\\site-packages\\sklearn\\linear_model\\_coordinate_descent.py:2412: ConvergenceWarning:\n",
      "\n",
      "Objective did not converge. You might want to increase the number of iterations. Duality gap: 428088608.0, tolerance: 2166823.0\n",
      "\n"
     ]
    },
    {
     "name": "stdout",
     "output_type": "stream",
     "text": [
      "Model Number: 977 with model SeasonalNaive in generation 7 of 10\n",
      "Model Number: 978 with model SectionalMotif in generation 7 of 10\n",
      "Template Eval Error: ValueError(\"regression_type=='User' but no future_regressor supplied\") in model 978 in generation 7: SectionalMotif\n",
      "Model Number: 979 with model DatepartRegression in generation 7 of 10\n",
      "Template Eval Error: Exception('Transformer ScipyFilter failed on fit') in model 979 in generation 7: DatepartRegression\n",
      "Model Number: 980 with model MultivariateMotif in generation 7 of 10\n",
      "Template Eval Error: Exception('Transformer AlignLastValue failed on inverse') in model 980 in generation 7: MultivariateMotif\n",
      "Model Number: 981 with model DatepartRegression in generation 7 of 10\n",
      "Model Number: 982 with model NVAR in generation 7 of 10\n",
      "Model Number: 983 with model DatepartRegression in generation 7 of 10\n",
      "Template Eval Error: ValueError(\"regression_type='User' but no future_regressor passed\") in model 983 in generation 7: DatepartRegression\n",
      "Model Number: 984 with model MetricMotif in generation 7 of 10\n",
      "Model Number: 985 with model AverageValueNaive in generation 7 of 10\n",
      "Model Number: 986 with model AverageValueNaive in generation 7 of 10\n",
      "New Generation: 8 of 10\n"
     ]
    },
    {
     "name": "stderr",
     "output_type": "stream",
     "text": [
      "E:\\Programs\\Anaconda 2023\\Lib\\site-packages\\sklearn\\neighbors\\_classification.py:228: DataConversionWarning:\n",
      "\n",
      "A column-vector y was passed when a 1d array was expected. Please change the shape of y to (n_samples,), for example using ravel().\n",
      "\n",
      "E:\\Programs\\Anaconda 2023\\Lib\\site-packages\\sklearn\\neighbors\\_classification.py:228: DataConversionWarning:\n",
      "\n",
      "A column-vector y was passed when a 1d array was expected. Please change the shape of y to (n_samples,), for example using ravel().\n",
      "\n"
     ]
    },
    {
     "name": "stdout",
     "output_type": "stream",
     "text": [
      "Model Number: 987 with model UnobservedComponents in generation 8 of 10\n",
      "Model Number: 988 with model WindowRegression in generation 8 of 10\n",
      "Model Number: 989 with model SeasonalNaive in generation 8 of 10\n",
      "Model Number: 990 with model UnobservedComponents in generation 8 of 10\n",
      "Model Number: 991 with model MultivariateRegression in generation 8 of 10\n",
      "Model Number: 992 with model ETS in generation 8 of 10\n",
      "Model Number: 993 with model UnobservedComponents in generation 8 of 10\n",
      "Model Number: 994 with model UnobservedComponents in generation 8 of 10\n",
      "Model Number: 995 with model GLM in generation 8 of 10\n"
     ]
    },
    {
     "name": "stderr",
     "output_type": "stream",
     "text": [
      "E:\\Programs\\Anaconda 2023\\Lib\\site-packages\\statsmodels\\genmod\\generalized_linear_model.py:307: DomainWarning:\n",
      "\n",
      "The InversePower link function does not respect the domain of the Gamma family.\n",
      "\n"
     ]
    },
    {
     "name": "stdout",
     "output_type": "stream",
     "text": [
      "Model Number: 996 with model LastValueNaive in generation 8 of 10\n",
      "Model Number: 997 with model ConstantNaive in generation 8 of 10\n",
      "Model Number: 998 with model SeasonalNaive in generation 8 of 10\n",
      "Model Number: 999 with model AverageValueNaive in generation 8 of 10\n",
      "Model Number: 1000 with model GLM in generation 8 of 10\n",
      "Template Eval Error: Exception('Transformer ScipyFilter failed on fit') in model 1000 in generation 8: GLM\n",
      "Model Number: 1001 with model NVAR in generation 8 of 10\n",
      "Model Number: 1002 with model ConstantNaive in generation 8 of 10\n",
      "Model Number: 1003 with model ARIMA in generation 8 of 10\n",
      "Template Eval Error: Exception('Transformer AlignLastValue failed on inverse') in model 1003 in generation 8: ARIMA\n",
      "Model Number: 1004 with model Theta in generation 8 of 10\n",
      "Model Number: 1005 with model SeasonalNaive in generation 8 of 10\n",
      "Model Number: 1006 with model Theta in generation 8 of 10\n",
      "Model Number: 1007 with model ETS in generation 8 of 10\n",
      "Template Eval Error: Exception('Transformer AlignLastValue failed on inverse') in model 1007 in generation 8: ETS\n",
      "Model Number: 1008 with model ConstantNaive in generation 8 of 10\n",
      "Model Number: 1009 with model GLS in generation 8 of 10\n",
      "Model Number: 1010 with model LastValueNaive in generation 8 of 10\n",
      "Model Number: 1011 with model SeasonalNaive in generation 8 of 10\n",
      "Model Number: 1012 with model MetricMotif in generation 8 of 10\n",
      "Model Number: 1013 with model UnobservedComponents in generation 8 of 10\n",
      "Model Number: 1014 with model MultivariateMotif in generation 8 of 10\n",
      "Template Eval Error: Exception('Transformer MaxAbsScaler failed on fit') in model 1014 in generation 8: MultivariateMotif\n",
      "Model Number: 1015 with model AverageValueNaive in generation 8 of 10\n",
      "Model Number: 1016 with model Theta in generation 8 of 10\n",
      "Model Number: 1017 with model DatepartRegression in generation 8 of 10\n",
      "Model Number: 1018 with model Theta in generation 8 of 10\n",
      "Model Number: 1019 with model SeasonalNaive in generation 8 of 10\n",
      "Model Number: 1020 with model SeasonalNaive in generation 8 of 10\n",
      "Model Number: 1021 with model Theta in generation 8 of 10\n",
      "Model Number: 1022 with model ETS in generation 8 of 10\n",
      "Model Number: 1023 with model AverageValueNaive in generation 8 of 10\n",
      "Model Number: 1024 with model MultivariateRegression in generation 8 of 10\n",
      "Model Number: 1025 with model ConstantNaive in generation 8 of 10\n",
      "Model Number: 1026 with model AverageValueNaive in generation 8 of 10\n",
      "Model Number: 1027 with model UnivariateMotif in generation 8 of 10\n",
      "Model Number: 1028 with model ETS in generation 8 of 10\n"
     ]
    },
    {
     "name": "stderr",
     "output_type": "stream",
     "text": [
      "C:\\Users\\mizof\\AppData\\Roaming\\Python\\Python311\\site-packages\\autots\\tools\\fast_kalman.py:1089: RuntimeWarning:\n",
      "\n",
      "overflow encountered in cast\n",
      "\n",
      "C:\\Users\\mizof\\AppData\\Roaming\\Python\\Python311\\site-packages\\autots\\tools\\fast_kalman.py:1306: RuntimeWarning:\n",
      "\n",
      "invalid value encountered in matmul\n",
      "\n",
      "C:\\Users\\mizof\\AppData\\Roaming\\Python\\Python311\\site-packages\\autots\\tools\\fast_kalman.py:1293: RuntimeWarning:\n",
      "\n",
      "invalid value encountered in matmul\n",
      "\n"
     ]
    },
    {
     "name": "stdout",
     "output_type": "stream",
     "text": [
      "Template Eval Error: ValueError('Model ETS returned NaN for one or more series. fail_on_forecast_nan=True') in model 1028 in generation 8: ETS\n",
      "Model Number: 1029 with model Theta in generation 8 of 10\n",
      "Model Number: 1030 with model Theta in generation 8 of 10\n",
      "Model Number: 1031 with model AverageValueNaive in generation 8 of 10\n",
      "Model Number: 1032 with model LastValueNaive in generation 8 of 10\n",
      "Model Number: 1033 with model UnobservedComponents in generation 8 of 10\n"
     ]
    },
    {
     "name": "stderr",
     "output_type": "stream",
     "text": [
      "E:\\Programs\\Anaconda 2023\\Lib\\site-packages\\sklearn\\neighbors\\_classification.py:228: DataConversionWarning:\n",
      "\n",
      "A column-vector y was passed when a 1d array was expected. Please change the shape of y to (n_samples,), for example using ravel().\n",
      "\n"
     ]
    },
    {
     "name": "stdout",
     "output_type": "stream",
     "text": [
      "Model Number: 1034 with model AverageValueNaive in generation 8 of 10\n",
      "Template Eval Error: Exception('Transformer BTCD failed on fit') in model 1034 in generation 8: AverageValueNaive\n",
      "Model Number: 1035 with model ARIMA in generation 8 of 10\n",
      "Model Number: 1036 with model UnobservedComponents in generation 8 of 10\n",
      "Model Number: 1037 with model MetricMotif in generation 8 of 10\n",
      "Model Number: 1038 with model UnivariateRegression in generation 8 of 10\n",
      "Model Number: 1039 with model ConstantNaive in generation 8 of 10\n",
      "Model Number: 1040 with model MultivariateMotif in generation 8 of 10\n",
      "Model Number: 1041 with model MultivariateMotif in generation 8 of 10\n",
      "Model Number: 1042 with model MultivariateRegression in generation 8 of 10\n",
      "Model Number: 1043 with model LastValueNaive in generation 8 of 10\n",
      "Model Number: 1044 with model NVAR in generation 8 of 10\n",
      "Model Number: 1045 with model UnobservedComponents in generation 8 of 10\n",
      "Template Eval Error: Exception('Transformer Cointegration failed on fit') in model 1045 in generation 8: UnobservedComponents\n",
      "Model Number: 1046 with model Theta in generation 8 of 10\n",
      "Model Number: 1047 with model GLM in generation 8 of 10\n",
      "Model Number: 1048 with model ARIMA in generation 8 of 10\n"
     ]
    },
    {
     "name": "stderr",
     "output_type": "stream",
     "text": [
      "E:\\Programs\\Anaconda 2023\\Lib\\site-packages\\statsmodels\\genmod\\families\\links.py:198: RuntimeWarning:\n",
      "\n",
      "overflow encountered in exp\n",
      "\n"
     ]
    },
    {
     "name": "stdout",
     "output_type": "stream",
     "text": [
      "Model Number: 1049 with model MultivariateMotif in generation 8 of 10\n",
      "Model Number: 1050 with model GLM in generation 8 of 10\n",
      "Model Number: 1051 with model GLS in generation 8 of 10\n",
      "Template Eval Error: Exception('Transformer AlignLastValue failed on inverse') in model 1051 in generation 8: GLS\n",
      "Model Number: 1052 with model MultivariateRegression in generation 8 of 10\n"
     ]
    },
    {
     "name": "stderr",
     "output_type": "stream",
     "text": [
      "E:\\Programs\\Anaconda 2023\\Lib\\site-packages\\statsmodels\\genmod\\generalized_linear_model.py:307: DomainWarning:\n",
      "\n",
      "The InversePower link function does not respect the domain of the Gamma family.\n",
      "\n"
     ]
    },
    {
     "name": "stdout",
     "output_type": "stream",
     "text": [
      "Model Number: 1053 with model NVAR in generation 8 of 10\n",
      "Model Number: 1054 with model MultivariateMotif in generation 8 of 10\n",
      "Model Number: 1055 with model SectionalMotif in generation 8 of 10\n",
      "Model Number: 1056 with model LastValueNaive in generation 8 of 10\n",
      "Model Number: 1057 with model MetricMotif in generation 8 of 10\n",
      "Model Number: 1058 with model DatepartRegression in generation 8 of 10\n",
      "Template Eval Error: Exception('Transformer Cointegration failed on fit') in model 1058 in generation 8: DatepartRegression\n",
      "Model Number: 1059 with model ARIMA in generation 8 of 10\n",
      "Model Number: 1060 with model SeasonalNaive in generation 8 of 10\n",
      "Model Number: 1061 with model SectionalMotif in generation 8 of 10\n",
      "Model Number: 1062 with model SeasonalNaive in generation 8 of 10\n",
      "Model Number: 1063 with model ETS in generation 8 of 10\n",
      "Model Number: 1064 with model MultivariateMotif in generation 8 of 10\n",
      "Model Number: 1065 with model MultivariateMotif in generation 8 of 10\n",
      "Model Number: 1066 with model LastValueNaive in generation 8 of 10\n",
      "Template Eval Error: Exception('Transformer BTCD failed on fit') in model 1066 in generation 8: LastValueNaive\n",
      "Model Number: 1067 with model MetricMotif in generation 8 of 10\n",
      "Model Number: 1068 with model MultivariateRegression in generation 8 of 10\n"
     ]
    },
    {
     "name": "stderr",
     "output_type": "stream",
     "text": [
      "C:\\Users\\mizof\\AppData\\Roaming\\Python\\Python311\\site-packages\\autots\\tools\\percentile.py:47: RuntimeWarning:\n",
      "\n",
      "All-NaN slice encountered\n",
      "\n"
     ]
    },
    {
     "name": "stdout",
     "output_type": "stream",
     "text": [
      "Model Number: 1069 with model ETS in generation 8 of 10\n",
      "Model Number: 1070 with model LastValueNaive in generation 8 of 10\n",
      "Model Number: 1071 with model ARIMA in generation 8 of 10\n",
      "Template Eval Error: Exception('Transformer AlignLastValue failed on inverse') in model 1071 in generation 8: ARIMA\n",
      "Model Number: 1072 with model ETS in generation 8 of 10\n",
      "Model Number: 1073 with model NVAR in generation 8 of 10\n",
      "Model Number: 1074 with model MetricMotif in generation 8 of 10\n",
      "Template Eval Error: Exception('Transformer ScipyFilter failed on fit') in model 1074 in generation 8: MetricMotif\n",
      "Model Number: 1075 with model NVAR in generation 8 of 10\n",
      "Model Number: 1076 with model MultivariateMotif in generation 8 of 10\n",
      "Model Number: 1077 with model MultivariateMotif in generation 8 of 10\n",
      "Model Number: 1078 with model NVAR in generation 8 of 10\n",
      "Model Number: 1079 with model ARIMA in generation 8 of 10\n",
      "Template Eval Error: Exception('Transformer AlignLastValue failed on inverse') in model 1079 in generation 8: ARIMA\n",
      "Model Number: 1080 with model ConstantNaive in generation 8 of 10\n",
      "Model Number: 1081 with model ConstantNaive in generation 8 of 10\n",
      "Model Number: 1082 with model LastValueNaive in generation 8 of 10\n",
      "Model Number: 1083 with model Theta in generation 8 of 10\n",
      "Model Number: 1084 with model DatepartRegression in generation 8 of 10\n",
      "Model Number: 1085 with model LastValueNaive in generation 8 of 10\n",
      "Model Number: 1086 with model WindowRegression in generation 8 of 10\n"
     ]
    },
    {
     "name": "stderr",
     "output_type": "stream",
     "text": [
      "E:\\Programs\\Anaconda 2023\\Lib\\site-packages\\sklearn\\neural_network\\_multilayer_perceptron.py:546: ConvergenceWarning:\n",
      "\n",
      "lbfgs failed to converge (status=1):\n",
      "STOP: TOTAL NO. of ITERATIONS REACHED LIMIT.\n",
      "\n",
      "Increase the number of iterations (max_iter) or scale the data as shown in:\n",
      "    https://scikit-learn.org/stable/modules/preprocessing.html\n",
      "\n"
     ]
    },
    {
     "name": "stdout",
     "output_type": "stream",
     "text": [
      "New Generation: 9 of 10\n",
      "Model Number: 1087 with model AverageValueNaive in generation 9 of 10\n",
      "Model Number: 1088 with model DatepartRegression in generation 9 of 10\n",
      "Model Number: 1089 with model UnobservedComponents in generation 9 of 10\n"
     ]
    },
    {
     "name": "stderr",
     "output_type": "stream",
     "text": [
      "E:\\Programs\\Anaconda 2023\\Lib\\site-packages\\sklearn\\neighbors\\_classification.py:228: DataConversionWarning:\n",
      "\n",
      "A column-vector y was passed when a 1d array was expected. Please change the shape of y to (n_samples,), for example using ravel().\n",
      "\n",
      "E:\\Programs\\Anaconda 2023\\Lib\\site-packages\\sklearn\\linear_model\\_coordinate_descent.py:628: ConvergenceWarning:\n",
      "\n",
      "Objective did not converge. You might want to increase the number of iterations, check the scale of the features or consider increasing regularisation. Duality gap: 1.008e+10, tolerance: 2.370e+06\n",
      "\n"
     ]
    },
    {
     "name": "stdout",
     "output_type": "stream",
     "text": [
      "Model Number: 1090 with model SeasonalNaive in generation 9 of 10\n",
      "Template Eval Error: Exception('Transformer AlignLastValue failed on inverse') in model 1090 in generation 9: SeasonalNaive\n",
      "Model Number: 1091 with model AverageValueNaive in generation 9 of 10\n",
      "Model Number: 1092 with model MultivariateMotif in generation 9 of 10\n",
      "Model Number: 1093 with model AverageValueNaive in generation 9 of 10\n"
     ]
    },
    {
     "name": "stderr",
     "output_type": "stream",
     "text": [
      "E:\\Programs\\Anaconda 2023\\Lib\\site-packages\\sklearn\\neighbors\\_classification.py:228: DataConversionWarning:\n",
      "\n",
      "A column-vector y was passed when a 1d array was expected. Please change the shape of y to (n_samples,), for example using ravel().\n",
      "\n"
     ]
    },
    {
     "name": "stdout",
     "output_type": "stream",
     "text": [
      "Model Number: 1094 with model UnobservedComponents in generation 9 of 10\n",
      "Template Eval Error: ValueError(\"regression_type='User' but no future_regressor supplied\") in model 1094 in generation 9: UnobservedComponents\n",
      "Model Number: 1095 with model ARIMA in generation 9 of 10\n",
      "Model Number: 1096 with model ETS in generation 9 of 10\n",
      "Model Number: 1097 with model ETS in generation 9 of 10\n",
      "Model Number: 1098 with model DatepartRegression in generation 9 of 10\n",
      "Template Eval Error: ValueError(\"regression_type='User' but no future_regressor passed\") in model 1098 in generation 9: DatepartRegression\n",
      "Model Number: 1099 with model LastValueNaive in generation 9 of 10\n",
      "Model Number: 1100 with model LastValueNaive in generation 9 of 10\n",
      "Model Number: 1101 with model UnobservedComponents in generation 9 of 10\n",
      "Model Number: 1102 with model UnivariateRegression in generation 9 of 10\n",
      "Model Number: 1103 with model DatepartRegression in generation 9 of 10\n",
      "Template Eval Error: ValueError('Model DatepartRegression returned NaN for one or more series. fail_on_forecast_nan=True') in model 1103 in generation 9: DatepartRegression\n",
      "Model Number: 1104 with model DatepartRegression in generation 9 of 10\n"
     ]
    },
    {
     "name": "stderr",
     "output_type": "stream",
     "text": [
      "E:\\Programs\\Anaconda 2023\\Lib\\site-packages\\sklearn\\neighbors\\_regression.py:500: UserWarning:\n",
      "\n",
      "One or more samples have no neighbors within specified radius; predicting NaN.\n",
      "\n"
     ]
    },
    {
     "name": "stdout",
     "output_type": "stream",
     "text": [
      "Model Number: 1105 with model SeasonalNaive in generation 9 of 10\n",
      "Model Number: 1106 with model WindowRegression in generation 9 of 10\n",
      "Template Eval Error: ModuleNotFoundError(\"No module named 'lightgbm'\") in model 1106 in generation 9: WindowRegression\n",
      "Model Number: 1107 with model SeasonalNaive in generation 9 of 10\n",
      "Model Number: 1108 with model NVAR in generation 9 of 10\n",
      "Model Number: 1109 with model LastValueNaive in generation 9 of 10\n",
      "Model Number: 1110 with model NVAR in generation 9 of 10\n",
      "Model Number: 1111 with model GLM in generation 9 of 10\n",
      "Template Eval Error: Exception('Transformer FastICA failed on fit') in model 1111 in generation 9: GLM\n",
      "Model Number: 1112 with model GLS in generation 9 of 10\n",
      "Model Number: 1113 with model Theta in generation 9 of 10\n",
      "Model Number: 1114 with model ETS in generation 9 of 10\n",
      "Model Number: 1115 with model ConstantNaive in generation 9 of 10\n",
      "Model Number: 1116 with model MultivariateMotif in generation 9 of 10\n",
      "Model Number: 1117 with model UnivariateRegression in generation 9 of 10\n",
      "Model Number: 1118 with model MetricMotif in generation 9 of 10\n",
      "Model Number: 1119 with model ETS in generation 9 of 10\n",
      "Template Eval Error: Exception('Transformer ScipyFilter failed on fit') in model 1119 in generation 9: ETS\n",
      "Model Number: 1120 with model ARIMA in generation 9 of 10\n",
      "Template Eval Error: Exception('Transformer ReplaceConstant failed on fit') in model 1120 in generation 9: ARIMA\n",
      "Model Number: 1121 with model ARDL in generation 9 of 10\n"
     ]
    },
    {
     "name": "stderr",
     "output_type": "stream",
     "text": [
      "C:\\Users\\mizof\\AppData\\Roaming\\Python\\Python311\\site-packages\\autots\\tools\\percentile.py:47: RuntimeWarning:\n",
      "\n",
      "All-NaN slice encountered\n",
      "\n"
     ]
    },
    {
     "name": "stdout",
     "output_type": "stream",
     "text": [
      "Model Number: 1122 with model NVAR in generation 9 of 10\n",
      "Model Number: 1123 with model MultivariateMotif in generation 9 of 10\n",
      "Model Number: 1124 with model MultivariateRegression in generation 9 of 10\n"
     ]
    },
    {
     "name": "stderr",
     "output_type": "stream",
     "text": [
      "E:\\Programs\\Anaconda 2023\\Lib\\site-packages\\sklearn\\svm\\_classes.py:32: FutureWarning:\n",
      "\n",
      "The default value of `dual` will change from `True` to `'auto'` in 1.5. Set the value of `dual` explicitly to suppress the warning.\n",
      "\n",
      "E:\\Programs\\Anaconda 2023\\Lib\\site-packages\\sklearn\\svm\\_base.py:1242: ConvergenceWarning:\n",
      "\n",
      "Liblinear failed to converge, increase the number of iterations.\n",
      "\n"
     ]
    },
    {
     "name": "stdout",
     "output_type": "stream",
     "text": [
      "Model Number: 1125 with model LastValueNaive in generation 9 of 10\n",
      "Model Number: 1126 with model MultivariateMotif in generation 9 of 10\n",
      "Model Number: 1127 with model Theta in generation 9 of 10\n",
      "Model Number: 1128 with model SeasonalNaive in generation 9 of 10\n",
      "Model Number: 1129 with model WindowRegression in generation 9 of 10\n",
      "Model Number: 1130 with model SeasonalNaive in generation 9 of 10\n",
      "Model Number: 1131 with model Theta in generation 9 of 10\n",
      "Model Number: 1132 with model GLS in generation 9 of 10\n",
      "Model Number: 1133 with model MetricMotif in generation 9 of 10\n",
      "Model Number: 1134 with model NVAR in generation 9 of 10\n",
      "Model Number: 1135 with model AverageValueNaive in generation 9 of 10\n",
      "Model Number: 1136 with model ARIMA in generation 9 of 10\n"
     ]
    },
    {
     "name": "stderr",
     "output_type": "stream",
     "text": [
      "E:\\Programs\\Anaconda 2023\\Lib\\site-packages\\sklearn\\neighbors\\_classification.py:228: DataConversionWarning:\n",
      "\n",
      "A column-vector y was passed when a 1d array was expected. Please change the shape of y to (n_samples,), for example using ravel().\n",
      "\n"
     ]
    },
    {
     "name": "stdout",
     "output_type": "stream",
     "text": [
      "Model Number: 1137 with model ARIMA in generation 9 of 10\n",
      "Template Eval Error: Exception('Transformer ReplaceConstant failed on fit') in model 1137 in generation 9: ARIMA\n",
      "Model Number: 1138 with model GLS in generation 9 of 10\n",
      "Model Number: 1139 with model ConstantNaive in generation 9 of 10\n",
      "Model Number: 1140 with model LastValueNaive in generation 9 of 10\n",
      "Model Number: 1141 with model AverageValueNaive in generation 9 of 10\n",
      "Model Number: 1142 with model Theta in generation 9 of 10\n",
      "Model Number: 1143 with model MultivariateMotif in generation 9 of 10\n",
      "Model Number: 1144 with model GLS in generation 9 of 10\n",
      "Model Number: 1145 with model DatepartRegression in generation 9 of 10\n",
      "Template Eval Error: Exception('Transformer MaxAbsScaler failed on fit') in model 1145 in generation 9: DatepartRegression\n",
      "Model Number: 1146 with model Theta in generation 9 of 10\n",
      "Model Number: 1147 with model MultivariateMotif in generation 9 of 10\n",
      "Model Number: 1148 with model ConstantNaive in generation 9 of 10\n",
      "Model Number: 1149 with model AverageValueNaive in generation 9 of 10\n",
      "Model Number: 1150 with model LastValueNaive in generation 9 of 10\n",
      "Template Eval Error: Exception('Transformer BTCD failed on fit') in model 1150 in generation 9: LastValueNaive\n",
      "Model Number: 1151 with model DatepartRegression in generation 9 of 10\n",
      "Model Number: 1152 with model ETS in generation 9 of 10\n",
      "Model Number: 1153 with model LastValueNaive in generation 9 of 10\n",
      "Model Number: 1154 with model Theta in generation 9 of 10\n",
      "Model Number: 1155 with model LastValueNaive in generation 9 of 10\n",
      "Model Number: 1156 with model ARIMA in generation 9 of 10\n",
      "Model Number: 1157 with model AverageValueNaive in generation 9 of 10\n",
      "Model Number: 1158 with model DatepartRegression in generation 9 of 10\n"
     ]
    },
    {
     "name": "stderr",
     "output_type": "stream",
     "text": [
      "E:\\Programs\\Anaconda 2023\\Lib\\site-packages\\sklearn\\neighbors\\_classification.py:228: DataConversionWarning:\n",
      "\n",
      "A column-vector y was passed when a 1d array was expected. Please change the shape of y to (n_samples,), for example using ravel().\n",
      "\n"
     ]
    },
    {
     "name": "stdout",
     "output_type": "stream",
     "text": [
      "Model Number: 1159 with model Theta in generation 9 of 10\n",
      "Model Number: 1160 with model GLS in generation 9 of 10\n",
      "Model Number: 1161 with model GLS in generation 9 of 10\n",
      "Model Number: 1162 with model ETS in generation 9 of 10\n",
      "Model Number: 1163 with model NVAR in generation 9 of 10\n",
      "Model Number: 1164 with model ARIMA in generation 9 of 10\n",
      "Model Number: 1165 with model AverageValueNaive in generation 9 of 10\n",
      "Model Number: 1166 with model MultivariateRegression in generation 9 of 10\n"
     ]
    },
    {
     "name": "stderr",
     "output_type": "stream",
     "text": [
      "E:\\Programs\\Anaconda 2023\\Lib\\site-packages\\sklearn\\svm\\_classes.py:32: FutureWarning:\n",
      "\n",
      "The default value of `dual` will change from `True` to `'auto'` in 1.5. Set the value of `dual` explicitly to suppress the warning.\n",
      "\n",
      "E:\\Programs\\Anaconda 2023\\Lib\\site-packages\\sklearn\\svm\\_base.py:1242: ConvergenceWarning:\n",
      "\n",
      "Liblinear failed to converge, increase the number of iterations.\n",
      "\n"
     ]
    },
    {
     "name": "stdout",
     "output_type": "stream",
     "text": [
      "Model Number: 1167 with model GLM in generation 9 of 10\n",
      "Template Eval Error: Exception('Transformer FastICA failed on fit') in model 1167 in generation 9: GLM\n",
      "Model Number: 1168 with model GLM in generation 9 of 10\n",
      "Model Number: 1169 with model UnobservedComponents in generation 9 of 10\n",
      "Model Number: 1170 with model GLS in generation 9 of 10\n",
      "Model Number: 1171 with model GLM in generation 9 of 10\n",
      "Model Number: 1172 with model MetricMotif in generation 9 of 10\n",
      "Model Number: 1173 with model AverageValueNaive in generation 9 of 10\n"
     ]
    },
    {
     "name": "stderr",
     "output_type": "stream",
     "text": [
      "E:\\Programs\\Anaconda 2023\\Lib\\site-packages\\statsmodels\\genmod\\families\\links.py:198: RuntimeWarning:\n",
      "\n",
      "overflow encountered in exp\n",
      "\n"
     ]
    },
    {
     "name": "stdout",
     "output_type": "stream",
     "text": [
      "Model Number: 1174 with model UnobservedComponents in generation 9 of 10\n",
      "Model Number: 1175 with model SeasonalNaive in generation 9 of 10\n",
      "Model Number: 1176 with model UnivariateMotif in generation 9 of 10\n",
      "Template Eval Error: Exception('Transformer AlignLastValue failed on inverse') in model 1176 in generation 9: UnivariateMotif\n",
      "Model Number: 1177 with model LastValueNaive in generation 9 of 10\n",
      "Model Number: 1178 with model MetricMotif in generation 9 of 10\n",
      "Model Number: 1179 with model AverageValueNaive in generation 9 of 10\n",
      "Model Number: 1180 with model AverageValueNaive in generation 9 of 10\n",
      "Model Number: 1181 with model MultivariateMotif in generation 9 of 10\n",
      "Model Number: 1182 with model ETS in generation 9 of 10\n",
      "Model Number: 1183 with model UnobservedComponents in generation 9 of 10\n"
     ]
    },
    {
     "name": "stderr",
     "output_type": "stream",
     "text": [
      "E:\\Programs\\Anaconda 2023\\Lib\\site-packages\\sklearn\\neighbors\\_classification.py:228: DataConversionWarning:\n",
      "\n",
      "A column-vector y was passed when a 1d array was expected. Please change the shape of y to (n_samples,), for example using ravel().\n",
      "\n"
     ]
    },
    {
     "name": "stdout",
     "output_type": "stream",
     "text": [
      "Model Number: 1184 with model NVAR in generation 9 of 10\n",
      "Model Number: 1185 with model MetricMotif in generation 9 of 10\n",
      "Model Number: 1186 with model AverageValueNaive in generation 9 of 10\n",
      "New Generation: 10 of 10\n"
     ]
    },
    {
     "name": "stderr",
     "output_type": "stream",
     "text": [
      "E:\\Programs\\Anaconda 2023\\Lib\\site-packages\\sklearn\\neighbors\\_classification.py:228: DataConversionWarning:\n",
      "\n",
      "A column-vector y was passed when a 1d array was expected. Please change the shape of y to (n_samples,), for example using ravel().\n",
      "\n"
     ]
    },
    {
     "name": "stdout",
     "output_type": "stream",
     "text": [
      "Model Number: 1187 with model NVAR in generation 10 of 10\n",
      "Model Number: 1188 with model LastValueNaive in generation 10 of 10\n",
      "Model Number: 1189 with model LastValueNaive in generation 10 of 10\n",
      "Model Number: 1190 with model AverageValueNaive in generation 10 of 10\n",
      "Model Number: 1191 with model DatepartRegression in generation 10 of 10\n"
     ]
    },
    {
     "name": "stderr",
     "output_type": "stream",
     "text": [
      "E:\\Programs\\Anaconda 2023\\Lib\\site-packages\\sklearn\\neighbors\\_classification.py:228: DataConversionWarning:\n",
      "\n",
      "A column-vector y was passed when a 1d array was expected. Please change the shape of y to (n_samples,), for example using ravel().\n",
      "\n"
     ]
    },
    {
     "name": "stdout",
     "output_type": "stream",
     "text": [
      "Model Number: 1192 with model Theta in generation 10 of 10\n",
      "Model Number: 1193 with model ETS in generation 10 of 10\n"
     ]
    },
    {
     "name": "stderr",
     "output_type": "stream",
     "text": [
      "E:\\Programs\\Anaconda 2023\\Lib\\site-packages\\sklearn\\neighbors\\_classification.py:228: DataConversionWarning:\n",
      "\n",
      "A column-vector y was passed when a 1d array was expected. Please change the shape of y to (n_samples,), for example using ravel().\n",
      "\n"
     ]
    },
    {
     "name": "stdout",
     "output_type": "stream",
     "text": [
      "Model Number: 1194 with model AverageValueNaive in generation 10 of 10\n",
      "Model Number: 1195 with model UnobservedComponents in generation 10 of 10\n",
      "Model Number: 1196 with model ETS in generation 10 of 10\n",
      "Model Number: 1197 with model MultivariateMotif in generation 10 of 10\n",
      "Model Number: 1198 with model MultivariateRegression in generation 10 of 10\n",
      "Template Eval Error: ModuleNotFoundError(\"No module named 'xgboost'\") in model 1198 in generation 10: MultivariateRegression\n",
      "Model Number: 1199 with model ConstantNaive in generation 10 of 10\n",
      "Template Eval Error: Exception('Transformer ReplaceConstant failed on fit') in model 1199 in generation 10: ConstantNaive\n",
      "Model Number: 1200 with model AverageValueNaive in generation 10 of 10\n",
      "Template Eval Error: Exception('Transformer AlignLastValue failed on inverse') in model 1200 in generation 10: AverageValueNaive\n",
      "Model Number: 1201 with model Theta in generation 10 of 10\n",
      "Model Number: 1202 with model NVAR in generation 10 of 10\n",
      "Model Number: 1203 with model Theta in generation 10 of 10\n",
      "Template Eval Error: Exception('Transformer BTCD failed on fit') in model 1203 in generation 10: Theta\n",
      "Model Number: 1204 with model NVAR in generation 10 of 10\n",
      "Template Eval Error: Exception('Transformer RobustScaler failed on fit') in model 1204 in generation 10: NVAR\n",
      "Model Number: 1205 with model GLM in generation 10 of 10\n",
      "Model Number: 1206 with model NVAR in generation 10 of 10\n",
      "Template Eval Error: Exception('Transformer ReplaceConstant failed on fit') in model 1206 in generation 10: NVAR\n",
      "Model Number: 1207 with model ETS in generation 10 of 10\n",
      "Model Number: 1208 with model AverageValueNaive in generation 10 of 10\n",
      "Model Number: 1209 with model LastValueNaive in generation 10 of 10\n",
      "Model Number: 1210 with model SeasonalNaive in generation 10 of 10\n",
      "Model Number: 1211 with model GLM in generation 10 of 10\n"
     ]
    },
    {
     "name": "stderr",
     "output_type": "stream",
     "text": [
      "E:\\Programs\\Anaconda 2023\\Lib\\site-packages\\sklearn\\neighbors\\_classification.py:228: DataConversionWarning:\n",
      "\n",
      "A column-vector y was passed when a 1d array was expected. Please change the shape of y to (n_samples,), for example using ravel().\n",
      "\n"
     ]
    },
    {
     "name": "stdout",
     "output_type": "stream",
     "text": [
      "Model Number: 1212 with model GLS in generation 10 of 10\n",
      "Template Eval Error: Exception('Transformer ReplaceConstant failed on fit') in model 1212 in generation 10: GLS\n",
      "Model Number: 1213 with model WindowRegression in generation 10 of 10\n",
      "Model Number: 1214 with model DatepartRegression in generation 10 of 10\n",
      "Model Number: 1215 with model NVAR in generation 10 of 10\n",
      "Model Number: 1216 with model GLS in generation 10 of 10\n",
      "Model Number: 1217 with model Theta in generation 10 of 10\n",
      "Model Number: 1218 with model DatepartRegression in generation 10 of 10\n",
      "Model Number: 1219 with model UnobservedComponents in generation 10 of 10\n",
      "Model Number: 1220 with model Theta in generation 10 of 10\n",
      "Model Number: 1221 with model AverageValueNaive in generation 10 of 10\n",
      "Model Number: 1222 with model MetricMotif in generation 10 of 10\n",
      "Model Number: 1223 with model ARIMA in generation 10 of 10\n",
      "Model Number: 1224 with model Theta in generation 10 of 10\n",
      "Model Number: 1225 with model MultivariateMotif in generation 10 of 10\n",
      "Model Number: 1226 with model WindowRegression in generation 10 of 10\n",
      "Template Eval Error: ModuleNotFoundError(\"No module named 'lightgbm'\") in model 1226 in generation 10: WindowRegression\n",
      "Model Number: 1227 with model MultivariateMotif in generation 10 of 10\n",
      "Model Number: 1228 with model MultivariateMotif in generation 10 of 10\n",
      "Model Number: 1229 with model MultivariateMotif in generation 10 of 10\n",
      "Model Number: 1230 with model AverageValueNaive in generation 10 of 10\n",
      "Model Number: 1231 with model MultivariateMotif in generation 10 of 10\n",
      "Model Number: 1232 with model Theta in generation 10 of 10\n",
      "Model Number: 1233 with model Theta in generation 10 of 10\n",
      "Model Number: 1234 with model LastValueNaive in generation 10 of 10\n",
      "Template Eval Error: Exception('Transformer BTCD failed on fit') in model 1234 in generation 10: LastValueNaive\n",
      "Model Number: 1235 with model MultivariateMotif in generation 10 of 10\n",
      "Model Number: 1236 with model ETS in generation 10 of 10\n",
      "Model Number: 1237 with model UnobservedComponents in generation 10 of 10\n",
      "Template Eval Error: ValueError(\"regression_type='User' but no future_regressor supplied\") in model 1237 in generation 10: UnobservedComponents\n",
      "Model Number: 1238 with model GLS in generation 10 of 10\n",
      "Model Number: 1239 with model SectionalMotif in generation 10 of 10\n",
      "Model Number: 1240 with model GLS in generation 10 of 10\n",
      "Model Number: 1241 with model UnobservedComponents in generation 10 of 10\n",
      "Model Number: 1242 with model GLS in generation 10 of 10\n",
      "Template Eval Error: Exception('Transformer FastICA failed on fit') in model 1242 in generation 10: GLS\n",
      "Model Number: 1243 with model DatepartRegression in generation 10 of 10\n",
      "Model Number: 1244 with model UnivariateMotif in generation 10 of 10\n",
      "Model Number: 1245 with model LastValueNaive in generation 10 of 10\n",
      "Model Number: 1246 with model DatepartRegression in generation 10 of 10\n",
      "Model Number: 1247 with model Theta in generation 10 of 10\n",
      "Model Number: 1248 with model GLS in generation 10 of 10\n",
      "Model Number: 1249 with model Theta in generation 10 of 10\n",
      "Model Number: 1250 with model Theta in generation 10 of 10\n",
      "Model Number: 1251 with model ARIMA in generation 10 of 10\n",
      "Model Number: 1252 with model DatepartRegression in generation 10 of 10\n",
      "Model Number: 1253 with model UnobservedComponents in generation 10 of 10\n",
      "Model Number: 1254 with model MetricMotif in generation 10 of 10\n",
      "Model Number: 1255 with model MultivariateMotif in generation 10 of 10\n",
      "Model Number: 1256 with model UnobservedComponents in generation 10 of 10\n",
      "Model Number: 1257 with model GLM in generation 10 of 10\n",
      "Model Number: 1258 with model MultivariateMotif in generation 10 of 10\n",
      "Model Number: 1259 with model GLS in generation 10 of 10\n"
     ]
    },
    {
     "name": "stderr",
     "output_type": "stream",
     "text": [
      "E:\\Programs\\Anaconda 2023\\Lib\\site-packages\\statsmodels\\genmod\\generalized_linear_model.py:307: DomainWarning:\n",
      "\n",
      "The InversePower link function does not respect the domain of the Gamma family.\n",
      "\n"
     ]
    },
    {
     "name": "stdout",
     "output_type": "stream",
     "text": [
      "Template Eval Error: Exception('Transformer DatepartRegression failed on fit') in model 1259 in generation 10: GLS\n",
      "Model Number: 1260 with model MultivariateRegression in generation 10 of 10\n",
      "Template Eval Error: ValueError(\"regression_type='User' but not future_regressor supplied.\") in model 1260 in generation 10: MultivariateRegression\n",
      "Model Number: 1261 with model SeasonalNaive in generation 10 of 10\n",
      "Model Number: 1262 with model Ensemble in generation 11 of Ensembles\n",
      "Model Number: 1263 with model Ensemble in generation 11 of Ensembles\n",
      "Model Number: 1264 with model Ensemble in generation 11 of Ensembles\n"
     ]
    },
    {
     "name": "stderr",
     "output_type": "stream",
     "text": [
      "C:\\Users\\mizof\\AppData\\Roaming\\Python\\Python311\\site-packages\\autots\\tools\\percentile.py:47: RuntimeWarning:\n",
      "\n",
      "All-NaN slice encountered\n",
      "\n",
      "C:\\Users\\mizof\\AppData\\Roaming\\Python\\Python311\\site-packages\\autots\\tools\\percentile.py:47: RuntimeWarning:\n",
      "\n",
      "All-NaN slice encountered\n",
      "\n"
     ]
    },
    {
     "name": "stdout",
     "output_type": "stream",
     "text": [
      "Model Number: 1265 with model Ensemble in generation 11 of Ensembles\n",
      "Model Number: 1266 with model Ensemble in generation 11 of Ensembles\n"
     ]
    },
    {
     "name": "stderr",
     "output_type": "stream",
     "text": [
      "C:\\Users\\mizof\\AppData\\Roaming\\Python\\Python311\\site-packages\\autots\\tools\\percentile.py:47: RuntimeWarning:\n",
      "\n",
      "All-NaN slice encountered\n",
      "\n",
      "C:\\Users\\mizof\\AppData\\Roaming\\Python\\Python311\\site-packages\\autots\\tools\\percentile.py:47: RuntimeWarning:\n",
      "\n",
      "All-NaN slice encountered\n",
      "\n"
     ]
    },
    {
     "name": "stdout",
     "output_type": "stream",
     "text": [
      "Model Number: 1267 with model Ensemble in generation 11 of Ensembles\n"
     ]
    },
    {
     "name": "stderr",
     "output_type": "stream",
     "text": [
      "C:\\Users\\mizof\\AppData\\Roaming\\Python\\Python311\\site-packages\\autots\\tools\\percentile.py:47: RuntimeWarning:\n",
      "\n",
      "All-NaN slice encountered\n",
      "\n"
     ]
    },
    {
     "name": "stdout",
     "output_type": "stream",
     "text": [
      "Model Number: 1268 with model Ensemble in generation 11 of Ensembles\n"
     ]
    },
    {
     "name": "stderr",
     "output_type": "stream",
     "text": [
      "C:\\Users\\mizof\\AppData\\Roaming\\Python\\Python311\\site-packages\\autots\\tools\\percentile.py:47: RuntimeWarning:\n",
      "\n",
      "All-NaN slice encountered\n",
      "\n"
     ]
    },
    {
     "name": "stdout",
     "output_type": "stream",
     "text": [
      "Model Number: 1269 with model Ensemble in generation 11 of Ensembles\n"
     ]
    },
    {
     "name": "stderr",
     "output_type": "stream",
     "text": [
      "C:\\Users\\mizof\\AppData\\Roaming\\Python\\Python311\\site-packages\\autots\\tools\\percentile.py:47: RuntimeWarning:\n",
      "\n",
      "All-NaN slice encountered\n",
      "\n"
     ]
    },
    {
     "name": "stdout",
     "output_type": "stream",
     "text": [
      "Validation Round: 1\n",
      "Model Number: 1 of 188 with model Ensemble for Validation 1\n",
      "📈 1 - Ensemble with avg smape 3.56: \n",
      "Model Number: 2 of 188 with model Ensemble for Validation 1\n"
     ]
    },
    {
     "name": "stderr",
     "output_type": "stream",
     "text": [
      "C:\\Users\\mizof\\AppData\\Roaming\\Python\\Python311\\site-packages\\autots\\tools\\percentile.py:47: RuntimeWarning:\n",
      "\n",
      "All-NaN slice encountered\n",
      "\n",
      "C:\\Users\\mizof\\AppData\\Roaming\\Python\\Python311\\site-packages\\autots\\tools\\percentile.py:47: RuntimeWarning:\n",
      "\n",
      "All-NaN slice encountered\n",
      "\n"
     ]
    },
    {
     "name": "stdout",
     "output_type": "stream",
     "text": [
      "2 - Ensemble with avg smape 4.19: \n",
      "Model Number: 3 of 188 with model Ensemble for Validation 1\n",
      "3 - Ensemble with avg smape 4.24: \n",
      "Model Number: 4 of 188 with model MultivariateMotif for Validation 1\n",
      "📈 4 - MultivariateMotif with avg smape 2.98: \n",
      "Model Number: 5 of 188 with model Ensemble for Validation 1\n"
     ]
    },
    {
     "name": "stderr",
     "output_type": "stream",
     "text": [
      "C:\\Users\\mizof\\AppData\\Roaming\\Python\\Python311\\site-packages\\autots\\tools\\percentile.py:47: RuntimeWarning:\n",
      "\n",
      "All-NaN slice encountered\n",
      "\n",
      "C:\\Users\\mizof\\AppData\\Roaming\\Python\\Python311\\site-packages\\autots\\tools\\percentile.py:47: RuntimeWarning:\n",
      "\n",
      "All-NaN slice encountered\n",
      "\n"
     ]
    },
    {
     "name": "stdout",
     "output_type": "stream",
     "text": [
      "5 - Ensemble with avg smape 3.12: \n",
      "Model Number: 6 of 188 with model MetricMotif for Validation 1\n",
      "6 - MetricMotif with avg smape 4.49: \n",
      "Model Number: 7 of 188 with model Ensemble for Validation 1\n",
      "7 - Ensemble with avg smape 3.52: \n",
      "Model Number: 8 of 188 with model MultivariateMotif for Validation 1\n"
     ]
    },
    {
     "name": "stderr",
     "output_type": "stream",
     "text": [
      "C:\\Users\\mizof\\AppData\\Roaming\\Python\\Python311\\site-packages\\autots\\tools\\percentile.py:47: RuntimeWarning:\n",
      "\n",
      "All-NaN slice encountered\n",
      "\n",
      "C:\\Users\\mizof\\AppData\\Roaming\\Python\\Python311\\site-packages\\autots\\tools\\percentile.py:47: RuntimeWarning:\n",
      "\n",
      "All-NaN slice encountered\n",
      "\n"
     ]
    },
    {
     "name": "stdout",
     "output_type": "stream",
     "text": [
      "8 - MultivariateMotif with avg smape 3.57: \n",
      "Model Number: 9 of 188 with model MultivariateMotif for Validation 1\n",
      "9 - MultivariateMotif with avg smape 3.66: \n",
      "Model Number: 10 of 188 with model MultivariateMotif for Validation 1\n",
      "10 - MultivariateMotif with avg smape 3.19: \n",
      "Model Number: 11 of 188 with model Ensemble for Validation 1\n"
     ]
    },
    {
     "name": "stderr",
     "output_type": "stream",
     "text": [
      "C:\\Users\\mizof\\AppData\\Roaming\\Python\\Python311\\site-packages\\autots\\tools\\percentile.py:47: RuntimeWarning:\n",
      "\n",
      "All-NaN slice encountered\n",
      "\n"
     ]
    },
    {
     "name": "stdout",
     "output_type": "stream",
     "text": [
      "📈 11 - Ensemble with avg smape 2.93: \n",
      "Model Number: 12 of 188 with model MultivariateMotif for Validation 1\n",
      "12 - MultivariateMotif with avg smape 3.19: \n",
      "Model Number: 13 of 188 with model MultivariateMotif for Validation 1\n",
      "13 - MultivariateMotif with avg smape 4.24: \n",
      "Model Number: 14 of 188 with model UnobservedComponents for Validation 1\n",
      "📈 14 - UnobservedComponents with avg smape 2.78: \n",
      "Model Number: 15 of 188 with model MultivariateMotif for Validation 1\n",
      "15 - MultivariateMotif with avg smape 4.37: \n",
      "Model Number: 16 of 188 with model ETS for Validation 1\n",
      "16 - ETS with avg smape 2.79: \n",
      "Model Number: 17 of 188 with model DatepartRegression for Validation 1\n",
      "17 - DatepartRegression with avg smape 3.1: \n",
      "Model Number: 18 of 188 with model UnobservedComponents for Validation 1\n",
      "18 - UnobservedComponents with avg smape 2.79: \n",
      "Model Number: 19 of 188 with model Theta for Validation 1\n",
      "📈 19 - Theta with avg smape 2.75: \n",
      "Model Number: 20 of 188 with model UnobservedComponents for Validation 1\n",
      "20 - UnobservedComponents with avg smape 2.79: \n",
      "Model Number: 21 of 188 with model WindowRegression for Validation 1\n",
      "21 - WindowRegression with avg smape 5.78: \n",
      "Model Number: 22 of 188 with model WindowRegression for Validation 1\n",
      "22 - WindowRegression with avg smape 5.78: \n",
      "Model Number: 23 of 188 with model Theta for Validation 1\n",
      "23 - Theta with avg smape 2.79: \n",
      "Model Number: 24 of 188 with model ETS for Validation 1\n",
      "24 - ETS with avg smape 2.82: \n",
      "Model Number: 25 of 188 with model ETS for Validation 1\n",
      "25 - ETS with avg smape 2.82: \n",
      "Model Number: 26 of 188 with model DatepartRegression for Validation 1\n",
      "26 - DatepartRegression with avg smape 3.16: \n",
      "Model Number: 27 of 188 with model LastValueNaive for Validation 1\n",
      "27 - LastValueNaive with avg smape 2.79: \n",
      "Model Number: 28 of 188 with model Theta for Validation 1\n",
      "28 - Theta with avg smape 2.79: \n",
      "Model Number: 29 of 188 with model Theta for Validation 1\n",
      "29 - Theta with avg smape 2.79: \n",
      "Model Number: 30 of 188 with model Theta for Validation 1\n",
      "30 - Theta with avg smape 2.79: \n",
      "Model Number: 31 of 188 with model Theta for Validation 1\n",
      "31 - Theta with avg smape 2.79: \n",
      "Model Number: 32 of 188 with model Theta for Validation 1\n",
      "32 - Theta with avg smape 2.79: \n",
      "Model Number: 33 of 188 with model Theta for Validation 1\n",
      "33 - Theta with avg smape 2.79: \n",
      "Model Number: 34 of 188 with model Theta for Validation 1\n",
      "34 - Theta with avg smape 2.79: \n",
      "Model Number: 35 of 188 with model MultivariateMotif for Validation 1\n",
      "35 - MultivariateMotif with avg smape 3.73: \n",
      "Model Number: 36 of 188 with model LastValueNaive for Validation 1\n",
      "36 - LastValueNaive with avg smape 2.79: \n",
      "Model Number: 37 of 188 with model LastValueNaive for Validation 1\n",
      "37 - LastValueNaive with avg smape 7.68: \n",
      "Model Number: 38 of 188 with model LastValueNaive for Validation 1\n",
      "38 - LastValueNaive with avg smape 2.79: \n",
      "Model Number: 39 of 188 with model LastValueNaive for Validation 1\n",
      "39 - LastValueNaive with avg smape 2.79: \n",
      "Model Number: 40 of 188 with model LastValueNaive for Validation 1\n",
      "40 - LastValueNaive with avg smape 2.79: \n",
      "Model Number: 41 of 188 with model LastValueNaive for Validation 1\n",
      "41 - LastValueNaive with avg smape 2.79: \n",
      "Model Number: 42 of 188 with model LastValueNaive for Validation 1\n",
      "42 - LastValueNaive with avg smape 2.79: \n",
      "Model Number: 43 of 188 with model ETS for Validation 1\n",
      "43 - ETS with avg smape 2.84: \n",
      "Model Number: 44 of 188 with model ETS for Validation 1\n",
      "44 - ETS with avg smape 2.84: \n",
      "Model Number: 45 of 188 with model ETS for Validation 1\n"
     ]
    },
    {
     "name": "stderr",
     "output_type": "stream",
     "text": [
      "E:\\Programs\\Anaconda 2023\\Lib\\site-packages\\sklearn\\neighbors\\_classification.py:228: DataConversionWarning:\n",
      "\n",
      "A column-vector y was passed when a 1d array was expected. Please change the shape of y to (n_samples,), for example using ravel().\n",
      "\n"
     ]
    },
    {
     "name": "stdout",
     "output_type": "stream",
     "text": [
      "45 - ETS with avg smape 2.79: \n",
      "Model Number: 46 of 188 with model ETS for Validation 1\n",
      "46 - ETS with avg smape 2.79: \n",
      "Model Number: 47 of 188 with model ETS for Validation 1\n",
      "47 - ETS with avg smape 2.79: \n",
      "Model Number: 48 of 188 with model MultivariateRegression for Validation 1\n"
     ]
    },
    {
     "name": "stderr",
     "output_type": "stream",
     "text": [
      "E:\\Programs\\Anaconda 2023\\Lib\\site-packages\\sklearn\\linear_model\\_ridge.py:211: LinAlgWarning:\n",
      "\n",
      "Ill-conditioned matrix (rcond=1.58996e-25): result may not be accurate.\n",
      "\n",
      "E:\\Programs\\Anaconda 2023\\Lib\\site-packages\\sklearn\\svm\\_classes.py:32: FutureWarning:\n",
      "\n",
      "The default value of `dual` will change from `True` to `'auto'` in 1.5. Set the value of `dual` explicitly to suppress the warning.\n",
      "\n",
      "E:\\Programs\\Anaconda 2023\\Lib\\site-packages\\sklearn\\svm\\_base.py:1242: ConvergenceWarning:\n",
      "\n",
      "Liblinear failed to converge, increase the number of iterations.\n",
      "\n"
     ]
    },
    {
     "name": "stdout",
     "output_type": "stream",
     "text": [
      "📈 48 - MultivariateRegression with avg smape 2.64: \n",
      "Model Number: 49 of 188 with model ETS for Validation 1\n",
      "49 - ETS with avg smape 2.79: \n",
      "Model Number: 50 of 188 with model MultivariateMotif for Validation 1\n",
      "50 - MultivariateMotif with avg smape 4.77: \n",
      "Model Number: 51 of 188 with model LastValueNaive for Validation 1\n",
      "51 - LastValueNaive with avg smape 7.68: \n",
      "Model Number: 52 of 188 with model GLS for Validation 1\n",
      "52 - GLS with avg smape 2.97: \n",
      "Model Number: 53 of 188 with model DatepartRegression for Validation 1\n",
      "53 - DatepartRegression with avg smape 2.84: \n",
      "Model Number: 54 of 188 with model AverageValueNaive for Validation 1\n",
      "54 - AverageValueNaive with avg smape 3.91: \n",
      "Model Number: 55 of 188 with model DatepartRegression for Validation 1\n"
     ]
    },
    {
     "name": "stderr",
     "output_type": "stream",
     "text": [
      "E:\\Programs\\Anaconda 2023\\Lib\\site-packages\\sklearn\\neighbors\\_classification.py:228: DataConversionWarning:\n",
      "\n",
      "A column-vector y was passed when a 1d array was expected. Please change the shape of y to (n_samples,), for example using ravel().\n",
      "\n"
     ]
    },
    {
     "name": "stdout",
     "output_type": "stream",
     "text": [
      "55 - DatepartRegression with avg smape 2.84: \n",
      "Model Number: 56 of 188 with model AverageValueNaive for Validation 1\n",
      "56 - AverageValueNaive with avg smape 3.78: \n",
      "Model Number: 57 of 188 with model UnobservedComponents for Validation 1\n",
      "57 - UnobservedComponents with avg smape 2.86: \n",
      "Model Number: 58 of 188 with model AverageValueNaive for Validation 1\n",
      "58 - AverageValueNaive with avg smape 3.86: \n",
      "Model Number: 59 of 188 with model AverageValueNaive for Validation 1\n",
      "59 - AverageValueNaive with avg smape 7.09: \n",
      "Model Number: 60 of 188 with model UnobservedComponents for Validation 1\n"
     ]
    },
    {
     "name": "stderr",
     "output_type": "stream",
     "text": [
      "E:\\Programs\\Anaconda 2023\\Lib\\site-packages\\sklearn\\neighbors\\_classification.py:228: DataConversionWarning:\n",
      "\n",
      "A column-vector y was passed when a 1d array was expected. Please change the shape of y to (n_samples,), for example using ravel().\n",
      "\n",
      "E:\\Programs\\Anaconda 2023\\Lib\\site-packages\\sklearn\\neighbors\\_classification.py:228: DataConversionWarning:\n",
      "\n",
      "A column-vector y was passed when a 1d array was expected. Please change the shape of y to (n_samples,), for example using ravel().\n",
      "\n"
     ]
    },
    {
     "name": "stdout",
     "output_type": "stream",
     "text": [
      "60 - UnobservedComponents with avg smape 2.86: \n",
      "Model Number: 61 of 188 with model UnobservedComponents for Validation 1\n",
      "61 - UnobservedComponents with avg smape 2.86: \n",
      "Model Number: 62 of 188 with model UnobservedComponents for Validation 1\n",
      "62 - UnobservedComponents with avg smape 2.86: \n",
      "Model Number: 63 of 188 with model AverageValueNaive for Validation 1\n",
      "63 - AverageValueNaive with avg smape 7.09: \n",
      "Model Number: 64 of 188 with model UnobservedComponents for Validation 1\n"
     ]
    },
    {
     "name": "stderr",
     "output_type": "stream",
     "text": [
      "E:\\Programs\\Anaconda 2023\\Lib\\site-packages\\sklearn\\neighbors\\_classification.py:228: DataConversionWarning:\n",
      "\n",
      "A column-vector y was passed when a 1d array was expected. Please change the shape of y to (n_samples,), for example using ravel().\n",
      "\n"
     ]
    },
    {
     "name": "stdout",
     "output_type": "stream",
     "text": [
      "64 - UnobservedComponents with avg smape 2.88: \n",
      "Model Number: 65 of 188 with model AverageValueNaive for Validation 1\n",
      "65 - AverageValueNaive with avg smape 3.86: \n",
      "Model Number: 66 of 188 with model UnobservedComponents for Validation 1\n"
     ]
    },
    {
     "name": "stderr",
     "output_type": "stream",
     "text": [
      "E:\\Programs\\Anaconda 2023\\Lib\\site-packages\\sklearn\\neighbors\\_classification.py:228: DataConversionWarning:\n",
      "\n",
      "A column-vector y was passed when a 1d array was expected. Please change the shape of y to (n_samples,), for example using ravel().\n",
      "\n"
     ]
    },
    {
     "name": "stdout",
     "output_type": "stream",
     "text": [
      "66 - UnobservedComponents with avg smape 2.86: \n",
      "Model Number: 67 of 188 with model GLS for Validation 1\n",
      "67 - GLS with avg smape 2.86: \n",
      "Model Number: 68 of 188 with model GLS for Validation 1\n",
      "68 - GLS with avg smape 2.86: \n",
      "Model Number: 69 of 188 with model AverageValueNaive for Validation 1\n",
      "69 - AverageValueNaive with avg smape 2.86: \n",
      "Model Number: 70 of 188 with model DatepartRegression for Validation 1\n"
     ]
    },
    {
     "name": "stderr",
     "output_type": "stream",
     "text": [
      "E:\\Programs\\Anaconda 2023\\Lib\\site-packages\\sklearn\\neighbors\\_classification.py:228: DataConversionWarning:\n",
      "\n",
      "A column-vector y was passed when a 1d array was expected. Please change the shape of y to (n_samples,), for example using ravel().\n",
      "\n"
     ]
    },
    {
     "name": "stdout",
     "output_type": "stream",
     "text": [
      "70 - DatepartRegression with avg smape 2.93: \n",
      "Model Number: 71 of 188 with model NVAR for Validation 1\n",
      "71 - NVAR with avg smape 4.13: \n",
      "Model Number: 72 of 188 with model AverageValueNaive for Validation 1\n",
      "72 - AverageValueNaive with avg smape 7.09: \n",
      "Model Number: 73 of 188 with model SeasonalNaive for Validation 1\n",
      "73 - SeasonalNaive with avg smape 2.8: \n",
      "Model Number: 74 of 188 with model ARIMA for Validation 1\n",
      "74 - ARIMA with avg smape 7.01: \n",
      "Model Number: 75 of 188 with model AverageValueNaive for Validation 1\n",
      "75 - AverageValueNaive with avg smape 7.09: \n",
      "Model Number: 76 of 188 with model GLS for Validation 1\n",
      "76 - GLS with avg smape 2.86: \n",
      "Model Number: 77 of 188 with model GLM for Validation 1\n",
      "📈 77 - GLM with avg smape 2.59: \n",
      "Model Number: 78 of 188 with model GLM for Validation 1\n",
      "78 - GLM with avg smape 2.86: \n",
      "Model Number: 79 of 188 with model GLM for Validation 1\n"
     ]
    },
    {
     "name": "stderr",
     "output_type": "stream",
     "text": [
      "E:\\Programs\\Anaconda 2023\\Lib\\site-packages\\statsmodels\\genmod\\generalized_linear_model.py:307: DomainWarning:\n",
      "\n",
      "The InversePower link function does not respect the domain of the Gamma family.\n",
      "\n"
     ]
    },
    {
     "name": "stdout",
     "output_type": "stream",
     "text": [
      "79 - GLM with avg smape 2.61: \n",
      "Model Number: 80 of 188 with model UnivariateMotif for Validation 1\n",
      "80 - UnivariateMotif with avg smape 8.03: \n",
      "Model Number: 81 of 188 with model GLS for Validation 1\n",
      "81 - GLS with avg smape 2.86: \n",
      "Model Number: 82 of 188 with model GLS for Validation 1\n",
      "82 - GLS with avg smape 2.86: \n",
      "Model Number: 83 of 188 with model GLS for Validation 1\n",
      "83 - GLS with avg smape 2.86: \n",
      "Model Number: 84 of 188 with model GLS for Validation 1\n",
      "84 - GLS with avg smape 2.86: \n",
      "Model Number: 85 of 188 with model GLS for Validation 1\n",
      "85 - GLS with avg smape 2.86: \n",
      "Model Number: 86 of 188 with model ConstantNaive for Validation 1\n",
      "86 - ConstantNaive with avg smape 2.77: \n",
      "Model Number: 87 of 188 with model SeasonalNaive for Validation 1\n",
      "87 - SeasonalNaive with avg smape 2.83: \n",
      "Model Number: 88 of 188 with model GLM for Validation 1\n",
      "88 - GLM with avg smape 2.85: \n",
      "Model Number: 89 of 188 with model NVAR for Validation 1\n",
      "89 - NVAR with avg smape 7.1: \n",
      "Model Number: 90 of 188 with model NVAR for Validation 1\n",
      "90 - NVAR with avg smape 7.1: \n",
      "Model Number: 91 of 188 with model NVAR for Validation 1\n",
      "91 - NVAR with avg smape 7.07: \n",
      "Model Number: 92 of 188 with model NVAR for Validation 1\n",
      "92 - NVAR with avg smape 7.07: \n",
      "Model Number: 93 of 188 with model NVAR for Validation 1\n",
      "93 - NVAR with avg smape 7.26: \n",
      "Model Number: 94 of 188 with model NVAR for Validation 1\n",
      "94 - NVAR with avg smape 7.26: \n",
      "Model Number: 95 of 188 with model NVAR for Validation 1\n",
      "95 - NVAR with avg smape 7.26: \n",
      "Model Number: 96 of 188 with model NVAR for Validation 1\n",
      "96 - NVAR with avg smape 7.26: \n",
      "Model Number: 97 of 188 with model ARIMA for Validation 1\n",
      "97 - ARIMA with avg smape 7.07: \n",
      "Model Number: 98 of 188 with model ConstantNaive for Validation 1\n",
      "98 - ConstantNaive with avg smape 7.09: \n",
      "Model Number: 99 of 188 with model ConstantNaive for Validation 1\n",
      "99 - ConstantNaive with avg smape 7.09: \n",
      "Model Number: 100 of 188 with model ConstantNaive for Validation 1\n",
      "100 - ConstantNaive with avg smape 7.09: \n",
      "Model Number: 101 of 188 with model ConstantNaive for Validation 1\n",
      "101 - ConstantNaive with avg smape 7.09: \n",
      "Model Number: 102 of 188 with model ARIMA for Validation 1\n",
      "102 - ARIMA with avg smape 6.73: \n",
      "Model Number: 103 of 188 with model ARIMA for Validation 1\n",
      "103 - ARIMA with avg smape 6.73: \n",
      "Model Number: 104 of 188 with model SeasonalNaive for Validation 1\n",
      "104 - SeasonalNaive with avg smape 2.91: \n",
      "Model Number: 105 of 188 with model SeasonalNaive for Validation 1\n",
      "105 - SeasonalNaive with avg smape 2.91: \n",
      "Model Number: 106 of 188 with model SeasonalNaive for Validation 1\n"
     ]
    },
    {
     "name": "stderr",
     "output_type": "stream",
     "text": [
      "E:\\Programs\\Anaconda 2023\\Lib\\site-packages\\sklearn\\neighbors\\_classification.py:228: DataConversionWarning:\n",
      "\n",
      "A column-vector y was passed when a 1d array was expected. Please change the shape of y to (n_samples,), for example using ravel().\n",
      "\n"
     ]
    },
    {
     "name": "stdout",
     "output_type": "stream",
     "text": [
      "106 - SeasonalNaive with avg smape 2.91: \n",
      "Model Number: 107 of 188 with model ARIMA for Validation 1\n",
      "107 - ARIMA with avg smape 2.86: \n",
      "Model Number: 108 of 188 with model ARIMA for Validation 1\n",
      "108 - ARIMA with avg smape 2.86: \n",
      "Model Number: 109 of 188 with model SectionalMotif for Validation 1\n",
      "109 - SectionalMotif with avg smape 6.47: \n",
      "Model Number: 110 of 188 with model ARIMA for Validation 1\n",
      "110 - ARIMA with avg smape 8.94: \n",
      "Model Number: 111 of 188 with model ARIMA for Validation 1\n",
      "111 - ARIMA with avg smape 7.09: \n",
      "Model Number: 112 of 188 with model MetricMotif for Validation 1\n",
      "112 - MetricMotif with avg smape 10.83: \n",
      "Model Number: 113 of 188 with model ARIMA for Validation 1\n",
      "113 - ARIMA with avg smape 7.94: \n",
      "Model Number: 114 of 188 with model SectionalMotif for Validation 1\n",
      "114 - SectionalMotif with avg smape 13.73: \n",
      "Model Number: 115 of 188 with model SectionalMotif for Validation 1\n",
      "115 - SectionalMotif with avg smape 13.73: \n",
      "Model Number: 116 of 188 with model DatepartRegression for Validation 1\n",
      "116 - DatepartRegression with avg smape 4.81: \n",
      "Model Number: 117 of 188 with model UnivariateMotif for Validation 1\n",
      "117 - UnivariateMotif with avg smape 16.66: \n",
      "Model Number: 118 of 188 with model SeasonalNaive for Validation 1\n",
      "118 - SeasonalNaive with avg smape 5.75: \n",
      "Model Number: 119 of 188 with model MetricMotif for Validation 1\n",
      "119 - MetricMotif with avg smape 10.33: \n",
      "Model Number: 120 of 188 with model GLM for Validation 1\n",
      "120 - GLM with avg smape 3.12: \n",
      "Model Number: 121 of 188 with model ConstantNaive for Validation 1\n",
      "121 - ConstantNaive with avg smape 2.91: \n",
      "Model Number: 122 of 188 with model MetricMotif for Validation 1\n",
      "122 - MetricMotif with avg smape 5.5: \n",
      "Model Number: 123 of 188 with model MetricMotif for Validation 1\n"
     ]
    },
    {
     "name": "stderr",
     "output_type": "stream",
     "text": [
      "E:\\Programs\\Anaconda 2023\\Lib\\site-packages\\statsmodels\\genmod\\generalized_linear_model.py:307: DomainWarning:\n",
      "\n",
      "The InversePower link function does not respect the domain of the Gamma family.\n",
      "\n"
     ]
    },
    {
     "name": "stdout",
     "output_type": "stream",
     "text": [
      "123 - MetricMotif with avg smape 5.5: \n",
      "Model Number: 124 of 188 with model SeasonalNaive for Validation 1\n",
      "124 - SeasonalNaive with avg smape 3.76: \n",
      "Model Number: 125 of 188 with model ConstantNaive for Validation 1\n",
      "125 - ConstantNaive with avg smape 2.86: \n",
      "Model Number: 126 of 188 with model ConstantNaive for Validation 1\n",
      "126 - ConstantNaive with avg smape 2.86: \n",
      "Model Number: 127 of 188 with model ConstantNaive for Validation 1\n",
      "127 - ConstantNaive with avg smape 2.86: \n",
      "Model Number: 128 of 188 with model UnivariateMotif for Validation 1\n",
      "128 - UnivariateMotif with avg smape 8.36: \n",
      "Model Number: 129 of 188 with model SectionalMotif for Validation 1\n",
      "129 - SectionalMotif with avg smape 5.5: \n",
      "Model Number: 130 of 188 with model UnivariateMotif for Validation 1\n",
      "130 - UnivariateMotif with avg smape 6.32: \n",
      "Model Number: 131 of 188 with model GLM for Validation 1\n",
      "131 - GLM with avg smape 3.12: \n",
      "Model Number: 132 of 188 with model WindowRegression for Validation 1\n"
     ]
    },
    {
     "name": "stderr",
     "output_type": "stream",
     "text": [
      "E:\\Programs\\Anaconda 2023\\Lib\\site-packages\\statsmodels\\genmod\\families\\links.py:198: RuntimeWarning:\n",
      "\n",
      "overflow encountered in exp\n",
      "\n"
     ]
    },
    {
     "name": "stdout",
     "output_type": "stream",
     "text": [
      "132 - WindowRegression with avg smape 5.45: \n",
      "Model Number: 133 of 188 with model MetricMotif for Validation 1\n",
      "133 - MetricMotif with avg smape 7.91: \n",
      "Model Number: 134 of 188 with model UnivariateMotif for Validation 1\n"
     ]
    },
    {
     "name": "stderr",
     "output_type": "stream",
     "text": [
      "C:\\Users\\mizof\\AppData\\Roaming\\Python\\Python311\\site-packages\\autots\\tools\\thresholding.py:204: RuntimeWarning:\n",
      "\n",
      "overflow encountered in scalar power\n",
      "\n",
      "C:\\Users\\mizof\\AppData\\Roaming\\Python\\Python311\\site-packages\\autots\\tools\\percentile.py:47: RuntimeWarning:\n",
      "\n",
      "All-NaN slice encountered\n",
      "\n"
     ]
    },
    {
     "name": "stdout",
     "output_type": "stream",
     "text": [
      "134 - UnivariateMotif with avg smape 5.47: \n",
      "Model Number: 135 of 188 with model UnivariateMotif for Validation 1\n",
      "135 - UnivariateMotif with avg smape 5.66: \n",
      "Model Number: 136 of 188 with model Ensemble for Validation 1\n",
      "136 - Ensemble with avg smape 6.1: \n",
      "Model Number: 137 of 188 with model MetricMotif for Validation 1\n",
      "137 - MetricMotif with avg smape 20.03: \n",
      "Model Number: 138 of 188 with model SectionalMotif for Validation 1\n",
      "138 - SectionalMotif with avg smape 3.88: \n",
      "Model Number: 139 of 188 with model MetricMotif for Validation 1\n",
      "139 - MetricMotif with avg smape 5.77: \n",
      "Model Number: 140 of 188 with model SectionalMotif for Validation 1\n",
      "140 - SectionalMotif with avg smape 5.37: \n",
      "Model Number: 141 of 188 with model MetricMotif for Validation 1\n",
      "141 - MetricMotif with avg smape 6.73: \n",
      "Model Number: 142 of 188 with model UnivariateMotif for Validation 1\n",
      "142 - UnivariateMotif with avg smape 5.45: \n",
      "Model Number: 143 of 188 with model UnivariateMotif for Validation 1\n",
      "143 - UnivariateMotif with avg smape 6.1: \n",
      "Model Number: 144 of 188 with model UnivariateMotif for Validation 1\n",
      "144 - UnivariateMotif with avg smape 5.52: \n",
      "Model Number: 145 of 188 with model WindowRegression for Validation 1\n",
      "145 - WindowRegression with avg smape 7.67: \n",
      "Model Number: 146 of 188 with model MultivariateRegression for Validation 1\n",
      "146 - MultivariateRegression with avg smape 15.7: \n",
      "Model Number: 147 of 188 with model Ensemble for Validation 1\n"
     ]
    },
    {
     "name": "stderr",
     "output_type": "stream",
     "text": [
      "C:\\Users\\mizof\\AppData\\Roaming\\Python\\Python311\\site-packages\\autots\\tools\\percentile.py:47: RuntimeWarning:\n",
      "\n",
      "All-NaN slice encountered\n",
      "\n"
     ]
    },
    {
     "name": "stdout",
     "output_type": "stream",
     "text": [
      "147 - Ensemble with avg smape 6.03: \n",
      "Model Number: 148 of 188 with model DatepartRegression for Validation 1\n",
      "148 - DatepartRegression with avg smape 8.71: \n",
      "Model Number: 149 of 188 with model SeasonalNaive for Validation 1\n",
      "149 - SeasonalNaive with avg smape 7.58: \n",
      "Model Number: 150 of 188 with model SectionalMotif for Validation 1\n",
      "150 - SectionalMotif with avg smape 9.25: \n",
      "Model Number: 151 of 188 with model MultivariateRegression for Validation 1\n",
      "151 - MultivariateRegression with avg smape 14.08: \n",
      "Model Number: 152 of 188 with model SeasonalNaive for Validation 1\n",
      "152 - SeasonalNaive with avg smape 13.94: \n",
      "Model Number: 153 of 188 with model DatepartRegression for Validation 1\n",
      "153 - DatepartRegression with avg smape 7.36: \n",
      "Model Number: 154 of 188 with model DatepartRegression for Validation 1\n",
      "154 - DatepartRegression with avg smape 7.36: \n",
      "Model Number: 155 of 188 with model GLM for Validation 1\n",
      "155 - GLM with avg smape 8.24: \n",
      "Model Number: 156 of 188 with model WindowRegression for Validation 1\n",
      "156 - WindowRegression with avg smape 23.78: \n",
      "Model Number: 157 of 188 with model MultivariateRegression for Validation 1\n"
     ]
    },
    {
     "name": "stderr",
     "output_type": "stream",
     "text": [
      "E:\\Programs\\Anaconda 2023\\Lib\\site-packages\\statsmodels\\genmod\\generalized_linear_model.py:307: DomainWarning:\n",
      "\n",
      "The InversePower link function does not respect the domain of the Gamma family.\n",
      "\n"
     ]
    },
    {
     "name": "stdout",
     "output_type": "stream",
     "text": [
      "157 - MultivariateRegression with avg smape 4.43: \n",
      "Model Number: 158 of 188 with model WindowRegression for Validation 1\n",
      "158 - WindowRegression with avg smape 7.53: \n",
      "Model Number: 159 of 188 with model SectionalMotif for Validation 1\n",
      "159 - SectionalMotif with avg smape 3.12: \n",
      "Model Number: 160 of 188 with model MultivariateRegression for Validation 1\n",
      "160 - MultivariateRegression with avg smape 2.78: \n",
      "Model Number: 161 of 188 with model ARDL for Validation 1\n",
      "161 - ARDL with avg smape 4.4: \n",
      "Model Number: 162 of 188 with model GLM for Validation 1\n"
     ]
    },
    {
     "name": "stderr",
     "output_type": "stream",
     "text": [
      "E:\\Programs\\Anaconda 2023\\Lib\\site-packages\\statsmodels\\genmod\\families\\links.py:198: RuntimeWarning:\n",
      "\n",
      "overflow encountered in exp\n",
      "\n"
     ]
    },
    {
     "name": "stdout",
     "output_type": "stream",
     "text": [
      "162 - GLM with avg smape 8.24: \n",
      "Model Number: 163 of 188 with model WindowRegression for Validation 1\n",
      "163 - WindowRegression with avg smape 18.66: \n",
      "Model Number: 164 of 188 with model WindowRegression for Validation 1\n",
      "164 - WindowRegression with avg smape 9.17: \n",
      "Model Number: 165 of 188 with model GLM for Validation 1\n",
      "165 - GLM with avg smape 15.78: \n",
      "Model Number: 166 of 188 with model ARDL for Validation 1\n",
      "166 - ARDL with avg smape 7.25: \n",
      "Model Number: 167 of 188 with model WindowRegression for Validation 1\n",
      "167 - WindowRegression with avg smape 18.33: \n",
      "Model Number: 168 of 188 with model MultivariateRegression for Validation 1\n",
      "168 - MultivariateRegression with avg smape 15.66: \n",
      "Model Number: 169 of 188 with model SectionalMotif for Validation 1\n",
      "169 - SectionalMotif with avg smape 6.56: \n",
      "Model Number: 170 of 188 with model UnivariateRegression for Validation 1\n",
      "170 - UnivariateRegression with avg smape 7.93: \n",
      "Model Number: 171 of 188 with model ARDL for Validation 1\n",
      "171 - ARDL with avg smape 4.6: \n",
      "Model Number: 172 of 188 with model MultivariateRegression for Validation 1\n",
      "172 - MultivariateRegression with avg smape 7.16: \n",
      "Model Number: 173 of 188 with model MultivariateRegression for Validation 1\n"
     ]
    },
    {
     "name": "stderr",
     "output_type": "stream",
     "text": [
      "E:\\Programs\\Anaconda 2023\\Lib\\site-packages\\sklearn\\svm\\_classes.py:32: FutureWarning:\n",
      "\n",
      "The default value of `dual` will change from `True` to `'auto'` in 1.5. Set the value of `dual` explicitly to suppress the warning.\n",
      "\n",
      "E:\\Programs\\Anaconda 2023\\Lib\\site-packages\\sklearn\\svm\\_base.py:1242: ConvergenceWarning:\n",
      "\n",
      "Liblinear failed to converge, increase the number of iterations.\n",
      "\n"
     ]
    },
    {
     "name": "stdout",
     "output_type": "stream",
     "text": [
      "173 - MultivariateRegression with avg smape 10.08: \n",
      "Model Number: 174 of 188 with model MultivariateRegression for Validation 1\n",
      "174 - MultivariateRegression with avg smape 7.17: \n",
      "Model Number: 175 of 188 with model UnivariateRegression for Validation 1\n",
      "175 - UnivariateRegression with avg smape 5.66: \n",
      "Model Number: 176 of 188 with model UnivariateRegression for Validation 1\n",
      "176 - UnivariateRegression with avg smape 8.04: \n",
      "Model Number: 177 of 188 with model UnivariateRegression for Validation 1\n",
      "177 - UnivariateRegression with avg smape 8.04: \n",
      "Model Number: 178 of 188 with model ARDL for Validation 1\n",
      "178 - ARDL with avg smape 7.38: \n",
      "Model Number: 179 of 188 with model UnivariateRegression for Validation 1\n",
      "179 - UnivariateRegression with avg smape 16.41: \n",
      "Model Number: 180 of 188 with model UnivariateRegression for Validation 1\n",
      "180 - UnivariateRegression with avg smape 5.66: \n",
      "Model Number: 181 of 188 with model UnivariateRegression for Validation 1\n"
     ]
    },
    {
     "name": "stderr",
     "output_type": "stream",
     "text": [
      "E:\\Programs\\Anaconda 2023\\Lib\\site-packages\\sklearn\\linear_model\\_ridge.py:211: LinAlgWarning:\n",
      "\n",
      "Ill-conditioned matrix (rcond=1.13601e-25): result may not be accurate.\n",
      "\n"
     ]
    },
    {
     "name": "stdout",
     "output_type": "stream",
     "text": [
      "181 - UnivariateRegression with avg smape 6.46: \n",
      "Model Number: 182 of 188 with model UnivariateRegression for Validation 1\n",
      "182 - UnivariateRegression with avg smape 6.28: \n",
      "Model Number: 183 of 188 with model ARDL for Validation 1\n",
      "183 - ARDL with avg smape 6.46: \n",
      "Model Number: 184 of 188 with model UnivariateRegression for Validation 1\n",
      "184 - UnivariateRegression with avg smape 5.96: \n",
      "Model Number: 185 of 188 with model ARDL for Validation 1\n",
      "185 - ARDL with avg smape 5.59: \n",
      "Model Number: 186 of 188 with model ARDL for Validation 1\n",
      "186 - ARDL with avg smape 3.7: \n",
      "Model Number: 187 of 188 with model ARDL for Validation 1\n",
      "187 - ARDL with avg smape 16.86: \n",
      "Model Number: 188 of 188 with model ARDL for Validation 1\n",
      "188 - ARDL with avg smape 37.59: \n",
      "Validation Round: 2\n",
      "Model Number: 1 of 188 with model Ensemble for Validation 2\n",
      "📈 1 - Ensemble with avg smape 4.43: \n",
      "Model Number: 2 of 188 with model Ensemble for Validation 2\n"
     ]
    },
    {
     "name": "stderr",
     "output_type": "stream",
     "text": [
      "C:\\Users\\mizof\\AppData\\Roaming\\Python\\Python311\\site-packages\\autots\\tools\\percentile.py:47: RuntimeWarning:\n",
      "\n",
      "All-NaN slice encountered\n",
      "\n",
      "C:\\Users\\mizof\\AppData\\Roaming\\Python\\Python311\\site-packages\\autots\\tools\\percentile.py:47: RuntimeWarning:\n",
      "\n",
      "All-NaN slice encountered\n",
      "\n"
     ]
    },
    {
     "name": "stdout",
     "output_type": "stream",
     "text": [
      "📈 2 - Ensemble with avg smape 4.38: \n",
      "Model Number: 3 of 188 with model Ensemble for Validation 2\n",
      "3 - Ensemble with avg smape 4.39: \n",
      "Model Number: 4 of 188 with model MultivariateMotif for Validation 2\n",
      "📈 4 - MultivariateMotif with avg smape 4.35: \n",
      "Model Number: 5 of 188 with model Ensemble for Validation 2\n"
     ]
    },
    {
     "name": "stderr",
     "output_type": "stream",
     "text": [
      "C:\\Users\\mizof\\AppData\\Roaming\\Python\\Python311\\site-packages\\autots\\tools\\percentile.py:47: RuntimeWarning:\n",
      "\n",
      "All-NaN slice encountered\n",
      "\n",
      "C:\\Users\\mizof\\AppData\\Roaming\\Python\\Python311\\site-packages\\autots\\tools\\percentile.py:47: RuntimeWarning:\n",
      "\n",
      "All-NaN slice encountered\n",
      "\n"
     ]
    },
    {
     "name": "stdout",
     "output_type": "stream",
     "text": [
      "5 - Ensemble with avg smape 4.54: \n",
      "Model Number: 6 of 188 with model MetricMotif for Validation 2\n",
      "6 - MetricMotif with avg smape 4.78: \n",
      "Model Number: 7 of 188 with model Ensemble for Validation 2\n",
      "7 - Ensemble with avg smape 4.52: \n",
      "Model Number: 8 of 188 with model MultivariateMotif for Validation 2\n",
      "8 - MultivariateMotif with avg smape 4.62: \n",
      "Model Number: 9 of 188 with model MultivariateMotif for Validation 2\n",
      "9 - MultivariateMotif with avg smape 4.65: \n",
      "Model Number: 10 of 188 with model MultivariateMotif for Validation 2\n",
      "📈 10 - MultivariateMotif with avg smape 3.85: \n",
      "Model Number: 11 of 188 with model Ensemble for Validation 2\n"
     ]
    },
    {
     "name": "stderr",
     "output_type": "stream",
     "text": [
      "C:\\Users\\mizof\\AppData\\Roaming\\Python\\Python311\\site-packages\\autots\\tools\\percentile.py:47: RuntimeWarning:\n",
      "\n",
      "All-NaN slice encountered\n",
      "\n",
      "C:\\Users\\mizof\\AppData\\Roaming\\Python\\Python311\\site-packages\\autots\\tools\\percentile.py:47: RuntimeWarning:\n",
      "\n",
      "All-NaN slice encountered\n",
      "\n",
      "C:\\Users\\mizof\\AppData\\Roaming\\Python\\Python311\\site-packages\\autots\\tools\\percentile.py:47: RuntimeWarning:\n",
      "\n",
      "All-NaN slice encountered\n",
      "\n"
     ]
    },
    {
     "name": "stdout",
     "output_type": "stream",
     "text": [
      "11 - Ensemble with avg smape 4.57: \n",
      "Model Number: 12 of 188 with model MultivariateMotif for Validation 2\n",
      "12 - MultivariateMotif with avg smape 3.91: \n",
      "Model Number: 13 of 188 with model MultivariateMotif for Validation 2\n",
      "13 - MultivariateMotif with avg smape 5.24: \n",
      "Model Number: 14 of 188 with model UnobservedComponents for Validation 2\n",
      "14 - UnobservedComponents with avg smape 4.96: \n",
      "Model Number: 15 of 188 with model MultivariateMotif for Validation 2\n",
      "15 - MultivariateMotif with avg smape 5.16: \n",
      "Model Number: 16 of 188 with model ETS for Validation 2\n",
      "16 - ETS with avg smape 4.84: \n",
      "Model Number: 17 of 188 with model DatepartRegression for Validation 2\n",
      "17 - DatepartRegression with avg smape 4.98: \n",
      "Model Number: 18 of 188 with model UnobservedComponents for Validation 2\n",
      "18 - UnobservedComponents with avg smape 4.83: \n",
      "Model Number: 19 of 188 with model Theta for Validation 2\n",
      "19 - Theta with avg smape 5.02: \n",
      "Model Number: 20 of 188 with model UnobservedComponents for Validation 2\n",
      "20 - UnobservedComponents with avg smape 4.83: \n",
      "Model Number: 21 of 188 with model WindowRegression for Validation 2\n",
      "21 - WindowRegression with avg smape 5.0: \n",
      "Model Number: 22 of 188 with model WindowRegression for Validation 2\n",
      "22 - WindowRegression with avg smape 5.0: \n",
      "Model Number: 23 of 188 with model Theta for Validation 2\n",
      "23 - Theta with avg smape 4.83: \n",
      "Model Number: 24 of 188 with model ETS for Validation 2\n",
      "24 - ETS with avg smape 4.86: \n",
      "Model Number: 25 of 188 with model ETS for Validation 2\n",
      "25 - ETS with avg smape 4.86: \n",
      "Model Number: 26 of 188 with model DatepartRegression for Validation 2\n",
      "26 - DatepartRegression with avg smape 5.17: \n",
      "Model Number: 27 of 188 with model LastValueNaive for Validation 2\n",
      "27 - LastValueNaive with avg smape 4.83: \n",
      "Model Number: 28 of 188 with model Theta for Validation 2\n",
      "28 - Theta with avg smape 4.84: \n",
      "Model Number: 29 of 188 with model Theta for Validation 2\n",
      "29 - Theta with avg smape 4.84: \n",
      "Model Number: 30 of 188 with model Theta for Validation 2\n",
      "30 - Theta with avg smape 4.84: \n",
      "Model Number: 31 of 188 with model Theta for Validation 2\n",
      "31 - Theta with avg smape 4.83: \n",
      "Model Number: 32 of 188 with model Theta for Validation 2\n",
      "32 - Theta with avg smape 4.83: \n",
      "Model Number: 33 of 188 with model Theta for Validation 2\n",
      "33 - Theta with avg smape 4.83: \n",
      "Model Number: 34 of 188 with model Theta for Validation 2\n",
      "34 - Theta with avg smape 4.83: \n",
      "Model Number: 35 of 188 with model MultivariateMotif for Validation 2\n",
      "35 - MultivariateMotif with avg smape 3.9: \n",
      "Model Number: 36 of 188 with model LastValueNaive for Validation 2\n",
      "36 - LastValueNaive with avg smape 4.83: \n",
      "Model Number: 37 of 188 with model LastValueNaive for Validation 2\n",
      "37 - LastValueNaive with avg smape 13.81: \n",
      "Model Number: 38 of 188 with model LastValueNaive for Validation 2\n",
      "38 - LastValueNaive with avg smape 4.83: \n",
      "Model Number: 39 of 188 with model LastValueNaive for Validation 2\n",
      "39 - LastValueNaive with avg smape 4.83: \n",
      "Model Number: 40 of 188 with model LastValueNaive for Validation 2\n",
      "40 - LastValueNaive with avg smape 4.83: \n",
      "Model Number: 41 of 188 with model LastValueNaive for Validation 2\n",
      "41 - LastValueNaive with avg smape 4.83: \n",
      "Model Number: 42 of 188 with model LastValueNaive for Validation 2\n",
      "42 - LastValueNaive with avg smape 4.83: \n",
      "Model Number: 43 of 188 with model ETS for Validation 2\n",
      "43 - ETS with avg smape 4.87: \n",
      "Model Number: 44 of 188 with model ETS for Validation 2\n",
      "44 - ETS with avg smape 4.87: \n",
      "Model Number: 45 of 188 with model ETS for Validation 2\n"
     ]
    },
    {
     "name": "stderr",
     "output_type": "stream",
     "text": [
      "E:\\Programs\\Anaconda 2023\\Lib\\site-packages\\sklearn\\neighbors\\_classification.py:228: DataConversionWarning:\n",
      "\n",
      "A column-vector y was passed when a 1d array was expected. Please change the shape of y to (n_samples,), for example using ravel().\n",
      "\n"
     ]
    },
    {
     "name": "stdout",
     "output_type": "stream",
     "text": [
      "45 - ETS with avg smape 4.83: \n",
      "Model Number: 46 of 188 with model ETS for Validation 2\n",
      "46 - ETS with avg smape 4.83: \n",
      "Model Number: 47 of 188 with model ETS for Validation 2\n",
      "47 - ETS with avg smape 4.83: \n",
      "Model Number: 48 of 188 with model MultivariateRegression for Validation 2\n"
     ]
    },
    {
     "name": "stderr",
     "output_type": "stream",
     "text": [
      "E:\\Programs\\Anaconda 2023\\Lib\\site-packages\\sklearn\\linear_model\\_ridge.py:211: LinAlgWarning:\n",
      "\n",
      "Ill-conditioned matrix (rcond=1.6644e-25): result may not be accurate.\n",
      "\n",
      "E:\\Programs\\Anaconda 2023\\Lib\\site-packages\\sklearn\\svm\\_classes.py:32: FutureWarning:\n",
      "\n",
      "The default value of `dual` will change from `True` to `'auto'` in 1.5. Set the value of `dual` explicitly to suppress the warning.\n",
      "\n",
      "E:\\Programs\\Anaconda 2023\\Lib\\site-packages\\sklearn\\svm\\_base.py:1242: ConvergenceWarning:\n",
      "\n",
      "Liblinear failed to converge, increase the number of iterations.\n",
      "\n"
     ]
    },
    {
     "name": "stdout",
     "output_type": "stream",
     "text": [
      "48 - MultivariateRegression with avg smape 15.15: \n",
      "Model Number: 49 of 188 with model ETS for Validation 2\n",
      "49 - ETS with avg smape 4.83: \n",
      "Model Number: 50 of 188 with model MultivariateMotif for Validation 2\n",
      "50 - MultivariateMotif with avg smape 5.09: \n",
      "Model Number: 51 of 188 with model LastValueNaive for Validation 2\n",
      "51 - LastValueNaive with avg smape 13.81: \n",
      "Model Number: 52 of 188 with model GLS for Validation 2\n",
      "52 - GLS with avg smape 4.83: \n",
      "Model Number: 53 of 188 with model DatepartRegression for Validation 2\n",
      "53 - DatepartRegression with avg smape 4.77: \n",
      "Model Number: 54 of 188 with model AverageValueNaive for Validation 2\n",
      "54 - AverageValueNaive with avg smape 4.9: \n",
      "Model Number: 55 of 188 with model DatepartRegression for Validation 2\n"
     ]
    },
    {
     "name": "stderr",
     "output_type": "stream",
     "text": [
      "E:\\Programs\\Anaconda 2023\\Lib\\site-packages\\sklearn\\neighbors\\_classification.py:228: DataConversionWarning:\n",
      "\n",
      "A column-vector y was passed when a 1d array was expected. Please change the shape of y to (n_samples,), for example using ravel().\n",
      "\n"
     ]
    },
    {
     "name": "stdout",
     "output_type": "stream",
     "text": [
      "55 - DatepartRegression with avg smape 4.56: \n",
      "Model Number: 56 of 188 with model AverageValueNaive for Validation 2\n",
      "56 - AverageValueNaive with avg smape 5.46: \n",
      "Model Number: 57 of 188 with model UnobservedComponents for Validation 2\n",
      "57 - UnobservedComponents with avg smape 4.84: \n",
      "Model Number: 58 of 188 with model AverageValueNaive for Validation 2\n",
      "58 - AverageValueNaive with avg smape 4.82: \n",
      "Model Number: 59 of 188 with model AverageValueNaive for Validation 2\n",
      "59 - AverageValueNaive with avg smape 12.98: \n",
      "Model Number: 60 of 188 with model UnobservedComponents for Validation 2\n"
     ]
    },
    {
     "name": "stderr",
     "output_type": "stream",
     "text": [
      "E:\\Programs\\Anaconda 2023\\Lib\\site-packages\\sklearn\\neighbors\\_classification.py:228: DataConversionWarning:\n",
      "\n",
      "A column-vector y was passed when a 1d array was expected. Please change the shape of y to (n_samples,), for example using ravel().\n",
      "\n",
      "E:\\Programs\\Anaconda 2023\\Lib\\site-packages\\sklearn\\neighbors\\_classification.py:228: DataConversionWarning:\n",
      "\n",
      "A column-vector y was passed when a 1d array was expected. Please change the shape of y to (n_samples,), for example using ravel().\n",
      "\n"
     ]
    },
    {
     "name": "stdout",
     "output_type": "stream",
     "text": [
      "60 - UnobservedComponents with avg smape 4.84: \n",
      "Model Number: 61 of 188 with model UnobservedComponents for Validation 2\n",
      "61 - UnobservedComponents with avg smape 4.84: \n",
      "Model Number: 62 of 188 with model UnobservedComponents for Validation 2\n",
      "62 - UnobservedComponents with avg smape 4.84: \n",
      "Model Number: 63 of 188 with model AverageValueNaive for Validation 2\n",
      "63 - AverageValueNaive with avg smape 12.98: \n",
      "Model Number: 64 of 188 with model UnobservedComponents for Validation 2\n"
     ]
    },
    {
     "name": "stderr",
     "output_type": "stream",
     "text": [
      "E:\\Programs\\Anaconda 2023\\Lib\\site-packages\\sklearn\\neighbors\\_classification.py:228: DataConversionWarning:\n",
      "\n",
      "A column-vector y was passed when a 1d array was expected. Please change the shape of y to (n_samples,), for example using ravel().\n",
      "\n"
     ]
    },
    {
     "name": "stdout",
     "output_type": "stream",
     "text": [
      "64 - UnobservedComponents with avg smape 4.83: \n",
      "Model Number: 65 of 188 with model AverageValueNaive for Validation 2\n",
      "65 - AverageValueNaive with avg smape 4.82: \n",
      "Model Number: 66 of 188 with model UnobservedComponents for Validation 2\n"
     ]
    },
    {
     "name": "stderr",
     "output_type": "stream",
     "text": [
      "E:\\Programs\\Anaconda 2023\\Lib\\site-packages\\sklearn\\neighbors\\_classification.py:228: DataConversionWarning:\n",
      "\n",
      "A column-vector y was passed when a 1d array was expected. Please change the shape of y to (n_samples,), for example using ravel().\n",
      "\n"
     ]
    },
    {
     "name": "stdout",
     "output_type": "stream",
     "text": [
      "66 - UnobservedComponents with avg smape 4.84: \n",
      "Model Number: 67 of 188 with model GLS for Validation 2\n",
      "67 - GLS with avg smape 4.84: \n",
      "Model Number: 68 of 188 with model GLS for Validation 2\n",
      "68 - GLS with avg smape 4.84: \n",
      "Model Number: 69 of 188 with model AverageValueNaive for Validation 2\n",
      "69 - AverageValueNaive with avg smape 4.84: \n",
      "Model Number: 70 of 188 with model DatepartRegression for Validation 2\n"
     ]
    },
    {
     "name": "stderr",
     "output_type": "stream",
     "text": [
      "E:\\Programs\\Anaconda 2023\\Lib\\site-packages\\sklearn\\neighbors\\_classification.py:228: DataConversionWarning:\n",
      "\n",
      "A column-vector y was passed when a 1d array was expected. Please change the shape of y to (n_samples,), for example using ravel().\n",
      "\n"
     ]
    },
    {
     "name": "stdout",
     "output_type": "stream",
     "text": [
      "70 - DatepartRegression with avg smape 4.54: \n",
      "Model Number: 71 of 188 with model NVAR for Validation 2\n",
      "71 - NVAR with avg smape 4.87: \n",
      "Model Number: 72 of 188 with model AverageValueNaive for Validation 2\n",
      "72 - AverageValueNaive with avg smape 12.98: \n",
      "Model Number: 73 of 188 with model SeasonalNaive for Validation 2\n",
      "73 - SeasonalNaive with avg smape 4.84: \n",
      "Model Number: 74 of 188 with model ARIMA for Validation 2\n",
      "74 - ARIMA with avg smape 12.96: \n",
      "Model Number: 75 of 188 with model AverageValueNaive for Validation 2\n",
      "75 - AverageValueNaive with avg smape 12.98: \n",
      "Model Number: 76 of 188 with model GLS for Validation 2\n",
      "76 - GLS with avg smape 4.84: \n",
      "Model Number: 77 of 188 with model GLM for Validation 2\n",
      "77 - GLM with avg smape 4.49: \n",
      "Model Number: 78 of 188 with model GLM for Validation 2\n",
      "78 - GLM with avg smape 4.84: \n",
      "Model Number: 79 of 188 with model GLM for Validation 2\n"
     ]
    },
    {
     "name": "stderr",
     "output_type": "stream",
     "text": [
      "E:\\Programs\\Anaconda 2023\\Lib\\site-packages\\statsmodels\\genmod\\generalized_linear_model.py:307: DomainWarning:\n",
      "\n",
      "The InversePower link function does not respect the domain of the Gamma family.\n",
      "\n"
     ]
    },
    {
     "name": "stdout",
     "output_type": "stream",
     "text": [
      "79 - GLM with avg smape 4.48: \n",
      "Model Number: 80 of 188 with model UnivariateMotif for Validation 2\n",
      "80 - UnivariateMotif with avg smape 12.87: \n",
      "Model Number: 81 of 188 with model GLS for Validation 2\n",
      "81 - GLS with avg smape 4.84: \n",
      "Model Number: 82 of 188 with model GLS for Validation 2\n",
      "82 - GLS with avg smape 4.84: \n",
      "Model Number: 83 of 188 with model GLS for Validation 2\n",
      "83 - GLS with avg smape 4.84: \n",
      "Model Number: 84 of 188 with model GLS for Validation 2\n",
      "84 - GLS with avg smape 4.84: \n",
      "Model Number: 85 of 188 with model GLS for Validation 2\n",
      "85 - GLS with avg smape 4.84: \n",
      "Model Number: 86 of 188 with model ConstantNaive for Validation 2\n",
      "86 - ConstantNaive with avg smape 4.84: \n",
      "Model Number: 87 of 188 with model SeasonalNaive for Validation 2\n",
      "87 - SeasonalNaive with avg smape 4.83: \n",
      "Model Number: 88 of 188 with model GLM for Validation 2\n",
      "88 - GLM with avg smape 4.21: \n",
      "Model Number: 89 of 188 with model NVAR for Validation 2\n",
      "89 - NVAR with avg smape 13.61: \n",
      "Model Number: 90 of 188 with model NVAR for Validation 2\n",
      "90 - NVAR with avg smape 13.61: \n",
      "Model Number: 91 of 188 with model NVAR for Validation 2\n",
      "91 - NVAR with avg smape 13.59: \n",
      "Model Number: 92 of 188 with model NVAR for Validation 2\n",
      "92 - NVAR with avg smape 13.59: \n",
      "Model Number: 93 of 188 with model NVAR for Validation 2\n",
      "93 - NVAR with avg smape 13.77: \n",
      "Model Number: 94 of 188 with model NVAR for Validation 2\n",
      "94 - NVAR with avg smape 13.77: \n",
      "Model Number: 95 of 188 with model NVAR for Validation 2\n",
      "95 - NVAR with avg smape 13.77: \n",
      "Model Number: 96 of 188 with model NVAR for Validation 2\n",
      "96 - NVAR with avg smape 13.77: \n",
      "Model Number: 97 of 188 with model ARIMA for Validation 2\n",
      "97 - ARIMA with avg smape 12.78: \n",
      "Model Number: 98 of 188 with model ConstantNaive for Validation 2\n",
      "98 - ConstantNaive with avg smape 12.98: \n",
      "Model Number: 99 of 188 with model ConstantNaive for Validation 2\n",
      "99 - ConstantNaive with avg smape 12.98: \n",
      "Model Number: 100 of 188 with model ConstantNaive for Validation 2\n",
      "100 - ConstantNaive with avg smape 12.98: \n",
      "Model Number: 101 of 188 with model ConstantNaive for Validation 2\n",
      "101 - ConstantNaive with avg smape 12.98: \n",
      "Model Number: 102 of 188 with model ARIMA for Validation 2\n",
      "102 - ARIMA with avg smape 12.81: \n",
      "Model Number: 103 of 188 with model ARIMA for Validation 2\n",
      "103 - ARIMA with avg smape 12.81: \n",
      "Model Number: 104 of 188 with model SeasonalNaive for Validation 2\n",
      "104 - SeasonalNaive with avg smape 4.84: \n",
      "Model Number: 105 of 188 with model SeasonalNaive for Validation 2\n",
      "105 - SeasonalNaive with avg smape 4.82: \n",
      "Model Number: 106 of 188 with model SeasonalNaive for Validation 2\n"
     ]
    },
    {
     "name": "stderr",
     "output_type": "stream",
     "text": [
      "E:\\Programs\\Anaconda 2023\\Lib\\site-packages\\sklearn\\neighbors\\_classification.py:228: DataConversionWarning:\n",
      "\n",
      "A column-vector y was passed when a 1d array was expected. Please change the shape of y to (n_samples,), for example using ravel().\n",
      "\n"
     ]
    },
    {
     "name": "stdout",
     "output_type": "stream",
     "text": [
      "106 - SeasonalNaive with avg smape 4.82: \n",
      "Model Number: 107 of 188 with model ARIMA for Validation 2\n",
      "107 - ARIMA with avg smape 4.85: \n",
      "Model Number: 108 of 188 with model ARIMA for Validation 2\n",
      "108 - ARIMA with avg smape 4.85: \n",
      "Model Number: 109 of 188 with model SectionalMotif for Validation 2\n",
      "109 - SectionalMotif with avg smape 7.24: \n",
      "Model Number: 110 of 188 with model ARIMA for Validation 2\n",
      "110 - ARIMA with avg smape 12.87: \n",
      "Model Number: 111 of 188 with model ARIMA for Validation 2\n",
      "111 - ARIMA with avg smape 12.98: \n",
      "Model Number: 112 of 188 with model MetricMotif for Validation 2\n",
      "112 - MetricMotif with avg smape 14.26: \n",
      "Model Number: 113 of 188 with model ARIMA for Validation 2\n",
      "113 - ARIMA with avg smape 13.36: \n",
      "Model Number: 114 of 188 with model SectionalMotif for Validation 2\n",
      "114 - SectionalMotif with avg smape 12.03: \n",
      "Model Number: 115 of 188 with model SectionalMotif for Validation 2\n",
      "115 - SectionalMotif with avg smape 12.03: \n",
      "Model Number: 116 of 188 with model DatepartRegression for Validation 2\n",
      "116 - DatepartRegression with avg smape 4.39: \n",
      "Model Number: 117 of 188 with model UnivariateMotif for Validation 2\n",
      "117 - UnivariateMotif with avg smape 12.2: \n",
      "Model Number: 118 of 188 with model SeasonalNaive for Validation 2\n",
      "118 - SeasonalNaive with avg smape 11.69: \n",
      "Model Number: 119 of 188 with model MetricMotif for Validation 2\n",
      "119 - MetricMotif with avg smape 14.51: \n",
      "Model Number: 120 of 188 with model GLM for Validation 2\n",
      "120 - GLM with avg smape 4.83: \n",
      "Model Number: 121 of 188 with model ConstantNaive for Validation 2\n",
      "121 - ConstantNaive with avg smape 4.83: \n",
      "Model Number: 122 of 188 with model MetricMotif for Validation 2\n",
      "122 - MetricMotif with avg smape 5.93: \n",
      "Model Number: 123 of 188 with model MetricMotif for Validation 2\n"
     ]
    },
    {
     "name": "stderr",
     "output_type": "stream",
     "text": [
      "E:\\Programs\\Anaconda 2023\\Lib\\site-packages\\statsmodels\\genmod\\generalized_linear_model.py:307: DomainWarning:\n",
      "\n",
      "The InversePower link function does not respect the domain of the Gamma family.\n",
      "\n"
     ]
    },
    {
     "name": "stdout",
     "output_type": "stream",
     "text": [
      "123 - MetricMotif with avg smape 5.93: \n",
      "Model Number: 124 of 188 with model SeasonalNaive for Validation 2\n",
      "124 - SeasonalNaive with avg smape 4.91: \n",
      "Model Number: 125 of 188 with model ConstantNaive for Validation 2\n",
      "125 - ConstantNaive with avg smape 4.84: \n",
      "Model Number: 126 of 188 with model ConstantNaive for Validation 2\n",
      "126 - ConstantNaive with avg smape 4.84: \n",
      "Model Number: 127 of 188 with model ConstantNaive for Validation 2\n",
      "127 - ConstantNaive with avg smape 4.84: \n",
      "Model Number: 128 of 188 with model UnivariateMotif for Validation 2\n",
      "128 - UnivariateMotif with avg smape 12.97: \n",
      "Model Number: 129 of 188 with model SectionalMotif for Validation 2\n",
      "129 - SectionalMotif with avg smape 8.63: \n",
      "Model Number: 130 of 188 with model UnivariateMotif for Validation 2\n",
      "130 - UnivariateMotif with avg smape 12.22: \n",
      "Model Number: 131 of 188 with model GLM for Validation 2\n",
      "131 - GLM with avg smape 4.83: \n",
      "Model Number: 132 of 188 with model WindowRegression for Validation 2\n"
     ]
    },
    {
     "name": "stderr",
     "output_type": "stream",
     "text": [
      "E:\\Programs\\Anaconda 2023\\Lib\\site-packages\\statsmodels\\genmod\\families\\links.py:198: RuntimeWarning:\n",
      "\n",
      "overflow encountered in exp\n",
      "\n"
     ]
    },
    {
     "name": "stdout",
     "output_type": "stream",
     "text": [
      "132 - WindowRegression with avg smape 6.03: \n",
      "Model Number: 133 of 188 with model MetricMotif for Validation 2\n",
      "133 - MetricMotif with avg smape 14.58: \n",
      "Model Number: 134 of 188 with model UnivariateMotif for Validation 2\n"
     ]
    },
    {
     "name": "stderr",
     "output_type": "stream",
     "text": [
      "C:\\Users\\mizof\\AppData\\Roaming\\Python\\Python311\\site-packages\\autots\\tools\\thresholding.py:204: RuntimeWarning:\n",
      "\n",
      "overflow encountered in scalar power\n",
      "\n"
     ]
    },
    {
     "name": "stdout",
     "output_type": "stream",
     "text": [
      "134 - UnivariateMotif with avg smape 13.14: \n",
      "Model Number: 135 of 188 with model UnivariateMotif for Validation 2\n",
      "135 - UnivariateMotif with avg smape 13.03: \n",
      "Model Number: 136 of 188 with model Ensemble for Validation 2\n",
      "136 - Ensemble with avg smape 9.52: \n",
      "Model Number: 137 of 188 with model MetricMotif for Validation 2\n",
      "137 - MetricMotif with avg smape 13.33: \n",
      "Model Number: 138 of 188 with model SectionalMotif for Validation 2\n",
      "138 - SectionalMotif with avg smape 5.18: \n",
      "Model Number: 139 of 188 with model MetricMotif for Validation 2\n",
      "139 - MetricMotif with avg smape 12.07: \n",
      "Model Number: 140 of 188 with model SectionalMotif for Validation 2\n",
      "140 - SectionalMotif with avg smape 6.0: \n",
      "Model Number: 141 of 188 with model MetricMotif for Validation 2\n",
      "141 - MetricMotif with avg smape 9.76: \n",
      "Model Number: 142 of 188 with model UnivariateMotif for Validation 2\n",
      "142 - UnivariateMotif with avg smape 10.81: \n",
      "Model Number: 143 of 188 with model UnivariateMotif for Validation 2\n",
      "143 - UnivariateMotif with avg smape 12.35: \n",
      "Model Number: 144 of 188 with model UnivariateMotif for Validation 2\n",
      "144 - UnivariateMotif with avg smape 13.12: \n",
      "Model Number: 145 of 188 with model WindowRegression for Validation 2\n",
      "145 - WindowRegression with avg smape 14.05: \n",
      "Model Number: 146 of 188 with model MultivariateRegression for Validation 2\n",
      "146 - MultivariateRegression with avg smape 13.96: \n",
      "Model Number: 147 of 188 with model Ensemble for Validation 2\n"
     ]
    },
    {
     "name": "stderr",
     "output_type": "stream",
     "text": [
      "C:\\Users\\mizof\\AppData\\Roaming\\Python\\Python311\\site-packages\\autots\\tools\\percentile.py:47: RuntimeWarning:\n",
      "\n",
      "All-NaN slice encountered\n",
      "\n"
     ]
    },
    {
     "name": "stdout",
     "output_type": "stream",
     "text": [
      "147 - Ensemble with avg smape 13.24: \n",
      "Model Number: 148 of 188 with model DatepartRegression for Validation 2\n",
      "148 - DatepartRegression with avg smape 13.57: \n",
      "Model Number: 149 of 188 with model SeasonalNaive for Validation 2\n",
      "149 - SeasonalNaive with avg smape 14.13: \n",
      "Model Number: 150 of 188 with model SectionalMotif for Validation 2\n",
      "150 - SectionalMotif with avg smape 5.16: \n",
      "Model Number: 151 of 188 with model MultivariateRegression for Validation 2\n",
      "151 - MultivariateRegression with avg smape 18.49: \n",
      "Model Number: 152 of 188 with model SeasonalNaive for Validation 2\n",
      "152 - SeasonalNaive with avg smape 8.58: \n",
      "Model Number: 153 of 188 with model DatepartRegression for Validation 2\n",
      "153 - DatepartRegression with avg smape 13.18: \n",
      "Model Number: 154 of 188 with model DatepartRegression for Validation 2\n",
      "154 - DatepartRegression with avg smape 13.19: \n",
      "Model Number: 155 of 188 with model GLM for Validation 2\n",
      "155 - GLM with avg smape 12.91: \n",
      "Model Number: 156 of 188 with model WindowRegression for Validation 2\n",
      "156 - WindowRegression with avg smape 12.67: \n",
      "Model Number: 157 of 188 with model MultivariateRegression for Validation 2\n"
     ]
    },
    {
     "name": "stderr",
     "output_type": "stream",
     "text": [
      "E:\\Programs\\Anaconda 2023\\Lib\\site-packages\\statsmodels\\genmod\\generalized_linear_model.py:307: DomainWarning:\n",
      "\n",
      "The InversePower link function does not respect the domain of the Gamma family.\n",
      "\n"
     ]
    },
    {
     "name": "stdout",
     "output_type": "stream",
     "text": [
      "157 - MultivariateRegression with avg smape 12.58: \n",
      "Model Number: 158 of 188 with model WindowRegression for Validation 2\n",
      "158 - WindowRegression with avg smape 13.17: \n",
      "Model Number: 159 of 188 with model SectionalMotif for Validation 2\n",
      "159 - SectionalMotif with avg smape 11.41: \n",
      "Model Number: 160 of 188 with model MultivariateRegression for Validation 2\n",
      "160 - MultivariateRegression with avg smape 4.96: \n",
      "Model Number: 161 of 188 with model ARDL for Validation 2\n",
      "161 - ARDL with avg smape 4.72: \n",
      "Model Number: 162 of 188 with model GLM for Validation 2\n"
     ]
    },
    {
     "name": "stderr",
     "output_type": "stream",
     "text": [
      "E:\\Programs\\Anaconda 2023\\Lib\\site-packages\\statsmodels\\genmod\\families\\links.py:198: RuntimeWarning:\n",
      "\n",
      "overflow encountered in exp\n",
      "\n"
     ]
    },
    {
     "name": "stdout",
     "output_type": "stream",
     "text": [
      "162 - GLM with avg smape 12.91: \n",
      "Model Number: 163 of 188 with model WindowRegression for Validation 2\n",
      "163 - WindowRegression with avg smape 14.82: \n",
      "Model Number: 164 of 188 with model WindowRegression for Validation 2\n",
      "164 - WindowRegression with avg smape 14.32: \n",
      "Model Number: 165 of 188 with model GLM for Validation 2\n",
      "165 - GLM with avg smape 19.73: \n",
      "Model Number: 166 of 188 with model ARDL for Validation 2\n",
      "166 - ARDL with avg smape 13.38: \n",
      "Model Number: 167 of 188 with model WindowRegression for Validation 2\n",
      "167 - WindowRegression with avg smape 13.82: \n",
      "Model Number: 168 of 188 with model MultivariateRegression for Validation 2\n",
      "168 - MultivariateRegression with avg smape 12.94: \n",
      "Model Number: 169 of 188 with model SectionalMotif for Validation 2\n",
      "169 - SectionalMotif with avg smape 12.93: \n",
      "Model Number: 170 of 188 with model UnivariateRegression for Validation 2\n",
      "170 - UnivariateRegression with avg smape 13.69: \n",
      "Model Number: 171 of 188 with model ARDL for Validation 2\n",
      "171 - ARDL with avg smape 5.15: \n",
      "Model Number: 172 of 188 with model MultivariateRegression for Validation 2\n",
      "172 - MultivariateRegression with avg smape 10.95: \n",
      "Model Number: 173 of 188 with model MultivariateRegression for Validation 2\n"
     ]
    },
    {
     "name": "stderr",
     "output_type": "stream",
     "text": [
      "E:\\Programs\\Anaconda 2023\\Lib\\site-packages\\sklearn\\svm\\_classes.py:32: FutureWarning:\n",
      "\n",
      "The default value of `dual` will change from `True` to `'auto'` in 1.5. Set the value of `dual` explicitly to suppress the warning.\n",
      "\n",
      "E:\\Programs\\Anaconda 2023\\Lib\\site-packages\\sklearn\\svm\\_base.py:1242: ConvergenceWarning:\n",
      "\n",
      "Liblinear failed to converge, increase the number of iterations.\n",
      "\n"
     ]
    },
    {
     "name": "stdout",
     "output_type": "stream",
     "text": [
      "173 - MultivariateRegression with avg smape 17.45: \n",
      "Model Number: 174 of 188 with model MultivariateRegression for Validation 2\n",
      "174 - MultivariateRegression with avg smape 22.81: \n",
      "Model Number: 175 of 188 with model UnivariateRegression for Validation 2\n",
      "175 - UnivariateRegression with avg smape 5.23: \n",
      "Model Number: 176 of 188 with model UnivariateRegression for Validation 2\n",
      "176 - UnivariateRegression with avg smape 13.46: \n",
      "Model Number: 177 of 188 with model UnivariateRegression for Validation 2\n",
      "177 - UnivariateRegression with avg smape 13.46: \n",
      "Model Number: 178 of 188 with model ARDL for Validation 2\n",
      "178 - ARDL with avg smape 13.97: \n",
      "Model Number: 179 of 188 with model UnivariateRegression for Validation 2\n",
      "179 - UnivariateRegression with avg smape 19.46: \n",
      "Model Number: 180 of 188 with model UnivariateRegression for Validation 2\n",
      "180 - UnivariateRegression with avg smape 6.12: \n",
      "Model Number: 181 of 188 with model UnivariateRegression for Validation 2\n"
     ]
    },
    {
     "name": "stderr",
     "output_type": "stream",
     "text": [
      "E:\\Programs\\Anaconda 2023\\Lib\\site-packages\\sklearn\\linear_model\\_ridge.py:211: LinAlgWarning:\n",
      "\n",
      "Ill-conditioned matrix (rcond=1.18736e-25): result may not be accurate.\n",
      "\n"
     ]
    },
    {
     "name": "stdout",
     "output_type": "stream",
     "text": [
      "181 - UnivariateRegression with avg smape 5.98: \n",
      "Model Number: 182 of 188 with model UnivariateRegression for Validation 2\n",
      "182 - UnivariateRegression with avg smape 5.89: \n",
      "Model Number: 183 of 188 with model ARDL for Validation 2\n",
      "183 - ARDL with avg smape 12.7: \n",
      "Model Number: 184 of 188 with model UnivariateRegression for Validation 2\n",
      "184 - UnivariateRegression with avg smape 5.92: \n",
      "Model Number: 185 of 188 with model ARDL for Validation 2\n",
      "185 - ARDL with avg smape 12.72: \n",
      "Model Number: 186 of 188 with model ARDL for Validation 2\n",
      "186 - ARDL with avg smape 12.68: \n",
      "Model Number: 187 of 188 with model ARDL for Validation 2\n",
      "187 - ARDL with avg smape 12.89: \n",
      "Model Number: 188 of 188 with model ARDL for Validation 2\n",
      "188 - ARDL with avg smape 23.46: \n",
      "Validation Round: 3\n",
      "Model Number: 1 of 188 with model Ensemble for Validation 3\n",
      "📈 1 - Ensemble with avg smape 14.96: \n",
      "Model Number: 2 of 188 with model Ensemble for Validation 3\n"
     ]
    },
    {
     "name": "stderr",
     "output_type": "stream",
     "text": [
      "C:\\Users\\mizof\\AppData\\Roaming\\Python\\Python311\\site-packages\\autots\\tools\\percentile.py:47: RuntimeWarning:\n",
      "\n",
      "All-NaN slice encountered\n",
      "\n",
      "C:\\Users\\mizof\\AppData\\Roaming\\Python\\Python311\\site-packages\\autots\\tools\\percentile.py:47: RuntimeWarning:\n",
      "\n",
      "All-NaN slice encountered\n",
      "\n"
     ]
    },
    {
     "name": "stdout",
     "output_type": "stream",
     "text": [
      "2 - Ensemble with avg smape 15.82: \n",
      "Model Number: 3 of 188 with model Ensemble for Validation 3\n",
      "3 - Ensemble with avg smape 15.88: \n",
      "Model Number: 4 of 188 with model MultivariateMotif for Validation 3\n",
      "📈 4 - MultivariateMotif with avg smape 14.09: \n",
      "Model Number: 5 of 188 with model Ensemble for Validation 3\n"
     ]
    },
    {
     "name": "stderr",
     "output_type": "stream",
     "text": [
      "C:\\Users\\mizof\\AppData\\Roaming\\Python\\Python311\\site-packages\\autots\\tools\\percentile.py:47: RuntimeWarning:\n",
      "\n",
      "All-NaN slice encountered\n",
      "\n",
      "C:\\Users\\mizof\\AppData\\Roaming\\Python\\Python311\\site-packages\\autots\\tools\\percentile.py:47: RuntimeWarning:\n",
      "\n",
      "All-NaN slice encountered\n",
      "\n"
     ]
    },
    {
     "name": "stdout",
     "output_type": "stream",
     "text": [
      "5 - Ensemble with avg smape 14.54: \n",
      "Model Number: 6 of 188 with model MetricMotif for Validation 3\n",
      "6 - MetricMotif with avg smape 15.78: \n",
      "Model Number: 7 of 188 with model Ensemble for Validation 3\n",
      "7 - Ensemble with avg smape 14.68: \n",
      "Model Number: 8 of 188 with model MultivariateMotif for Validation 3\n",
      "8 - MultivariateMotif with avg smape 15.01: \n",
      "Model Number: 9 of 188 with model MultivariateMotif for Validation 3\n",
      "9 - MultivariateMotif with avg smape 14.64: \n",
      "Model Number: 10 of 188 with model MultivariateMotif for Validation 3\n",
      "10 - MultivariateMotif with avg smape 14.36: \n",
      "Model Number: 11 of 188 with model Ensemble for Validation 3\n"
     ]
    },
    {
     "name": "stderr",
     "output_type": "stream",
     "text": [
      "C:\\Users\\mizof\\AppData\\Roaming\\Python\\Python311\\site-packages\\autots\\tools\\percentile.py:47: RuntimeWarning:\n",
      "\n",
      "All-NaN slice encountered\n",
      "\n",
      "C:\\Users\\mizof\\AppData\\Roaming\\Python\\Python311\\site-packages\\autots\\tools\\percentile.py:47: RuntimeWarning:\n",
      "\n",
      "All-NaN slice encountered\n",
      "\n",
      "C:\\Users\\mizof\\AppData\\Roaming\\Python\\Python311\\site-packages\\autots\\tools\\percentile.py:47: RuntimeWarning:\n",
      "\n",
      "All-NaN slice encountered\n",
      "\n"
     ]
    },
    {
     "name": "stdout",
     "output_type": "stream",
     "text": [
      "11 - Ensemble with avg smape 14.24: \n",
      "Model Number: 12 of 188 with model MultivariateMotif for Validation 3\n",
      "12 - MultivariateMotif with avg smape 14.3: \n",
      "Model Number: 13 of 188 with model MultivariateMotif for Validation 3\n",
      "13 - MultivariateMotif with avg smape 17.93: \n",
      "Model Number: 14 of 188 with model UnobservedComponents for Validation 3\n",
      "📈 14 - UnobservedComponents with avg smape 13.72: \n",
      "Model Number: 15 of 188 with model MultivariateMotif for Validation 3\n",
      "15 - MultivariateMotif with avg smape 15.92: \n",
      "Model Number: 16 of 188 with model ETS for Validation 3\n",
      "16 - ETS with avg smape 14.04: \n",
      "Model Number: 17 of 188 with model DatepartRegression for Validation 3\n",
      "17 - DatepartRegression with avg smape 15.28: \n",
      "Model Number: 18 of 188 with model UnobservedComponents for Validation 3\n",
      "18 - UnobservedComponents with avg smape 14.09: \n",
      "Model Number: 19 of 188 with model Theta for Validation 3\n",
      "19 - Theta with avg smape 13.76: \n",
      "Model Number: 20 of 188 with model UnobservedComponents for Validation 3\n",
      "20 - UnobservedComponents with avg smape 14.09: \n",
      "Model Number: 21 of 188 with model WindowRegression for Validation 3\n",
      "21 - WindowRegression with avg smape 17.74: \n",
      "Model Number: 22 of 188 with model WindowRegression for Validation 3\n",
      "22 - WindowRegression with avg smape 17.74: \n",
      "Model Number: 23 of 188 with model Theta for Validation 3\n",
      "23 - Theta with avg smape 14.08: \n",
      "Model Number: 24 of 188 with model ETS for Validation 3\n",
      "📈 24 - ETS with avg smape 13.34: \n",
      "Model Number: 25 of 188 with model ETS for Validation 3\n",
      "25 - ETS with avg smape 13.34: \n",
      "Model Number: 26 of 188 with model DatepartRegression for Validation 3\n",
      "26 - DatepartRegression with avg smape 15.42: \n",
      "Model Number: 27 of 188 with model LastValueNaive for Validation 3\n",
      "27 - LastValueNaive with avg smape 14.09: \n",
      "Model Number: 28 of 188 with model Theta for Validation 3\n",
      "28 - Theta with avg smape 14.07: \n",
      "Model Number: 29 of 188 with model Theta for Validation 3\n",
      "29 - Theta with avg smape 14.07: \n",
      "Model Number: 30 of 188 with model Theta for Validation 3\n",
      "30 - Theta with avg smape 14.07: \n",
      "Model Number: 31 of 188 with model Theta for Validation 3\n",
      "31 - Theta with avg smape 14.08: \n",
      "Model Number: 32 of 188 with model Theta for Validation 3\n",
      "32 - Theta with avg smape 14.08: \n",
      "Model Number: 33 of 188 with model Theta for Validation 3\n",
      "33 - Theta with avg smape 14.08: \n",
      "Model Number: 34 of 188 with model Theta for Validation 3\n",
      "34 - Theta with avg smape 14.08: \n",
      "Model Number: 35 of 188 with model MultivariateMotif for Validation 3\n",
      "35 - MultivariateMotif with avg smape 15.29: \n",
      "Model Number: 36 of 188 with model LastValueNaive for Validation 3\n",
      "36 - LastValueNaive with avg smape 14.09: \n",
      "Model Number: 37 of 188 with model LastValueNaive for Validation 3\n",
      "📈 37 - LastValueNaive with avg smape 4.61: \n",
      "Model Number: 38 of 188 with model LastValueNaive for Validation 3\n",
      "38 - LastValueNaive with avg smape 14.09: \n",
      "Model Number: 39 of 188 with model LastValueNaive for Validation 3\n",
      "39 - LastValueNaive with avg smape 14.09: \n",
      "Model Number: 40 of 188 with model LastValueNaive for Validation 3\n",
      "40 - LastValueNaive with avg smape 14.09: \n",
      "Model Number: 41 of 188 with model LastValueNaive for Validation 3\n",
      "41 - LastValueNaive with avg smape 14.09: \n",
      "Model Number: 42 of 188 with model LastValueNaive for Validation 3\n",
      "42 - LastValueNaive with avg smape 14.09: \n",
      "Model Number: 43 of 188 with model ETS for Validation 3\n",
      "43 - ETS with avg smape 14.37: \n",
      "Model Number: 44 of 188 with model ETS for Validation 3\n",
      "44 - ETS with avg smape 14.37: \n",
      "Model Number: 45 of 188 with model ETS for Validation 3\n"
     ]
    },
    {
     "name": "stderr",
     "output_type": "stream",
     "text": [
      "E:\\Programs\\Anaconda 2023\\Lib\\site-packages\\sklearn\\neighbors\\_classification.py:228: DataConversionWarning:\n",
      "\n",
      "A column-vector y was passed when a 1d array was expected. Please change the shape of y to (n_samples,), for example using ravel().\n",
      "\n"
     ]
    },
    {
     "name": "stdout",
     "output_type": "stream",
     "text": [
      "45 - ETS with avg smape 14.09: \n",
      "Model Number: 46 of 188 with model ETS for Validation 3\n",
      "46 - ETS with avg smape 14.09: \n",
      "Model Number: 47 of 188 with model ETS for Validation 3\n",
      "47 - ETS with avg smape 14.09: \n",
      "Model Number: 48 of 188 with model MultivariateRegression for Validation 3\n"
     ]
    },
    {
     "name": "stderr",
     "output_type": "stream",
     "text": [
      "E:\\Programs\\Anaconda 2023\\Lib\\site-packages\\sklearn\\linear_model\\_ridge.py:211: LinAlgWarning:\n",
      "\n",
      "Ill-conditioned matrix (rcond=1.74617e-25): result may not be accurate.\n",
      "\n",
      "E:\\Programs\\Anaconda 2023\\Lib\\site-packages\\sklearn\\svm\\_classes.py:32: FutureWarning:\n",
      "\n",
      "The default value of `dual` will change from `True` to `'auto'` in 1.5. Set the value of `dual` explicitly to suppress the warning.\n",
      "\n",
      "E:\\Programs\\Anaconda 2023\\Lib\\site-packages\\sklearn\\svm\\_base.py:1242: ConvergenceWarning:\n",
      "\n",
      "Liblinear failed to converge, increase the number of iterations.\n",
      "\n"
     ]
    },
    {
     "name": "stdout",
     "output_type": "stream",
     "text": [
      "📈 48 - MultivariateRegression with avg smape 2.28: \n",
      "Model Number: 49 of 188 with model ETS for Validation 3\n",
      "49 - ETS with avg smape 14.09: \n",
      "Model Number: 50 of 188 with model MultivariateMotif for Validation 3\n",
      "50 - MultivariateMotif with avg smape 16.39: \n",
      "Model Number: 51 of 188 with model LastValueNaive for Validation 3\n",
      "51 - LastValueNaive with avg smape 4.61: \n",
      "Model Number: 52 of 188 with model GLS for Validation 3\n",
      "52 - GLS with avg smape 12.91: \n",
      "Model Number: 53 of 188 with model DatepartRegression for Validation 3\n",
      "53 - DatepartRegression with avg smape 11.83: \n",
      "Model Number: 54 of 188 with model AverageValueNaive for Validation 3\n",
      "54 - AverageValueNaive with avg smape 16.09: \n",
      "Model Number: 55 of 188 with model DatepartRegression for Validation 3\n"
     ]
    },
    {
     "name": "stderr",
     "output_type": "stream",
     "text": [
      "E:\\Programs\\Anaconda 2023\\Lib\\site-packages\\sklearn\\neighbors\\_classification.py:228: DataConversionWarning:\n",
      "\n",
      "A column-vector y was passed when a 1d array was expected. Please change the shape of y to (n_samples,), for example using ravel().\n",
      "\n"
     ]
    },
    {
     "name": "stdout",
     "output_type": "stream",
     "text": [
      "55 - DatepartRegression with avg smape 11.34: \n",
      "Model Number: 56 of 188 with model AverageValueNaive for Validation 3\n",
      "56 - AverageValueNaive with avg smape 12.12: \n",
      "Model Number: 57 of 188 with model UnobservedComponents for Validation 3\n",
      "57 - UnobservedComponents with avg smape 12.26: \n",
      "Model Number: 58 of 188 with model AverageValueNaive for Validation 3\n",
      "58 - AverageValueNaive with avg smape 16.07: \n",
      "Model Number: 59 of 188 with model AverageValueNaive for Validation 3\n",
      "59 - AverageValueNaive with avg smape 3.6: \n",
      "Model Number: 60 of 188 with model UnobservedComponents for Validation 3\n"
     ]
    },
    {
     "name": "stderr",
     "output_type": "stream",
     "text": [
      "E:\\Programs\\Anaconda 2023\\Lib\\site-packages\\sklearn\\neighbors\\_classification.py:228: DataConversionWarning:\n",
      "\n",
      "A column-vector y was passed when a 1d array was expected. Please change the shape of y to (n_samples,), for example using ravel().\n",
      "\n",
      "E:\\Programs\\Anaconda 2023\\Lib\\site-packages\\sklearn\\neighbors\\_classification.py:228: DataConversionWarning:\n",
      "\n",
      "A column-vector y was passed when a 1d array was expected. Please change the shape of y to (n_samples,), for example using ravel().\n",
      "\n"
     ]
    },
    {
     "name": "stdout",
     "output_type": "stream",
     "text": [
      "60 - UnobservedComponents with avg smape 12.31: \n",
      "Model Number: 61 of 188 with model UnobservedComponents for Validation 3\n",
      "61 - UnobservedComponents with avg smape 12.31: \n",
      "Model Number: 62 of 188 with model UnobservedComponents for Validation 3\n",
      "62 - UnobservedComponents with avg smape 12.31: \n",
      "Model Number: 63 of 188 with model AverageValueNaive for Validation 3\n",
      "63 - AverageValueNaive with avg smape 3.6: \n",
      "Model Number: 64 of 188 with model UnobservedComponents for Validation 3\n"
     ]
    },
    {
     "name": "stderr",
     "output_type": "stream",
     "text": [
      "E:\\Programs\\Anaconda 2023\\Lib\\site-packages\\sklearn\\neighbors\\_classification.py:228: DataConversionWarning:\n",
      "\n",
      "A column-vector y was passed when a 1d array was expected. Please change the shape of y to (n_samples,), for example using ravel().\n",
      "\n"
     ]
    },
    {
     "name": "stdout",
     "output_type": "stream",
     "text": [
      "64 - UnobservedComponents with avg smape 13.29: \n",
      "Model Number: 65 of 188 with model AverageValueNaive for Validation 3\n",
      "65 - AverageValueNaive with avg smape 16.07: \n",
      "Model Number: 66 of 188 with model UnobservedComponents for Validation 3\n"
     ]
    },
    {
     "name": "stderr",
     "output_type": "stream",
     "text": [
      "E:\\Programs\\Anaconda 2023\\Lib\\site-packages\\sklearn\\neighbors\\_classification.py:228: DataConversionWarning:\n",
      "\n",
      "A column-vector y was passed when a 1d array was expected. Please change the shape of y to (n_samples,), for example using ravel().\n",
      "\n"
     ]
    },
    {
     "name": "stdout",
     "output_type": "stream",
     "text": [
      "66 - UnobservedComponents with avg smape 12.27: \n",
      "Model Number: 67 of 188 with model GLS for Validation 3\n",
      "67 - GLS with avg smape 12.26: \n",
      "Model Number: 68 of 188 with model GLS for Validation 3\n",
      "68 - GLS with avg smape 12.26: \n",
      "Model Number: 69 of 188 with model AverageValueNaive for Validation 3\n",
      "69 - AverageValueNaive with avg smape 12.26: \n",
      "Model Number: 70 of 188 with model DatepartRegression for Validation 3\n"
     ]
    },
    {
     "name": "stderr",
     "output_type": "stream",
     "text": [
      "E:\\Programs\\Anaconda 2023\\Lib\\site-packages\\sklearn\\neighbors\\_classification.py:228: DataConversionWarning:\n",
      "\n",
      "A column-vector y was passed when a 1d array was expected. Please change the shape of y to (n_samples,), for example using ravel().\n",
      "\n"
     ]
    },
    {
     "name": "stdout",
     "output_type": "stream",
     "text": [
      "70 - DatepartRegression with avg smape 10.03: \n",
      "Model Number: 71 of 188 with model NVAR for Validation 3\n",
      "71 - NVAR with avg smape 15.86: \n",
      "Model Number: 72 of 188 with model AverageValueNaive for Validation 3\n",
      "72 - AverageValueNaive with avg smape 3.6: \n",
      "Model Number: 73 of 188 with model SeasonalNaive for Validation 3\n",
      "73 - SeasonalNaive with avg smape 11.74: \n",
      "Model Number: 74 of 188 with model ARIMA for Validation 3\n",
      "74 - ARIMA with avg smape 3.65: \n",
      "Model Number: 75 of 188 with model AverageValueNaive for Validation 3\n",
      "75 - AverageValueNaive with avg smape 3.6: \n",
      "Model Number: 76 of 188 with model GLS for Validation 3\n",
      "76 - GLS with avg smape 12.26: \n",
      "Model Number: 77 of 188 with model GLM for Validation 3\n",
      "77 - GLM with avg smape 12.3: \n",
      "Model Number: 78 of 188 with model GLM for Validation 3\n",
      "78 - GLM with avg smape 12.26: \n",
      "Model Number: 79 of 188 with model GLM for Validation 3\n"
     ]
    },
    {
     "name": "stderr",
     "output_type": "stream",
     "text": [
      "E:\\Programs\\Anaconda 2023\\Lib\\site-packages\\statsmodels\\genmod\\generalized_linear_model.py:307: DomainWarning:\n",
      "\n",
      "The InversePower link function does not respect the domain of the Gamma family.\n",
      "\n"
     ]
    },
    {
     "name": "stdout",
     "output_type": "stream",
     "text": [
      "79 - GLM with avg smape 12.21: \n",
      "Model Number: 80 of 188 with model UnivariateMotif for Validation 3\n",
      "80 - UnivariateMotif with avg smape 2.7: \n",
      "Model Number: 81 of 188 with model GLS for Validation 3\n",
      "81 - GLS with avg smape 12.26: \n",
      "Model Number: 82 of 188 with model GLS for Validation 3\n",
      "82 - GLS with avg smape 12.26: \n",
      "Model Number: 83 of 188 with model GLS for Validation 3\n",
      "83 - GLS with avg smape 12.26: \n",
      "Model Number: 84 of 188 with model GLS for Validation 3\n",
      "84 - GLS with avg smape 12.26: \n",
      "Model Number: 85 of 188 with model GLS for Validation 3\n",
      "85 - GLS with avg smape 12.26: \n",
      "Model Number: 86 of 188 with model ConstantNaive for Validation 3\n",
      "86 - ConstantNaive with avg smape 14.04: \n",
      "Model Number: 87 of 188 with model SeasonalNaive for Validation 3\n",
      "87 - SeasonalNaive with avg smape 12.02: \n",
      "Model Number: 88 of 188 with model GLM for Validation 3\n",
      "88 - GLM with avg smape 12.24: \n",
      "Model Number: 89 of 188 with model NVAR for Validation 3\n",
      "89 - NVAR with avg smape 4.66: \n",
      "Model Number: 90 of 188 with model NVAR for Validation 3\n",
      "90 - NVAR with avg smape 4.66: \n",
      "Model Number: 91 of 188 with model NVAR for Validation 3\n",
      "91 - NVAR with avg smape 4.7: \n",
      "Model Number: 92 of 188 with model NVAR for Validation 3\n",
      "92 - NVAR with avg smape 4.7: \n",
      "Model Number: 93 of 188 with model NVAR for Validation 3\n",
      "93 - NVAR with avg smape 4.84: \n",
      "Model Number: 94 of 188 with model NVAR for Validation 3\n",
      "94 - NVAR with avg smape 4.84: \n",
      "Model Number: 95 of 188 with model NVAR for Validation 3\n",
      "95 - NVAR with avg smape 4.84: \n",
      "Model Number: 96 of 188 with model NVAR for Validation 3\n",
      "96 - NVAR with avg smape 4.84: \n",
      "Model Number: 97 of 188 with model ARIMA for Validation 3\n",
      "97 - ARIMA with avg smape 3.59: \n",
      "Model Number: 98 of 188 with model ConstantNaive for Validation 3\n",
      "98 - ConstantNaive with avg smape 3.6: \n",
      "Model Number: 99 of 188 with model ConstantNaive for Validation 3\n",
      "99 - ConstantNaive with avg smape 3.6: \n",
      "Model Number: 100 of 188 with model ConstantNaive for Validation 3\n",
      "100 - ConstantNaive with avg smape 3.6: \n",
      "Model Number: 101 of 188 with model ConstantNaive for Validation 3\n",
      "101 - ConstantNaive with avg smape 3.6: \n",
      "Model Number: 102 of 188 with model ARIMA for Validation 3\n",
      "102 - ARIMA with avg smape 3.63: \n",
      "Model Number: 103 of 188 with model ARIMA for Validation 3\n",
      "103 - ARIMA with avg smape 3.63: \n",
      "Model Number: 104 of 188 with model SeasonalNaive for Validation 3\n",
      "104 - SeasonalNaive with avg smape 13.63: \n",
      "Model Number: 105 of 188 with model SeasonalNaive for Validation 3\n",
      "105 - SeasonalNaive with avg smape 13.2: \n",
      "Model Number: 106 of 188 with model SeasonalNaive for Validation 3\n"
     ]
    },
    {
     "name": "stderr",
     "output_type": "stream",
     "text": [
      "E:\\Programs\\Anaconda 2023\\Lib\\site-packages\\sklearn\\neighbors\\_classification.py:228: DataConversionWarning:\n",
      "\n",
      "A column-vector y was passed when a 1d array was expected. Please change the shape of y to (n_samples,), for example using ravel().\n",
      "\n"
     ]
    },
    {
     "name": "stdout",
     "output_type": "stream",
     "text": [
      "106 - SeasonalNaive with avg smape 13.18: \n",
      "Model Number: 107 of 188 with model ARIMA for Validation 3\n",
      "107 - ARIMA with avg smape 12.25: \n",
      "Model Number: 108 of 188 with model ARIMA for Validation 3\n",
      "108 - ARIMA with avg smape 12.25: \n",
      "Model Number: 109 of 188 with model SectionalMotif for Validation 3\n",
      "109 - SectionalMotif with avg smape 3.72: \n",
      "Model Number: 110 of 188 with model ARIMA for Validation 3\n",
      "110 - ARIMA with avg smape 3.42: \n",
      "Model Number: 111 of 188 with model ARIMA for Validation 3\n",
      "111 - ARIMA with avg smape 3.6: \n",
      "Model Number: 112 of 188 with model MetricMotif for Validation 3\n",
      "112 - MetricMotif with avg smape 3.78: \n",
      "Model Number: 113 of 188 with model ARIMA for Validation 3\n",
      "113 - ARIMA with avg smape 3.64: \n",
      "Model Number: 114 of 188 with model SectionalMotif for Validation 3\n",
      "114 - SectionalMotif with avg smape 5.84: \n",
      "Model Number: 115 of 188 with model SectionalMotif for Validation 3\n",
      "115 - SectionalMotif with avg smape 5.84: \n",
      "Model Number: 116 of 188 with model DatepartRegression for Validation 3\n",
      "116 - DatepartRegression with avg smape 6.15: \n",
      "Model Number: 117 of 188 with model UnivariateMotif for Validation 3\n",
      "117 - UnivariateMotif with avg smape 7.78: \n",
      "Model Number: 118 of 188 with model SeasonalNaive for Validation 3\n",
      "118 - SeasonalNaive with avg smape 15.28: \n",
      "Model Number: 119 of 188 with model MetricMotif for Validation 3\n",
      "119 - MetricMotif with avg smape 3.18: \n",
      "Model Number: 120 of 188 with model GLM for Validation 3\n",
      "120 - GLM with avg smape 14.04: \n",
      "Model Number: 121 of 188 with model ConstantNaive for Validation 3\n",
      "121 - ConstantNaive with avg smape 14.35: \n",
      "Model Number: 122 of 188 with model MetricMotif for Validation 3\n",
      "122 - MetricMotif with avg smape 16.95: \n",
      "Model Number: 123 of 188 with model MetricMotif for Validation 3\n"
     ]
    },
    {
     "name": "stderr",
     "output_type": "stream",
     "text": [
      "E:\\Programs\\Anaconda 2023\\Lib\\site-packages\\statsmodels\\genmod\\generalized_linear_model.py:307: DomainWarning:\n",
      "\n",
      "The InversePower link function does not respect the domain of the Gamma family.\n",
      "\n"
     ]
    },
    {
     "name": "stdout",
     "output_type": "stream",
     "text": [
      "123 - MetricMotif with avg smape 16.95: \n",
      "Model Number: 124 of 188 with model SeasonalNaive for Validation 3\n",
      "124 - SeasonalNaive with avg smape 15.23: \n",
      "Model Number: 125 of 188 with model ConstantNaive for Validation 3\n",
      "125 - ConstantNaive with avg smape 12.26: \n",
      "Model Number: 126 of 188 with model ConstantNaive for Validation 3\n",
      "126 - ConstantNaive with avg smape 12.26: \n",
      "Model Number: 127 of 188 with model ConstantNaive for Validation 3\n",
      "127 - ConstantNaive with avg smape 12.26: \n",
      "Model Number: 128 of 188 with model UnivariateMotif for Validation 3\n",
      "128 - UnivariateMotif with avg smape 24.83: \n",
      "Model Number: 129 of 188 with model SectionalMotif for Validation 3\n",
      "129 - SectionalMotif with avg smape 3.71: \n",
      "Model Number: 130 of 188 with model UnivariateMotif for Validation 3\n",
      "📈 130 - UnivariateMotif with avg smape 2.01: \n",
      "Model Number: 131 of 188 with model GLM for Validation 3\n",
      "131 - GLM with avg smape 14.04: \n",
      "Model Number: 132 of 188 with model WindowRegression for Validation 3\n"
     ]
    },
    {
     "name": "stderr",
     "output_type": "stream",
     "text": [
      "E:\\Programs\\Anaconda 2023\\Lib\\site-packages\\statsmodels\\genmod\\families\\links.py:198: RuntimeWarning:\n",
      "\n",
      "overflow encountered in exp\n",
      "\n"
     ]
    },
    {
     "name": "stdout",
     "output_type": "stream",
     "text": [
      "132 - WindowRegression with avg smape 18.55: \n",
      "Model Number: 133 of 188 with model MetricMotif for Validation 3\n",
      "133 - MetricMotif with avg smape 7.46: \n",
      "Model Number: 134 of 188 with model UnivariateMotif for Validation 3\n"
     ]
    },
    {
     "name": "stderr",
     "output_type": "stream",
     "text": [
      "C:\\Users\\mizof\\AppData\\Roaming\\Python\\Python311\\site-packages\\autots\\tools\\thresholding.py:204: RuntimeWarning:\n",
      "\n",
      "overflow encountered in scalar power\n",
      "\n"
     ]
    },
    {
     "name": "stdout",
     "output_type": "stream",
     "text": [
      "134 - UnivariateMotif with avg smape 4.07: \n",
      "Model Number: 135 of 188 with model UnivariateMotif for Validation 3\n",
      "135 - UnivariateMotif with avg smape 4.18: \n",
      "Model Number: 136 of 188 with model Ensemble for Validation 3\n",
      "136 - Ensemble with avg smape 2.56: \n",
      "Model Number: 137 of 188 with model MetricMotif for Validation 3\n",
      "📈 137 - MetricMotif with avg smape 1.67: \n",
      "Model Number: 138 of 188 with model SectionalMotif for Validation 3\n",
      "138 - SectionalMotif with avg smape 14.44: \n",
      "Model Number: 139 of 188 with model MetricMotif for Validation 3\n",
      "139 - MetricMotif with avg smape 2.43: \n",
      "Model Number: 140 of 188 with model SectionalMotif for Validation 3\n",
      "140 - SectionalMotif with avg smape 13.75: \n",
      "Model Number: 141 of 188 with model MetricMotif for Validation 3\n",
      "141 - MetricMotif with avg smape 6.79: \n",
      "Model Number: 142 of 188 with model UnivariateMotif for Validation 3\n",
      "142 - UnivariateMotif with avg smape 10.79: \n",
      "Model Number: 143 of 188 with model UnivariateMotif for Validation 3\n",
      "143 - UnivariateMotif with avg smape 2.84: \n",
      "Model Number: 144 of 188 with model UnivariateMotif for Validation 3\n",
      "144 - UnivariateMotif with avg smape 4.21: \n",
      "Model Number: 145 of 188 with model WindowRegression for Validation 3\n",
      "145 - WindowRegression with avg smape 4.44: \n",
      "Model Number: 146 of 188 with model MultivariateRegression for Validation 3\n",
      "146 - MultivariateRegression with avg smape 1.95: \n",
      "Model Number: 147 of 188 with model Ensemble for Validation 3\n"
     ]
    },
    {
     "name": "stderr",
     "output_type": "stream",
     "text": [
      "C:\\Users\\mizof\\AppData\\Roaming\\Python\\Python311\\site-packages\\autots\\tools\\percentile.py:47: RuntimeWarning:\n",
      "\n",
      "All-NaN slice encountered\n",
      "\n"
     ]
    },
    {
     "name": "stdout",
     "output_type": "stream",
     "text": [
      "147 - Ensemble with avg smape 2.67: \n",
      "Model Number: 148 of 188 with model DatepartRegression for Validation 3\n",
      "148 - DatepartRegression with avg smape 3.04: \n",
      "Model Number: 149 of 188 with model SeasonalNaive for Validation 3\n",
      "149 - SeasonalNaive with avg smape 5.22: \n",
      "Model Number: 150 of 188 with model SectionalMotif for Validation 3\n",
      "150 - SectionalMotif with avg smape 3.91: \n",
      "Model Number: 151 of 188 with model MultivariateRegression for Validation 3\n",
      "151 - MultivariateRegression with avg smape 4.3: \n",
      "Model Number: 152 of 188 with model SeasonalNaive for Validation 3\n",
      "152 - SeasonalNaive with avg smape 3.75: \n",
      "Model Number: 153 of 188 with model DatepartRegression for Validation 3\n",
      "153 - DatepartRegression with avg smape 3.35: \n",
      "Model Number: 154 of 188 with model DatepartRegression for Validation 3\n",
      "154 - DatepartRegression with avg smape 3.35: \n",
      "Model Number: 155 of 188 with model GLM for Validation 3\n",
      "155 - GLM with avg smape 2.67: \n",
      "Model Number: 156 of 188 with model WindowRegression for Validation 3\n",
      "156 - WindowRegression with avg smape 2.8: \n",
      "Model Number: 157 of 188 with model MultivariateRegression for Validation 3\n"
     ]
    },
    {
     "name": "stderr",
     "output_type": "stream",
     "text": [
      "E:\\Programs\\Anaconda 2023\\Lib\\site-packages\\statsmodels\\genmod\\generalized_linear_model.py:307: DomainWarning:\n",
      "\n",
      "The InversePower link function does not respect the domain of the Gamma family.\n",
      "\n"
     ]
    },
    {
     "name": "stdout",
     "output_type": "stream",
     "text": [
      "157 - MultivariateRegression with avg smape 5.1: \n",
      "Model Number: 158 of 188 with model WindowRegression for Validation 3\n",
      "158 - WindowRegression with avg smape 2.08: \n",
      "Model Number: 159 of 188 with model SectionalMotif for Validation 3\n",
      "📈 159 - SectionalMotif with avg smape 1.59: \n",
      "Model Number: 160 of 188 with model MultivariateRegression for Validation 3\n",
      "160 - MultivariateRegression with avg smape 15.05: \n",
      "Model Number: 161 of 188 with model ARDL for Validation 3\n",
      "161 - ARDL with avg smape 16.42: \n",
      "Model Number: 162 of 188 with model GLM for Validation 3\n"
     ]
    },
    {
     "name": "stderr",
     "output_type": "stream",
     "text": [
      "E:\\Programs\\Anaconda 2023\\Lib\\site-packages\\statsmodels\\genmod\\families\\links.py:198: RuntimeWarning:\n",
      "\n",
      "overflow encountered in exp\n",
      "\n"
     ]
    },
    {
     "name": "stdout",
     "output_type": "stream",
     "text": [
      "162 - GLM with avg smape 2.67: \n",
      "Model Number: 163 of 188 with model WindowRegression for Validation 3\n",
      "163 - WindowRegression with avg smape 3.4: \n",
      "Model Number: 164 of 188 with model WindowRegression for Validation 3\n",
      "164 - WindowRegression with avg smape 6.04: \n",
      "Model Number: 165 of 188 with model GLM for Validation 3\n",
      "165 - GLM with avg smape 5.66: \n",
      "Model Number: 166 of 188 with model ARDL for Validation 3\n",
      "166 - ARDL with avg smape 4.3: \n",
      "Model Number: 167 of 188 with model WindowRegression for Validation 3\n",
      "167 - WindowRegression with avg smape 4.84: \n",
      "Model Number: 168 of 188 with model MultivariateRegression for Validation 3\n",
      "168 - MultivariateRegression with avg smape 2.19: \n",
      "Model Number: 169 of 188 with model SectionalMotif for Validation 3\n",
      "169 - SectionalMotif with avg smape 14.2: \n",
      "Model Number: 170 of 188 with model UnivariateRegression for Validation 3\n",
      "170 - UnivariateRegression with avg smape 4.19: \n",
      "Model Number: 171 of 188 with model ARDL for Validation 3\n",
      "171 - ARDL with avg smape 17.09: \n",
      "Model Number: 172 of 188 with model MultivariateRegression for Validation 3\n",
      "172 - MultivariateRegression with avg smape 8.0: \n",
      "Model Number: 173 of 188 with model MultivariateRegression for Validation 3\n"
     ]
    },
    {
     "name": "stderr",
     "output_type": "stream",
     "text": [
      "E:\\Programs\\Anaconda 2023\\Lib\\site-packages\\sklearn\\svm\\_classes.py:32: FutureWarning:\n",
      "\n",
      "The default value of `dual` will change from `True` to `'auto'` in 1.5. Set the value of `dual` explicitly to suppress the warning.\n",
      "\n",
      "E:\\Programs\\Anaconda 2023\\Lib\\site-packages\\sklearn\\svm\\_base.py:1242: ConvergenceWarning:\n",
      "\n",
      "Liblinear failed to converge, increase the number of iterations.\n",
      "\n"
     ]
    },
    {
     "name": "stdout",
     "output_type": "stream",
     "text": [
      "173 - MultivariateRegression with avg smape 37.62: \n",
      "Model Number: 174 of 188 with model MultivariateRegression for Validation 3\n",
      "174 - MultivariateRegression with avg smape 37.93: \n",
      "Model Number: 175 of 188 with model UnivariateRegression for Validation 3\n",
      "175 - UnivariateRegression with avg smape 17.95: \n",
      "Model Number: 176 of 188 with model UnivariateRegression for Validation 3\n",
      "176 - UnivariateRegression with avg smape 3.57: \n",
      "Model Number: 177 of 188 with model UnivariateRegression for Validation 3\n",
      "177 - UnivariateRegression with avg smape 3.57: \n",
      "Model Number: 178 of 188 with model ARDL for Validation 3\n",
      "178 - ARDL with avg smape 5.21: \n",
      "Model Number: 179 of 188 with model UnivariateRegression for Validation 3\n",
      "179 - UnivariateRegression with avg smape 8.29: \n",
      "Model Number: 180 of 188 with model UnivariateRegression for Validation 3\n",
      "180 - UnivariateRegression with avg smape 18.85: \n",
      "Model Number: 181 of 188 with model UnivariateRegression for Validation 3\n"
     ]
    },
    {
     "name": "stderr",
     "output_type": "stream",
     "text": [
      "E:\\Programs\\Anaconda 2023\\Lib\\site-packages\\sklearn\\linear_model\\_ridge.py:211: LinAlgWarning:\n",
      "\n",
      "Ill-conditioned matrix (rcond=1.25051e-25): result may not be accurate.\n",
      "\n"
     ]
    },
    {
     "name": "stdout",
     "output_type": "stream",
     "text": [
      "181 - UnivariateRegression with avg smape 18.89: \n",
      "Model Number: 182 of 188 with model UnivariateRegression for Validation 3\n",
      "182 - UnivariateRegression with avg smape 18.68: \n",
      "Model Number: 183 of 188 with model ARDL for Validation 3\n",
      "183 - ARDL with avg smape 3.62: \n",
      "Model Number: 184 of 188 with model UnivariateRegression for Validation 3\n",
      "184 - UnivariateRegression with avg smape 19.37: \n",
      "Model Number: 185 of 188 with model ARDL for Validation 3\n",
      "185 - ARDL with avg smape 3.94: \n",
      "Model Number: 186 of 188 with model ARDL for Validation 3\n",
      "186 - ARDL with avg smape 3.33: \n",
      "Model Number: 187 of 188 with model ARDL for Validation 3\n",
      "187 - ARDL with avg smape 14.63: \n",
      "Model Number: 188 of 188 with model ARDL for Validation 3\n",
      "188 - ARDL with avg smape 14.79: \n",
      "Model Number: 1834 with model Ensemble in generation 12 of Ensembles\n",
      "Model Number: 1835 with model Ensemble in generation 12 of Ensembles\n",
      "Model Number: 1836 with model Ensemble in generation 12 of Ensembles\n",
      "Model Number: 1837 with model Ensemble in generation 12 of Ensembles\n",
      "Model Number: 1838 with model Ensemble in generation 12 of Ensembles\n",
      "Model Number: 1839 with model Ensemble in generation 12 of Ensembles\n",
      "Model Number: 1840 with model Ensemble in generation 12 of Ensembles\n",
      "Model Number: 1841 with model Ensemble in generation 12 of Ensembles\n",
      "Validation Round: 1\n",
      "Model Number: 1 of 8 with model Ensemble for Validation 1\n",
      "📈 1 - Ensemble with avg smape 3.06: \n",
      "Model Number: 2 of 8 with model Ensemble for Validation 1\n",
      "📈 2 - Ensemble with avg smape 2.7: \n",
      "Model Number: 3 of 8 with model Ensemble for Validation 1\n",
      "3 - Ensemble with avg smape 3.06: \n",
      "Model Number: 4 of 8 with model Ensemble for Validation 1\n",
      "4 - Ensemble with avg smape 2.88: \n",
      "Model Number: 5 of 8 with model Ensemble for Validation 1\n",
      "5 - Ensemble with avg smape 2.79: \n",
      "Model Number: 6 of 8 with model Ensemble for Validation 1\n",
      "📈 6 - Ensemble with avg smape 2.65: \n",
      "Model Number: 7 of 8 with model Ensemble for Validation 1\n",
      "7 - Ensemble with avg smape 2.83: \n",
      "Model Number: 8 of 8 with model Ensemble for Validation 1\n",
      "8 - Ensemble with avg smape 2.79: \n",
      "Validation Round: 2\n",
      "Model Number: 1 of 8 with model Ensemble for Validation 2\n",
      "📈 1 - Ensemble with avg smape 4.15: \n",
      "Model Number: 2 of 8 with model Ensemble for Validation 2\n",
      "2 - Ensemble with avg smape 4.45: \n",
      "Model Number: 3 of 8 with model Ensemble for Validation 2\n",
      "3 - Ensemble with avg smape 4.15: \n",
      "Model Number: 4 of 8 with model Ensemble for Validation 2\n",
      "4 - Ensemble with avg smape 4.78: \n",
      "Model Number: 5 of 8 with model Ensemble for Validation 2\n",
      "📈 5 - Ensemble with avg smape 4.01: \n",
      "Model Number: 6 of 8 with model Ensemble for Validation 2\n",
      "6 - Ensemble with avg smape 4.55: \n",
      "Model Number: 7 of 8 with model Ensemble for Validation 2\n",
      "📈 7 - Ensemble with avg smape 4.0: \n",
      "Model Number: 8 of 8 with model Ensemble for Validation 2\n",
      "8 - Ensemble with avg smape 4.01: \n",
      "Validation Round: 3\n",
      "Model Number: 1 of 8 with model Ensemble for Validation 3\n",
      "📈 1 - Ensemble with avg smape 9.24: \n",
      "Model Number: 2 of 8 with model Ensemble for Validation 3\n",
      "2 - Ensemble with avg smape 12.01: \n",
      "Model Number: 3 of 8 with model Ensemble for Validation 3\n",
      "3 - Ensemble with avg smape 9.24: \n",
      "Model Number: 4 of 8 with model Ensemble for Validation 3\n",
      "📈 4 - Ensemble with avg smape 5.99: \n",
      "Model Number: 5 of 8 with model Ensemble for Validation 3\n",
      "5 - Ensemble with avg smape 10.0: \n",
      "Model Number: 6 of 8 with model Ensemble for Validation 3\n",
      "6 - Ensemble with avg smape 11.94: \n",
      "Model Number: 7 of 8 with model Ensemble for Validation 3\n",
      "7 - Ensemble with avg smape 9.86: \n",
      "Model Number: 8 of 8 with model Ensemble for Validation 3\n",
      "8 - Ensemble with avg smape 10.0: \n",
      "None               First\n",
      "2024-01-07  43702.385672\n",
      "2024-01-08  43721.483357\n",
      "2024-01-09  43713.491398\n",
      "2024-01-10  43714.464464\n",
      "2024-01-11  43743.295763\n",
      "2024-01-12  43695.257812\n",
      "2024-01-13  43728.769334\n",
      "2024-01-14  43796.370874\n",
      "2024-01-15  43781.137607\n",
      "2024-01-16  43770.860549\n",
      "2024-01-17  43782.026509\n",
      "2024-01-18  43784.172012\n",
      "2024-01-19  43787.686284\n",
      "2024-01-20  43760.248098\n",
      "2024-01-21  43753.468545\n",
      "2024-01-22  43873.806472\n",
      "2024-01-23  43924.784497\n",
      "2024-01-24  44001.461256\n",
      "2024-01-25  44119.329036\n",
      "2024-01-26  44204.981750\n",
      "2024-01-27  44323.617879\n",
      "2024-01-28  44404.588334\n",
      "2024-01-29  44463.421505\n",
      "2024-01-30  44654.481700\n",
      "2024-01-31  44776.928595\n",
      "2024-02-01  45433.006049\n",
      "2024-02-02  45562.668888\n",
      "2024-02-03  45750.891078\n",
      "2024-02-04  45896.940495\n",
      "2024-02-05  46249.449725\n"
     ]
    }
   ],
   "source": [
    "import pandas as pd\n",
    "import yfinance as yf\n",
    "import plotly.graph_objects as go\n",
    "from autots import AutoTS\n",
    "import datetime\n",
    "from datetime import date,timedelta\n",
    "today = date.today()\n",
    "\n",
    "d1 = today.strftime(\"%Y-%m-%d\")\n",
    "end_date = d1\n",
    "d2 = date.today() - timedelta(days=730)\n",
    "d2 = d2.strftime(\"%Y-%m-%d\")\n",
    "start_date = d2\n",
    "\n",
    "\n",
    "data = yf.download('BTC-USD', start=start_date, progress=False)\n",
    "data[\"Date\"] = data.index\n",
    "data = data[[\"Date\",\"Open\",\"High\",\"Low\",\"Close\",\"Adj Close\",\"Volume\"]]\n",
    "data.reset_index(drop=True, inplace=True)\n",
    "\n",
    "data.shape\n",
    "\n",
    "figure = go.Figure(data=[go.Candlestick(x=data[\"Date\"], open=data[\"Open\"], high=data[\"High\"], low=data[\"Low\"], close=data[\"Close\"])])\n",
    "figure.update_layout(title = \"BTC Price Analysis\", xaxis_rangeslider_visible=False)\n",
    "\n",
    "correlation = data.corr()\n",
    "\n",
    "model=AutoTS(forecast_length=30, frequency='infer',ensemble=\"simple\")\n",
    "model = model.fit(data,date_col='Date',value_col='Close', id_col=\"None\")\n",
    "prediction = model.predict()\n",
    "forecast = prediction.forecast\n",
    "print(forecast)"
   ]
  }
 ],
 "metadata": {
  "kernelspec": {
   "display_name": "Python 3 (ipykernel)",
   "language": "python",
   "name": "python3"
  },
  "language_info": {
   "codemirror_mode": {
    "name": "ipython",
    "version": 3
   },
   "file_extension": ".py",
   "mimetype": "text/x-python",
   "name": "python",
   "nbconvert_exporter": "python",
   "pygments_lexer": "ipython3",
   "version": "3.11.5"
  }
 },
 "nbformat": 4,
 "nbformat_minor": 5
}
